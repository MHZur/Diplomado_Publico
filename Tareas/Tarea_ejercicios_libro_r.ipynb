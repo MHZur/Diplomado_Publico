{
  "nbformat": 4,
  "nbformat_minor": 0,
  "metadata": {
    "colab": {
      "provenance": [],
      "authorship_tag": "ABX9TyNHXBQegZLi3VDkCwQ2XVQo",
      "include_colab_link": true
    },
    "kernelspec": {
      "name": "ir",
      "display_name": "R"
    },
    "language_info": {
      "name": "R"
    }
  },
  "cells": [
    {
      "cell_type": "markdown",
      "metadata": {
        "id": "view-in-github",
        "colab_type": "text"
      },
      "source": [
        "<a href=\"https://colab.research.google.com/github/MHZur/Diplomado_Publico/blob/main/Tareas/Tarea_ejercicios_libro_r.ipynb\" target=\"_parent\"><img src=\"https://colab.research.google.com/assets/colab-badge.svg\" alt=\"Open In Colab\"/></a>"
      ]
    },
    {
      "cell_type": "markdown",
      "source": [
        "#Capítulo 2"
      ],
      "metadata": {
        "id": "2xYI7B2ZvVB6"
      }
    },
    {
      "cell_type": "code",
      "execution_count": 11,
      "metadata": {
        "colab": {
          "base_uri": "https://localhost:8080/"
        },
        "id": "9b_sL2ZYuVKi",
        "outputId": "36034b1a-383c-4326-b303-7a643132014c"
      },
      "outputs": [
        {
          "output_type": "stream",
          "name": "stdout",
          "text": [
            " [1] \"a\" \"b\" \"c\" \"d\" \"e\" \"f\" \"g\" \"h\" \"i\" \"j\" \"k\" \"l\" \"m\" \"n\" \"o\" \"p\" \"q\" \"r\" \"s\"\n",
            "[20] \"t\"\n"
          ]
        }
      ],
      "source": [
        "#1.-Construya un vector con la primeras 20 letras MAYÚSCULAS usando la función LETTERS.\n",
        "vector_letras <- letters[1:20]\n",
        "print(v)"
      ]
    },
    {
      "cell_type": "code",
      "source": [
        "# 2.- Construya una matriz de 10 × 10 con los primeros 100 números positivos pares.\n",
        "matriz <- matrix(seq(from=2, to=200, by=2), nrow=10, ncol=10)\n",
        "matriz"
      ],
      "metadata": {
        "colab": {
          "base_uri": "https://localhost:8080/",
          "height": 348
        },
        "id": "OXZidBwbvjOU",
        "outputId": "f5b44779-692b-4ac4-83c6-251e8a9029d4"
      },
      "execution_count": 8,
      "outputs": [
        {
          "output_type": "display_data",
          "data": {
            "text/html": [
              "<table class=\"dataframe\">\n",
              "<caption>A matrix: 10 × 10 of type dbl</caption>\n",
              "<tbody>\n",
              "\t<tr><td> 2</td><td>22</td><td>42</td><td>62</td><td> 82</td><td>102</td><td>122</td><td>142</td><td>162</td><td>182</td></tr>\n",
              "\t<tr><td> 4</td><td>24</td><td>44</td><td>64</td><td> 84</td><td>104</td><td>124</td><td>144</td><td>164</td><td>184</td></tr>\n",
              "\t<tr><td> 6</td><td>26</td><td>46</td><td>66</td><td> 86</td><td>106</td><td>126</td><td>146</td><td>166</td><td>186</td></tr>\n",
              "\t<tr><td> 8</td><td>28</td><td>48</td><td>68</td><td> 88</td><td>108</td><td>128</td><td>148</td><td>168</td><td>188</td></tr>\n",
              "\t<tr><td>10</td><td>30</td><td>50</td><td>70</td><td> 90</td><td>110</td><td>130</td><td>150</td><td>170</td><td>190</td></tr>\n",
              "\t<tr><td>12</td><td>32</td><td>52</td><td>72</td><td> 92</td><td>112</td><td>132</td><td>152</td><td>172</td><td>192</td></tr>\n",
              "\t<tr><td>14</td><td>34</td><td>54</td><td>74</td><td> 94</td><td>114</td><td>134</td><td>154</td><td>174</td><td>194</td></tr>\n",
              "\t<tr><td>16</td><td>36</td><td>56</td><td>76</td><td> 96</td><td>116</td><td>136</td><td>156</td><td>176</td><td>196</td></tr>\n",
              "\t<tr><td>18</td><td>38</td><td>58</td><td>78</td><td> 98</td><td>118</td><td>138</td><td>158</td><td>178</td><td>198</td></tr>\n",
              "\t<tr><td>20</td><td>40</td><td>60</td><td>80</td><td>100</td><td>120</td><td>140</td><td>160</td><td>180</td><td>200</td></tr>\n",
              "</tbody>\n",
              "</table>\n"
            ],
            "text/markdown": "\nA matrix: 10 × 10 of type dbl\n\n|  2 | 22 | 42 | 62 |  82 | 102 | 122 | 142 | 162 | 182 |\n|  4 | 24 | 44 | 64 |  84 | 104 | 124 | 144 | 164 | 184 |\n|  6 | 26 | 46 | 66 |  86 | 106 | 126 | 146 | 166 | 186 |\n|  8 | 28 | 48 | 68 |  88 | 108 | 128 | 148 | 168 | 188 |\n| 10 | 30 | 50 | 70 |  90 | 110 | 130 | 150 | 170 | 190 |\n| 12 | 32 | 52 | 72 |  92 | 112 | 132 | 152 | 172 | 192 |\n| 14 | 34 | 54 | 74 |  94 | 114 | 134 | 154 | 174 | 194 |\n| 16 | 36 | 56 | 76 |  96 | 116 | 136 | 156 | 176 | 196 |\n| 18 | 38 | 58 | 78 |  98 | 118 | 138 | 158 | 178 | 198 |\n| 20 | 40 | 60 | 80 | 100 | 120 | 140 | 160 | 180 | 200 |\n\n",
            "text/latex": "A matrix: 10 × 10 of type dbl\n\\begin{tabular}{llllllllll}\n\t  2 & 22 & 42 & 62 &  82 & 102 & 122 & 142 & 162 & 182\\\\\n\t  4 & 24 & 44 & 64 &  84 & 104 & 124 & 144 & 164 & 184\\\\\n\t  6 & 26 & 46 & 66 &  86 & 106 & 126 & 146 & 166 & 186\\\\\n\t  8 & 28 & 48 & 68 &  88 & 108 & 128 & 148 & 168 & 188\\\\\n\t 10 & 30 & 50 & 70 &  90 & 110 & 130 & 150 & 170 & 190\\\\\n\t 12 & 32 & 52 & 72 &  92 & 112 & 132 & 152 & 172 & 192\\\\\n\t 14 & 34 & 54 & 74 &  94 & 114 & 134 & 154 & 174 & 194\\\\\n\t 16 & 36 & 56 & 76 &  96 & 116 & 136 & 156 & 176 & 196\\\\\n\t 18 & 38 & 58 & 78 &  98 & 118 & 138 & 158 & 178 & 198\\\\\n\t 20 & 40 & 60 & 80 & 100 & 120 & 140 & 160 & 180 & 200\\\\\n\\end{tabular}\n",
            "text/plain": [
              "      [,1] [,2] [,3] [,4] [,5] [,6] [,7] [,8] [,9] [,10]\n",
              " [1,]  2   22   42   62    82  102  122  142  162  182  \n",
              " [2,]  4   24   44   64    84  104  124  144  164  184  \n",
              " [3,]  6   26   46   66    86  106  126  146  166  186  \n",
              " [4,]  8   28   48   68    88  108  128  148  168  188  \n",
              " [5,] 10   30   50   70    90  110  130  150  170  190  \n",
              " [6,] 12   32   52   72    92  112  132  152  172  192  \n",
              " [7,] 14   34   54   74    94  114  134  154  174  194  \n",
              " [8,] 16   36   56   76    96  116  136  156  176  196  \n",
              " [9,] 18   38   58   78    98  118  138  158  178  198  \n",
              "[10,] 20   40   60   80   100  120  140  160  180  200  "
            ]
          },
          "metadata": {}
        }
      ]
    },
    {
      "cell_type": "code",
      "source": [
        "# 3.- Construya una matriz identidad de dimensión 3×3. Recuerde que una matriz identidad tiene sólo unos en la diagonal principal y los demás elementos son cero.\n",
        "i<-c(1,0,0)\n",
        "j<-c(0,1,0)\n",
        "k<-c(0,0,1)\n",
        "identidad <-data.frame(i,j,k)\n",
        "identidad"
      ],
      "metadata": {
        "colab": {
          "base_uri": "https://localhost:8080/",
          "height": 192
        },
        "id": "Tc5I8B4MvviX",
        "outputId": "38ff9d56-1dd9-40cc-866c-8bfeffd7f90c"
      },
      "execution_count": 9,
      "outputs": [
        {
          "output_type": "display_data",
          "data": {
            "text/html": [
              "<table class=\"dataframe\">\n",
              "<caption>A data.frame: 3 × 3</caption>\n",
              "<thead>\n",
              "\t<tr><th scope=col>i</th><th scope=col>j</th><th scope=col>k</th></tr>\n",
              "\t<tr><th scope=col>&lt;dbl&gt;</th><th scope=col>&lt;dbl&gt;</th><th scope=col>&lt;dbl&gt;</th></tr>\n",
              "</thead>\n",
              "<tbody>\n",
              "\t<tr><td>1</td><td>0</td><td>0</td></tr>\n",
              "\t<tr><td>0</td><td>1</td><td>0</td></tr>\n",
              "\t<tr><td>0</td><td>0</td><td>1</td></tr>\n",
              "</tbody>\n",
              "</table>\n"
            ],
            "text/markdown": "\nA data.frame: 3 × 3\n\n| i &lt;dbl&gt; | j &lt;dbl&gt; | k &lt;dbl&gt; |\n|---|---|---|\n| 1 | 0 | 0 |\n| 0 | 1 | 0 |\n| 0 | 0 | 1 |\n\n",
            "text/latex": "A data.frame: 3 × 3\n\\begin{tabular}{lll}\n i & j & k\\\\\n <dbl> & <dbl> & <dbl>\\\\\n\\hline\n\t 1 & 0 & 0\\\\\n\t 0 & 1 & 0\\\\\n\t 0 & 0 & 1\\\\\n\\end{tabular}\n",
            "text/plain": [
              "  i j k\n",
              "1 1 0 0\n",
              "2 0 1 0\n",
              "3 0 0 1"
            ]
          },
          "metadata": {}
        }
      ]
    },
    {
      "cell_type": "code",
      "source": [
        "# 4.- Construya una lista con los anteriores tres objetos creados.\n",
        "lista <-list(vector_letras, matriz, identidad)\n",
        "lista"
      ],
      "metadata": {
        "colab": {
          "base_uri": "https://localhost:8080/",
          "height": 568
        },
        "id": "aMS_CGGcv-fL",
        "outputId": "2c7b4247-2c2b-4ad5-9847-f0f99062c156"
      },
      "execution_count": 12,
      "outputs": [
        {
          "output_type": "display_data",
          "data": {
            "text/html": [
              "<ol>\n",
              "\t<li><style>\n",
              ".list-inline {list-style: none; margin:0; padding: 0}\n",
              ".list-inline>li {display: inline-block}\n",
              ".list-inline>li:not(:last-child)::after {content: \"\\00b7\"; padding: 0 .5ex}\n",
              "</style>\n",
              "<ol class=list-inline><li>'a'</li><li>'b'</li><li>'c'</li><li>'d'</li><li>'e'</li><li>'f'</li><li>'g'</li><li>'h'</li><li>'i'</li><li>'j'</li><li>'k'</li><li>'l'</li><li>'m'</li><li>'n'</li><li>'o'</li><li>'p'</li><li>'q'</li><li>'r'</li><li>'s'</li><li>'t'</li></ol>\n",
              "</li>\n",
              "\t<li><table class=\"dataframe\">\n",
              "<caption>A matrix: 10 × 10 of type dbl</caption>\n",
              "<tbody>\n",
              "\t<tr><td> 2</td><td>22</td><td>42</td><td>62</td><td> 82</td><td>102</td><td>122</td><td>142</td><td>162</td><td>182</td></tr>\n",
              "\t<tr><td> 4</td><td>24</td><td>44</td><td>64</td><td> 84</td><td>104</td><td>124</td><td>144</td><td>164</td><td>184</td></tr>\n",
              "\t<tr><td> 6</td><td>26</td><td>46</td><td>66</td><td> 86</td><td>106</td><td>126</td><td>146</td><td>166</td><td>186</td></tr>\n",
              "\t<tr><td> 8</td><td>28</td><td>48</td><td>68</td><td> 88</td><td>108</td><td>128</td><td>148</td><td>168</td><td>188</td></tr>\n",
              "\t<tr><td>10</td><td>30</td><td>50</td><td>70</td><td> 90</td><td>110</td><td>130</td><td>150</td><td>170</td><td>190</td></tr>\n",
              "\t<tr><td>12</td><td>32</td><td>52</td><td>72</td><td> 92</td><td>112</td><td>132</td><td>152</td><td>172</td><td>192</td></tr>\n",
              "\t<tr><td>14</td><td>34</td><td>54</td><td>74</td><td> 94</td><td>114</td><td>134</td><td>154</td><td>174</td><td>194</td></tr>\n",
              "\t<tr><td>16</td><td>36</td><td>56</td><td>76</td><td> 96</td><td>116</td><td>136</td><td>156</td><td>176</td><td>196</td></tr>\n",
              "\t<tr><td>18</td><td>38</td><td>58</td><td>78</td><td> 98</td><td>118</td><td>138</td><td>158</td><td>178</td><td>198</td></tr>\n",
              "\t<tr><td>20</td><td>40</td><td>60</td><td>80</td><td>100</td><td>120</td><td>140</td><td>160</td><td>180</td><td>200</td></tr>\n",
              "</tbody>\n",
              "</table>\n",
              "</li>\n",
              "\t<li><table class=\"dataframe\">\n",
              "<caption>A data.frame: 3 × 3</caption>\n",
              "<thead>\n",
              "\t<tr><th scope=col>i</th><th scope=col>j</th><th scope=col>k</th></tr>\n",
              "\t<tr><th scope=col>&lt;dbl&gt;</th><th scope=col>&lt;dbl&gt;</th><th scope=col>&lt;dbl&gt;</th></tr>\n",
              "</thead>\n",
              "<tbody>\n",
              "\t<tr><td>1</td><td>0</td><td>0</td></tr>\n",
              "\t<tr><td>0</td><td>1</td><td>0</td></tr>\n",
              "\t<tr><td>0</td><td>0</td><td>1</td></tr>\n",
              "</tbody>\n",
              "</table>\n",
              "</li>\n",
              "</ol>\n"
            ],
            "text/markdown": "1. 1. 'a'\n2. 'b'\n3. 'c'\n4. 'd'\n5. 'e'\n6. 'f'\n7. 'g'\n8. 'h'\n9. 'i'\n10. 'j'\n11. 'k'\n12. 'l'\n13. 'm'\n14. 'n'\n15. 'o'\n16. 'p'\n17. 'q'\n18. 'r'\n19. 's'\n20. 't'\n\n\n\n2. \nA matrix: 10 × 10 of type dbl\n\n|  2 | 22 | 42 | 62 |  82 | 102 | 122 | 142 | 162 | 182 |\n|  4 | 24 | 44 | 64 |  84 | 104 | 124 | 144 | 164 | 184 |\n|  6 | 26 | 46 | 66 |  86 | 106 | 126 | 146 | 166 | 186 |\n|  8 | 28 | 48 | 68 |  88 | 108 | 128 | 148 | 168 | 188 |\n| 10 | 30 | 50 | 70 |  90 | 110 | 130 | 150 | 170 | 190 |\n| 12 | 32 | 52 | 72 |  92 | 112 | 132 | 152 | 172 | 192 |\n| 14 | 34 | 54 | 74 |  94 | 114 | 134 | 154 | 174 | 194 |\n| 16 | 36 | 56 | 76 |  96 | 116 | 136 | 156 | 176 | 196 |\n| 18 | 38 | 58 | 78 |  98 | 118 | 138 | 158 | 178 | 198 |\n| 20 | 40 | 60 | 80 | 100 | 120 | 140 | 160 | 180 | 200 |\n\n\n3. \nA data.frame: 3 × 3\n\n| i &lt;dbl&gt; | j &lt;dbl&gt; | k &lt;dbl&gt; |\n|---|---|---|\n| 1 | 0 | 0 |\n| 0 | 1 | 0 |\n| 0 | 0 | 1 |\n\n\n\n\n",
            "text/latex": "\\begin{enumerate}\n\\item \\begin{enumerate*}\n\\item 'a'\n\\item 'b'\n\\item 'c'\n\\item 'd'\n\\item 'e'\n\\item 'f'\n\\item 'g'\n\\item 'h'\n\\item 'i'\n\\item 'j'\n\\item 'k'\n\\item 'l'\n\\item 'm'\n\\item 'n'\n\\item 'o'\n\\item 'p'\n\\item 'q'\n\\item 'r'\n\\item 's'\n\\item 't'\n\\end{enumerate*}\n\n\\item A matrix: 10 × 10 of type dbl\n\\begin{tabular}{llllllllll}\n\t  2 & 22 & 42 & 62 &  82 & 102 & 122 & 142 & 162 & 182\\\\\n\t  4 & 24 & 44 & 64 &  84 & 104 & 124 & 144 & 164 & 184\\\\\n\t  6 & 26 & 46 & 66 &  86 & 106 & 126 & 146 & 166 & 186\\\\\n\t  8 & 28 & 48 & 68 &  88 & 108 & 128 & 148 & 168 & 188\\\\\n\t 10 & 30 & 50 & 70 &  90 & 110 & 130 & 150 & 170 & 190\\\\\n\t 12 & 32 & 52 & 72 &  92 & 112 & 132 & 152 & 172 & 192\\\\\n\t 14 & 34 & 54 & 74 &  94 & 114 & 134 & 154 & 174 & 194\\\\\n\t 16 & 36 & 56 & 76 &  96 & 116 & 136 & 156 & 176 & 196\\\\\n\t 18 & 38 & 58 & 78 &  98 & 118 & 138 & 158 & 178 & 198\\\\\n\t 20 & 40 & 60 & 80 & 100 & 120 & 140 & 160 & 180 & 200\\\\\n\\end{tabular}\n\n\\item A data.frame: 3 × 3\n\\begin{tabular}{lll}\n i & j & k\\\\\n <dbl> & <dbl> & <dbl>\\\\\n\\hline\n\t 1 & 0 & 0\\\\\n\t 0 & 1 & 0\\\\\n\t 0 & 0 & 1\\\\\n\\end{tabular}\n\n\\end{enumerate}\n",
            "text/plain": [
              "[[1]]\n",
              " [1] \"a\" \"b\" \"c\" \"d\" \"e\" \"f\" \"g\" \"h\" \"i\" \"j\" \"k\" \"l\" \"m\" \"n\" \"o\" \"p\" \"q\" \"r\" \"s\"\n",
              "[20] \"t\"\n",
              "\n",
              "[[2]]\n",
              "      [,1] [,2] [,3] [,4] [,5] [,6] [,7] [,8] [,9] [,10]\n",
              " [1,]    2   22   42   62   82  102  122  142  162   182\n",
              " [2,]    4   24   44   64   84  104  124  144  164   184\n",
              " [3,]    6   26   46   66   86  106  126  146  166   186\n",
              " [4,]    8   28   48   68   88  108  128  148  168   188\n",
              " [5,]   10   30   50   70   90  110  130  150  170   190\n",
              " [6,]   12   32   52   72   92  112  132  152  172   192\n",
              " [7,]   14   34   54   74   94  114  134  154  174   194\n",
              " [8,]   16   36   56   76   96  116  136  156  176   196\n",
              " [9,]   18   38   58   78   98  118  138  158  178   198\n",
              "[10,]   20   40   60   80  100  120  140  160  180   200\n",
              "\n",
              "[[3]]\n",
              "  i j k\n",
              "1 1 0 0\n",
              "2 0 1 0\n",
              "3 0 0 1\n"
            ]
          },
          "metadata": {}
        }
      ]
    },
    {
      "cell_type": "code",
      "source": [
        "#5.- Construya un marco de datos o data frame con las respuestas de 3 personas a las preguntas: (a) ¿Cuál es su edad en años? (b) ¿Tipo de música que más le gusta? (c) ¿Tiene usted pareja sentimental estable?\n",
        "df <- data.frame(\n",
        "  \"¿Cuál es su edad en años?\" = 20,\n",
        "  \"¿Tipo de música que más le gusta?\" = \"Rock\",\n",
        "  \"¿Tiene usted pareja sentimental estable?\" = \"Sí\"\n",
        ")\n",
        "\n",
        "df"
      ],
      "metadata": {
        "colab": {
          "base_uri": "https://localhost:8080/",
          "height": 129
        },
        "id": "or9yEs_SwKAA",
        "outputId": "214bfd15-ae29-4889-d955-44fdb22b40ee"
      },
      "execution_count": null,
      "outputs": [
        {
          "output_type": "display_data",
          "data": {
            "text/html": [
              "<table class=\"dataframe\">\n",
              "<caption>A data.frame: 1 × 3</caption>\n",
              "<thead>\n",
              "\t<tr><th scope=col>X.Cuál.es.su.edad.en.años.</th><th scope=col>X.Tipo.de.música.que.más.le.gusta.</th><th scope=col>X.Tiene.usted.pareja.sentimental.estable.</th></tr>\n",
              "\t<tr><th scope=col>&lt;dbl&gt;</th><th scope=col>&lt;chr&gt;</th><th scope=col>&lt;chr&gt;</th></tr>\n",
              "</thead>\n",
              "<tbody>\n",
              "\t<tr><td>20</td><td>Rock</td><td>Sí</td></tr>\n",
              "</tbody>\n",
              "</table>\n"
            ],
            "text/markdown": "\nA data.frame: 1 × 3\n\n| X.Cuál.es.su.edad.en.años. &lt;dbl&gt; | X.Tipo.de.música.que.más.le.gusta. &lt;chr&gt; | X.Tiene.usted.pareja.sentimental.estable. &lt;chr&gt; |\n|---|---|---|\n| 20 | Rock | Sí |\n\n",
            "text/latex": "A data.frame: 1 × 3\n\\begin{tabular}{lll}\n X.Cuál.es.su.edad.en.años. & X.Tipo.de.música.que.más.le.gusta. & X.Tiene.usted.pareja.sentimental.estable.\\\\\n <dbl> & <chr> & <chr>\\\\\n\\hline\n\t 20 & Rock & Sí\\\\\n\\end{tabular}\n",
            "text/plain": [
              "  X.Cuál.es.su.edad.en.años. X.Tipo.de.música.que.más.le.gusta.\n",
              "1 20                         Rock                              \n",
              "  X.Tiene.usted.pareja.sentimental.estable.\n",
              "1 Sí                                       "
            ]
          },
          "metadata": {}
        }
      ]
    },
    {
      "cell_type": "code",
      "source": [
        "#6.- ¿Cuál es el error al correr el siguiente código? ¿A qué se debe?\n",
        "edad <- c(15, 19, 13, NA, 20)\n",
        "deporte <- c(TRUE, TRUE, NA, FALSE, TRUE)\n",
        "comic_fav <- c(NA, 'Superman', 'Batman', NA, 'Batman')\n",
        "matrix(edad, deporte, comic_fav)\n",
        "\n",
        "# R.- LAS MATRICES SOLO PUEDEN CONTENER UN TIPO DE DATO."
      ],
      "metadata": {
        "colab": {
          "base_uri": "https://localhost:8080/",
          "height": 134
        },
        "id": "rV5vuCgZxDJe",
        "outputId": "7de73ea2-662c-4b15-d2f5-e65a3d6f9427"
      },
      "execution_count": null,
      "outputs": [
        {
          "output_type": "error",
          "ename": "ERROR",
          "evalue": "ignored",
          "traceback": [
            "Error in matrix(edad, deporte, comic_fav): non-numeric matrix extent\nTraceback:\n",
            "1. matrix(edad, deporte, comic_fav)"
          ]
        }
      ]
    },
    {
      "cell_type": "markdown",
      "source": [
        "#Capítulo 5"
      ],
      "metadata": {
        "id": "CZu5LVI5yDDP"
      }
    },
    {
      "cell_type": "code",
      "source": [
        "# 1.- ¿Qué cantidad de dinero sobra al repartir 10000$ entre 3 personas?\n",
        "\n",
        "print(10000%%3) # R.-Sobra 1$"
      ],
      "metadata": {
        "colab": {
          "base_uri": "https://localhost:8080/"
        },
        "id": "KZEl4VYfwSuj",
        "outputId": "5169114e-e671-4523-8c93-dee2de8b51e1"
      },
      "execution_count": null,
      "outputs": [
        {
          "output_type": "stream",
          "name": "stdout",
          "text": [
            "[1] 1\n"
          ]
        }
      ]
    },
    {
      "cell_type": "code",
      "source": [
        "#2.- ¿Es el número 4560 divisible por 3?\n",
        "\n",
        "print(4560%%3) == 0 # R.- Sí, el residuo es 0."
      ],
      "metadata": {
        "colab": {
          "base_uri": "https://localhost:8080/",
          "height": 53
        },
        "id": "NSNDAB0XyzGy",
        "outputId": "331cd6a2-12e9-422b-8656-87af32998ea7"
      },
      "execution_count": null,
      "outputs": [
        {
          "output_type": "stream",
          "name": "stdout",
          "text": [
            "[1] 0\n"
          ]
        },
        {
          "output_type": "display_data",
          "data": {
            "text/html": [
              "TRUE"
            ],
            "text/markdown": "TRUE",
            "text/latex": "TRUE",
            "text/plain": [
              "[1] TRUE"
            ]
          },
          "metadata": {}
        }
      ]
    },
    {
      "cell_type": "code",
      "source": [
        "#3.- Construya un vector con los números enteros del 2 al 87. ¿Cuáles de esos números son divisibles por 7?\n",
        "v <- c(2:87)\n",
        "\n",
        "#print(v)\n",
        "\n",
        "v[as.logical(v%%7==0)] #Se aplica un vector binario donde son verdaderos los números divisibles por 7."
      ],
      "metadata": {
        "colab": {
          "base_uri": "https://localhost:8080/",
          "height": 34
        },
        "id": "3sZlzicozHm3",
        "outputId": "6f4c662d-0fc3-465e-a980-b6f1e6e1f9fb"
      },
      "execution_count": 20,
      "outputs": [
        {
          "output_type": "display_data",
          "data": {
            "text/html": [
              "<style>\n",
              ".list-inline {list-style: none; margin:0; padding: 0}\n",
              ".list-inline>li {display: inline-block}\n",
              ".list-inline>li:not(:last-child)::after {content: \"\\00b7\"; padding: 0 .5ex}\n",
              "</style>\n",
              "<ol class=list-inline><li>7</li><li>14</li><li>21</li><li>28</li><li>35</li><li>42</li><li>49</li><li>56</li><li>63</li><li>70</li><li>77</li><li>84</li></ol>\n"
            ],
            "text/markdown": "1. 7\n2. 14\n3. 21\n4. 28\n5. 35\n6. 42\n7. 49\n8. 56\n9. 63\n10. 70\n11. 77\n12. 84\n\n\n",
            "text/latex": "\\begin{enumerate*}\n\\item 7\n\\item 14\n\\item 21\n\\item 28\n\\item 35\n\\item 42\n\\item 49\n\\item 56\n\\item 63\n\\item 70\n\\item 77\n\\item 84\n\\end{enumerate*}\n",
            "text/plain": [
              " [1]  7 14 21 28 35 42 49 56 63 70 77 84"
            ]
          },
          "metadata": {}
        }
      ]
    },
    {
      "cell_type": "code",
      "source": [
        "#4.- Construya dos vectores, el primero con los números enteros desde 7 hasta 3, el segundo vector con los primeros cinco números positivos divisibles por 5.\n",
        "#Sea A la condición de ser par en el primer vector. Sea B la condición de ser mayor que 10 en el segundo vector.\n",
        "#¿En cuál de las 5 posiciones se cumple A y B simultáneamente?\n",
        "v1 <- 7:3\n",
        "v2 <- seq(from=5, by=5, length.out = 5)\n",
        "\n",
        "v1%%2 == 0 & v2>10 #R.- Posición 4.\n"
      ],
      "metadata": {
        "colab": {
          "base_uri": "https://localhost:8080/",
          "height": 34
        },
        "id": "GY0CSwkczxn7",
        "outputId": "3c128e1b-5711-42d3-a6f3-afd4839c0a4e"
      },
      "execution_count": 21,
      "outputs": [
        {
          "output_type": "display_data",
          "data": {
            "text/html": [
              "<style>\n",
              ".list-inline {list-style: none; margin:0; padding: 0}\n",
              ".list-inline>li {display: inline-block}\n",
              ".list-inline>li:not(:last-child)::after {content: \"\\00b7\"; padding: 0 .5ex}\n",
              "</style>\n",
              "<ol class=list-inline><li>FALSE</li><li>FALSE</li><li>FALSE</li><li>TRUE</li><li>FALSE</li></ol>\n"
            ],
            "text/markdown": "1. FALSE\n2. FALSE\n3. FALSE\n4. TRUE\n5. FALSE\n\n\n",
            "text/latex": "\\begin{enumerate*}\n\\item FALSE\n\\item FALSE\n\\item FALSE\n\\item TRUE\n\\item FALSE\n\\end{enumerate*}\n",
            "text/plain": [
              "[1] FALSE FALSE FALSE  TRUE FALSE"
            ]
          },
          "metadata": {}
        }
      ]
    },
    {
      "cell_type": "code",
      "source": [
        "#5.- Consulte este enlace en el cual hay una anéctoda de Gauss niño. Use R para obtener el resultado de la suma solicitada por el profesor del niño Gauss.\n",
        "\n",
        "suma <- function(n) {\n",
        "  return(n*(n+1)/2)\n",
        "}\n",
        "\n",
        "suma(100)"
      ],
      "metadata": {
        "colab": {
          "base_uri": "https://localhost:8080/",
          "height": 34
        },
        "id": "ZDNKq00I0SbJ",
        "outputId": "f786c00b-4417-482f-fadd-1dc0c00bde32"
      },
      "execution_count": 22,
      "outputs": [
        {
          "output_type": "display_data",
          "data": {
            "text/html": [
              "5050"
            ],
            "text/markdown": "5050",
            "text/latex": "5050",
            "text/plain": [
              "[1] 5050"
            ]
          },
          "metadata": {}
        }
      ]
    },
    {
      "cell_type": "code",
      "source": [
        "#6.-Construya un vector con los siguientes elementos: 1, -4, 5, 9, -4. Escriba un procedimiento para extraer las posiciones donde está el valor mínimo en el vector.\n",
        "v <- c(1, -4, 5, 9, -4)\n",
        "minimo <- min(v)\n",
        "\n",
        "v <- v == minimo\n",
        "\n",
        "for (i in c(1:length(v))){\n",
        "if (v[i] )\n",
        "{\n",
        "  print(i)\n",
        "}}"
      ],
      "metadata": {
        "colab": {
          "base_uri": "https://localhost:8080/"
        },
        "id": "sK51-8K20u8x",
        "outputId": "64f8d39e-e6ac-4cd7-df62-7585dacc54b3"
      },
      "execution_count": null,
      "outputs": [
        {
          "output_type": "stream",
          "name": "stdout",
          "text": [
            "[1] 2\n",
            "[1] 5\n"
          ]
        }
      ]
    },
    {
      "cell_type": "code",
      "source": [
        "#7.- Calcular  8!\n",
        "\n",
        "factorial(8)"
      ],
      "metadata": {
        "colab": {
          "base_uri": "https://localhost:8080/",
          "height": 34
        },
        "id": "6wx_N-dP5sbW",
        "outputId": "654f4925-987f-463c-bdff-956d3b8b5a85"
      },
      "execution_count": null,
      "outputs": [
        {
          "output_type": "display_data",
          "data": {
            "text/html": [
              "40320"
            ],
            "text/markdown": "40320",
            "text/latex": "40320",
            "text/plain": [
              "[1] 40320"
            ]
          },
          "metadata": {}
        }
      ]
    },
    {
      "cell_type": "markdown",
      "source": [
        "####8.- Evaluar la siguiente suma $\\sum_{i=3}^{i=7}e^i$"
      ],
      "metadata": {
        "id": "W6QDXV5HRr2W"
      }
    },
    {
      "cell_type": "code",
      "source": [
        "suma <- 0\n",
        "for (i in (3:7))\n",
        "{\n",
        "suma <- suma + exp(i)\n",
        "}\n",
        "print(suma)"
      ],
      "metadata": {
        "colab": {
          "base_uri": "https://localhost:8080/"
        },
        "id": "W7y3b-jx59Ly",
        "outputId": "f319d90e-a4ab-45e8-f1c6-3c999459eb18"
      },
      "execution_count": 23,
      "outputs": [
        {
          "output_type": "stream",
          "name": "stdout",
          "text": [
            "[1] 1723.159\n"
          ]
        }
      ]
    },
    {
      "cell_type": "markdown",
      "source": [
        "####9.- Evaluar la siguiente productoria $\\prod_{i=1}^{i=10}\\log\\sqrt{i}$"
      ],
      "metadata": {
        "id": "ZajKJAUkRv-6"
      }
    },
    {
      "cell_type": "code",
      "source": [
        "prod <- 1\n",
        "for (i in (1:10))\n",
        "{\n",
        "prod <- prod * log(i**(0.5))\n",
        "}\n",
        "print(prod)"
      ],
      "metadata": {
        "colab": {
          "base_uri": "https://localhost:8080/"
        },
        "id": "TPf0bdvH6iJV",
        "outputId": "e0d49c73-b2d5-419c-b432-cb345153fb69"
      },
      "execution_count": null,
      "outputs": [
        {
          "output_type": "stream",
          "name": "stdout",
          "text": [
            "[1] 0\n"
          ]
        }
      ]
    },
    {
      "cell_type": "code",
      "source": [
        "#10 Construya un vector cualquiera e inviertalo, es decir, que el primer elemento quede de último, el segundo de penúltimo y así sucesivamente. Compare su resultado con el de la función rev.\n",
        "v <- c(1,2,3,3,10,11)\n",
        "v\n",
        "\n",
        "v_2 <- c(v[length(v)])\n",
        "for (i in c((length(v)-1):1)){\n",
        "v_2 <- c(v_2, v[i])\n",
        "}\n",
        "\n",
        "print(v_2)\n",
        "\n",
        "rev(v) == (v_2)"
      ],
      "metadata": {
        "colab": {
          "base_uri": "https://localhost:8080/",
          "height": 70
        },
        "id": "ZkAEgMjp6-pF",
        "outputId": "75b851da-9e4c-4b9d-aa2d-1dde370c0f44"
      },
      "execution_count": 25,
      "outputs": [
        {
          "output_type": "display_data",
          "data": {
            "text/html": [
              "<style>\n",
              ".list-inline {list-style: none; margin:0; padding: 0}\n",
              ".list-inline>li {display: inline-block}\n",
              ".list-inline>li:not(:last-child)::after {content: \"\\00b7\"; padding: 0 .5ex}\n",
              "</style>\n",
              "<ol class=list-inline><li>1</li><li>2</li><li>3</li><li>3</li><li>10</li><li>11</li></ol>\n"
            ],
            "text/markdown": "1. 1\n2. 2\n3. 3\n4. 3\n5. 10\n6. 11\n\n\n",
            "text/latex": "\\begin{enumerate*}\n\\item 1\n\\item 2\n\\item 3\n\\item 3\n\\item 10\n\\item 11\n\\end{enumerate*}\n",
            "text/plain": [
              "[1]  1  2  3  3 10 11"
            ]
          },
          "metadata": {}
        },
        {
          "output_type": "stream",
          "name": "stdout",
          "text": [
            "[1] 11 10  3  3  2  1\n"
          ]
        },
        {
          "output_type": "display_data",
          "data": {
            "text/html": [
              "<style>\n",
              ".list-inline {list-style: none; margin:0; padding: 0}\n",
              ".list-inline>li {display: inline-block}\n",
              ".list-inline>li:not(:last-child)::after {content: \"\\00b7\"; padding: 0 .5ex}\n",
              "</style>\n",
              "<ol class=list-inline><li>TRUE</li><li>TRUE</li><li>TRUE</li><li>TRUE</li><li>TRUE</li><li>TRUE</li></ol>\n"
            ],
            "text/markdown": "1. TRUE\n2. TRUE\n3. TRUE\n4. TRUE\n5. TRUE\n6. TRUE\n\n\n",
            "text/latex": "\\begin{enumerate*}\n\\item TRUE\n\\item TRUE\n\\item TRUE\n\\item TRUE\n\\item TRUE\n\\item TRUE\n\\end{enumerate*}\n",
            "text/plain": [
              "[1] TRUE TRUE TRUE TRUE TRUE TRUE"
            ]
          },
          "metadata": {}
        }
      ]
    },
    {
      "cell_type": "code",
      "source": [
        "#11.-Create the vector: 1,2,3,...,19,20\n",
        "v <- c(1:20)\n",
        "print(v)\n"
      ],
      "metadata": {
        "colab": {
          "base_uri": "https://localhost:8080/"
        },
        "id": "xvOOjLJ785eh",
        "outputId": "9fb8d199-6e46-4ccb-e2fb-88972ece73cd"
      },
      "execution_count": null,
      "outputs": [
        {
          "output_type": "stream",
          "name": "stdout",
          "text": [
            " [1]  1  2  3  4  5  6  7  8  9 10 11 12 13 14 15 16 17 18 19 20\n"
          ]
        }
      ]
    },
    {
      "cell_type": "code",
      "source": [
        "#12.-Create the vector: 20,19,18,...,2,1\n",
        "v <- c(20:1)\n",
        "print(v)"
      ],
      "metadata": {
        "colab": {
          "base_uri": "https://localhost:8080/"
        },
        "id": "--z8qc4c-ZBB",
        "outputId": "9f30cb5d-fee7-4733-8320-3d773c647f7e"
      },
      "execution_count": null,
      "outputs": [
        {
          "output_type": "stream",
          "name": "stdout",
          "text": [
            " [1] 20 19 18 17 16 15 14 13 12 11 10  9  8  7  6  5  4  3  2  1\n"
          ]
        }
      ]
    },
    {
      "cell_type": "code",
      "source": [
        "#13.- Create the vector: 1,-2,3,...,19,-20\n",
        "signos <- rep(c(1,-1), 10)\n",
        "v <- c(1:20)\n",
        "\n",
        "v <- v*signos\n",
        "print(v)"
      ],
      "metadata": {
        "colab": {
          "base_uri": "https://localhost:8080/"
        },
        "id": "0xxggDyH-nPv",
        "outputId": "12103393-4b46-42b4-b7bc-524578a7f86e"
      },
      "execution_count": null,
      "outputs": [
        {
          "output_type": "stream",
          "name": "stdout",
          "text": [
            " [1]   1  -2   3  -4   5  -6   7  -8   9 -10  11 -12  13 -14  15 -16  17 -18  19\n",
            "[20] -20\n"
          ]
        }
      ]
    },
    {
      "cell_type": "markdown",
      "source": [
        "14.- Create the vector $0.1^3, 0.2^1, 0.1^6, 0.2^4, . . . , 0.1^{36}, 0.2^{34}$"
      ],
      "metadata": {
        "id": "_SxgB9Z3H5gz"
      }
    },
    {
      "cell_type": "code",
      "source": [
        "potencia <- c(3,1,6,4,9,7,15,13,18,16,21,19,24,22,27,25,30,28,33,31,36,34)\n",
        "base <- rep(c(0.1,0.2), 11)\n",
        "v = base**potencia\n",
        "print(v)"
      ],
      "metadata": {
        "colab": {
          "base_uri": "https://localhost:8080/"
        },
        "id": "QAqUi0LX_mjI",
        "outputId": "3b02a817-c7eb-4d57-de35-2c4e355e4dc1"
      },
      "execution_count": null,
      "outputs": [
        {
          "output_type": "stream",
          "name": "stdout",
          "text": [
            " [1] 1.000000e-03 2.000000e-01 1.000000e-06 1.600000e-03 1.000000e-09\n",
            " [6] 1.280000e-05 1.000000e-15 8.192000e-10 1.000000e-18 6.553600e-12\n",
            "[11] 1.000000e-21 5.242880e-14 1.000000e-24 4.194304e-16 1.000000e-27\n",
            "[16] 3.355443e-18 1.000000e-30 2.684355e-20 1.000000e-33 2.147484e-22\n",
            "[21] 1.000000e-36 1.717987e-24\n"
          ]
        }
      ]
    },
    {
      "cell_type": "markdown",
      "source": [
        "####15.- Calculate the following: $\\sum_{i=10}^{100}(i^3+4i^2)$ and $\\sum_{i=1}^{25}\\left( \\frac{2^i}{i} + \\frac{3^i}{i^2} \\right)$"
      ],
      "metadata": {
        "id": "2yb1vSG0SFBj"
      }
    },
    {
      "cell_type": "code",
      "source": [
        "suma <- 0\n",
        "for (i in (10:100))\n",
        "{\n",
        "suma <- suma + (i**3) + (4*i**2)\n",
        "}\n",
        "print(suma)"
      ],
      "metadata": {
        "colab": {
          "base_uri": "https://localhost:8080/"
        },
        "id": "WjnNQdpFBWwN",
        "outputId": "398e6517-a006-441d-b9c1-75b5d7290b23"
      },
      "execution_count": null,
      "outputs": [
        {
          "output_type": "stream",
          "name": "stdout",
          "text": [
            "[1] 26852735\n"
          ]
        }
      ]
    },
    {
      "cell_type": "code",
      "source": [
        "suma <- 0\n",
        "for (i in (1:25))\n",
        "{\n",
        "suma <- suma + ((2)**i)/(i) + ((3)**i)/(i**2)\n",
        "}\n",
        "print(suma)"
      ],
      "metadata": {
        "colab": {
          "base_uri": "https://localhost:8080/"
        },
        "id": "s6VVOIP9SXCI",
        "outputId": "5c2b9b91-06d1-498e-85fa-ab0094f9c433"
      },
      "execution_count": null,
      "outputs": [
        {
          "output_type": "stream",
          "name": "stdout",
          "text": [
            "[1] 2129170437\n"
          ]
        }
      ]
    },
    {
      "cell_type": "code",
      "source": [
        "#16.- Read the data set available in: https://raw.githubusercontent.com/fhernanb/datos/master/Paises.txt\n",
        "\n",
        "df <- read.table(\"/content/dataset_paises.txt\", header = TRUE)\n",
        "df"
      ],
      "metadata": {
        "colab": {
          "base_uri": "https://localhost:8080/",
          "height": 1000
        },
        "id": "LMkKnPT-CUKm",
        "outputId": "a65e2df1-fd21-4da3-c193-23659f22a456"
      },
      "execution_count": null,
      "outputs": [
        {
          "output_type": "display_data",
          "data": {
            "text/html": [
              "<table class=\"dataframe\">\n",
              "<caption>A data.frame: 107 × 5</caption>\n",
              "<thead>\n",
              "\t<tr><th scope=col>Pais</th><th scope=col>poblacion</th><th scope=col>alfabetizacion</th><th scope=col>tasamortinf</th><th scope=col>PIB</th></tr>\n",
              "\t<tr><th scope=col>&lt;chr&gt;</th><th scope=col>&lt;int&gt;</th><th scope=col>&lt;int&gt;</th><th scope=col>&lt;dbl&gt;</th><th scope=col>&lt;int&gt;</th></tr>\n",
              "</thead>\n",
              "<tbody>\n",
              "\t<tr><td>Acerbaján_      </td><td>   7400</td><td> 98</td><td> 35.0</td><td> 3000</td></tr>\n",
              "\t<tr><td>Afganistán      </td><td>  20500</td><td> 29</td><td>168.0</td><td>  205</td></tr>\n",
              "\t<tr><td>Alemania        </td><td>  81200</td><td> 99</td><td>  6.5</td><td>17539</td></tr>\n",
              "\t<tr><td>Arabia_Saudí    </td><td>  18000</td><td> 62</td><td> 52.0</td><td> 6651</td></tr>\n",
              "\t<tr><td>Argentina_      </td><td>  33900</td><td> 95</td><td> 25.6</td><td> 3408</td></tr>\n",
              "\t<tr><td>Armenia_        </td><td>   3700</td><td> 98</td><td> 27.0</td><td> 5000</td></tr>\n",
              "\t<tr><td>Australia_      </td><td>  17800</td><td>100</td><td>  7.3</td><td>16848</td></tr>\n",
              "\t<tr><td>Austria_        </td><td>   8000</td><td> 99</td><td>  6.7</td><td>18396</td></tr>\n",
              "\t<tr><td>Bahrein_        </td><td>    600</td><td> 77</td><td> 25.0</td><td> 7875</td></tr>\n",
              "\t<tr><td>Bangladesh      </td><td> 125000</td><td> 35</td><td>106.0</td><td>  202</td></tr>\n",
              "\t<tr><td>Barbados        </td><td>    256</td><td> 99</td><td> 20.3</td><td> 6950</td></tr>\n",
              "\t<tr><td>Bélgica_        </td><td>  10100</td><td> 99</td><td>  7.2</td><td>17912</td></tr>\n",
              "\t<tr><td>Bielorusia      </td><td>  10300</td><td> 99</td><td> 19.0</td><td> 6500</td></tr>\n",
              "\t<tr><td>Bolivia_        </td><td>   7900</td><td> 78</td><td> 75.0</td><td>  730</td></tr>\n",
              "\t<tr><td>Bosnia          </td><td>   4600</td><td> 86</td><td> 12.7</td><td> 3098</td></tr>\n",
              "\t<tr><td>Botswana        </td><td>   1359</td><td> 72</td><td> 39.3</td><td> 2677</td></tr>\n",
              "\t<tr><td>Brasil          </td><td> 156600</td><td> 81</td><td> 66.0</td><td> 2354</td></tr>\n",
              "\t<tr><td>Bulgaria        </td><td>   8900</td><td> 93</td><td> 12.0</td><td> 3831</td></tr>\n",
              "\t<tr><td>Burkina_Faso    </td><td>  10000</td><td> 18</td><td>118.0</td><td>  357</td></tr>\n",
              "\t<tr><td>Burundi_        </td><td>   6000</td><td> 50</td><td>105.0</td><td>  208</td></tr>\n",
              "\t<tr><td>Camboya_        </td><td>  10000</td><td> 35</td><td>112.0</td><td>  260</td></tr>\n",
              "\t<tr><td>Camerún_        </td><td>  13100</td><td> 54</td><td> 77.0</td><td>  993</td></tr>\n",
              "\t<tr><td>Canadá          </td><td>  29100</td><td> 97</td><td>  6.8</td><td>19904</td></tr>\n",
              "\t<tr><td>Chile_          </td><td>  14000</td><td> 93</td><td> 14.6</td><td> 2591</td></tr>\n",
              "\t<tr><td>China_          </td><td>1205200</td><td> 78</td><td> 52.0</td><td>  377</td></tr>\n",
              "\t<tr><td>Colombia        </td><td>  35600</td><td> 87</td><td> 28.0</td><td> 1538</td></tr>\n",
              "\t<tr><td>Corea_del_Norte_</td><td>  23100</td><td> 99</td><td> 27.7</td><td> 1000</td></tr>\n",
              "\t<tr><td>Corea_del_Sur_  </td><td>  45000</td><td> 96</td><td> 21.7</td><td> 6627</td></tr>\n",
              "\t<tr><td>Costa_Rica      </td><td>   3300</td><td> 93</td><td> 11.0</td><td> 2031</td></tr>\n",
              "\t<tr><td>Croacia_        </td><td>   4900</td><td> 97</td><td>  8.7</td><td> 5487</td></tr>\n",
              "\t<tr><td>⋮</td><td>⋮</td><td>⋮</td><td>⋮</td><td>⋮</td></tr>\n",
              "\t<tr><td>Países_Bajos    </td><td> 15400</td><td>99</td><td>  6.3</td><td>17245</td></tr>\n",
              "\t<tr><td>Pakistán        </td><td>128100</td><td>35</td><td>101.0</td><td>  406</td></tr>\n",
              "\t<tr><td>Panamá          </td><td>  2600</td><td>88</td><td> 16.5</td><td> 2397</td></tr>\n",
              "\t<tr><td>Paraguay        </td><td>  5200</td><td>90</td><td> 25.2</td><td> 1500</td></tr>\n",
              "\t<tr><td>Perú            </td><td> 23650</td><td>85</td><td> 54.0</td><td> 1107</td></tr>\n",
              "\t<tr><td>Polonia_        </td><td> 38600</td><td>99</td><td> 13.8</td><td> 4429</td></tr>\n",
              "\t<tr><td>Portugal        </td><td> 10500</td><td>85</td><td>  9.2</td><td> 9000</td></tr>\n",
              "\t<tr><td>Rep._C._Africana</td><td>  3300</td><td>27</td><td>137.0</td><td>  457</td></tr>\n",
              "\t<tr><td>Rep._Dominicana_</td><td>  7800</td><td>83</td><td> 51.5</td><td> 1034</td></tr>\n",
              "\t<tr><td>Ruanda          </td><td>  8400</td><td>50</td><td>117.0</td><td>  292</td></tr>\n",
              "\t<tr><td>Rumanía_        </td><td> 23400</td><td>96</td><td> 20.3</td><td> 2702</td></tr>\n",
              "\t<tr><td>Rusia_          </td><td>149200</td><td>99</td><td> 27.0</td><td> 6680</td></tr>\n",
              "\t<tr><td>Senegal_        </td><td>  8700</td><td>38</td><td> 76.0</td><td>  744</td></tr>\n",
              "\t<tr><td>Singapur        </td><td>  2900</td><td>88</td><td>  5.7</td><td>14990</td></tr>\n",
              "\t<tr><td>Siria_          </td><td> 14900</td><td>64</td><td> 43.0</td><td> 2436</td></tr>\n",
              "\t<tr><td>Somalia_        </td><td>  6667</td><td>24</td><td>126.0</td><td> 2126</td></tr>\n",
              "\t<tr><td>Sudáfrica_      </td><td> 43900</td><td>76</td><td> 47.1</td><td> 3128</td></tr>\n",
              "\t<tr><td>Suecia          </td><td>  8800</td><td>99</td><td>  5.7</td><td>16900</td></tr>\n",
              "\t<tr><td>Suiza_          </td><td>  7000</td><td>99</td><td>  6.2</td><td>22384</td></tr>\n",
              "\t<tr><td>Tailandia_      </td><td> 59400</td><td>93</td><td> 37.0</td><td> 1800</td></tr>\n",
              "\t<tr><td>Taiwan          </td><td> 20944</td><td>91</td><td>  5.1</td><td> 7055</td></tr>\n",
              "\t<tr><td>Tanzania        </td><td> 29800</td><td>46</td><td>110.0</td><td>  263</td></tr>\n",
              "\t<tr><td>Turquía_        </td><td> 62200</td><td>81</td><td> 49.0</td><td> 3721</td></tr>\n",
              "\t<tr><td>Ucrania_        </td><td> 51800</td><td>97</td><td> 20.7</td><td> 2340</td></tr>\n",
              "\t<tr><td>Uganda          </td><td> 19800</td><td>48</td><td>112.0</td><td>  325</td></tr>\n",
              "\t<tr><td>Uruguay_        </td><td>  3200</td><td>96</td><td> 17.0</td><td> 3131</td></tr>\n",
              "\t<tr><td>Uzbekistán      </td><td> 22600</td><td>97</td><td> 53.0</td><td> 1350</td></tr>\n",
              "\t<tr><td>Venezuela_      </td><td> 20600</td><td>88</td><td> 28.0</td><td> 2829</td></tr>\n",
              "\t<tr><td>Vietnam_        </td><td> 73100</td><td>88</td><td> 46.0</td><td>  230</td></tr>\n",
              "\t<tr><td>Zambia          </td><td>  9100</td><td>73</td><td> 85.0</td><td>  573</td></tr>\n",
              "</tbody>\n",
              "</table>\n"
            ],
            "text/markdown": "\nA data.frame: 107 × 5\n\n| Pais &lt;chr&gt; | poblacion &lt;int&gt; | alfabetizacion &lt;int&gt; | tasamortinf &lt;dbl&gt; | PIB &lt;int&gt; |\n|---|---|---|---|---|\n| Acerbaján_       |    7400 |  98 |  35.0 |  3000 |\n| Afganistán       |   20500 |  29 | 168.0 |   205 |\n| Alemania         |   81200 |  99 |   6.5 | 17539 |\n| Arabia_Saudí     |   18000 |  62 |  52.0 |  6651 |\n| Argentina_       |   33900 |  95 |  25.6 |  3408 |\n| Armenia_         |    3700 |  98 |  27.0 |  5000 |\n| Australia_       |   17800 | 100 |   7.3 | 16848 |\n| Austria_         |    8000 |  99 |   6.7 | 18396 |\n| Bahrein_         |     600 |  77 |  25.0 |  7875 |\n| Bangladesh       |  125000 |  35 | 106.0 |   202 |\n| Barbados         |     256 |  99 |  20.3 |  6950 |\n| Bélgica_         |   10100 |  99 |   7.2 | 17912 |\n| Bielorusia       |   10300 |  99 |  19.0 |  6500 |\n| Bolivia_         |    7900 |  78 |  75.0 |   730 |\n| Bosnia           |    4600 |  86 |  12.7 |  3098 |\n| Botswana         |    1359 |  72 |  39.3 |  2677 |\n| Brasil           |  156600 |  81 |  66.0 |  2354 |\n| Bulgaria         |    8900 |  93 |  12.0 |  3831 |\n| Burkina_Faso     |   10000 |  18 | 118.0 |   357 |\n| Burundi_         |    6000 |  50 | 105.0 |   208 |\n| Camboya_         |   10000 |  35 | 112.0 |   260 |\n| Camerún_         |   13100 |  54 |  77.0 |   993 |\n| Canadá           |   29100 |  97 |   6.8 | 19904 |\n| Chile_           |   14000 |  93 |  14.6 |  2591 |\n| China_           | 1205200 |  78 |  52.0 |   377 |\n| Colombia         |   35600 |  87 |  28.0 |  1538 |\n| Corea_del_Norte_ |   23100 |  99 |  27.7 |  1000 |\n| Corea_del_Sur_   |   45000 |  96 |  21.7 |  6627 |\n| Costa_Rica       |    3300 |  93 |  11.0 |  2031 |\n| Croacia_         |    4900 |  97 |   8.7 |  5487 |\n| ⋮ | ⋮ | ⋮ | ⋮ | ⋮ |\n| Países_Bajos     |  15400 | 99 |   6.3 | 17245 |\n| Pakistán         | 128100 | 35 | 101.0 |   406 |\n| Panamá           |   2600 | 88 |  16.5 |  2397 |\n| Paraguay         |   5200 | 90 |  25.2 |  1500 |\n| Perú             |  23650 | 85 |  54.0 |  1107 |\n| Polonia_         |  38600 | 99 |  13.8 |  4429 |\n| Portugal         |  10500 | 85 |   9.2 |  9000 |\n| Rep._C._Africana |   3300 | 27 | 137.0 |   457 |\n| Rep._Dominicana_ |   7800 | 83 |  51.5 |  1034 |\n| Ruanda           |   8400 | 50 | 117.0 |   292 |\n| Rumanía_         |  23400 | 96 |  20.3 |  2702 |\n| Rusia_           | 149200 | 99 |  27.0 |  6680 |\n| Senegal_         |   8700 | 38 |  76.0 |   744 |\n| Singapur         |   2900 | 88 |   5.7 | 14990 |\n| Siria_           |  14900 | 64 |  43.0 |  2436 |\n| Somalia_         |   6667 | 24 | 126.0 |  2126 |\n| Sudáfrica_       |  43900 | 76 |  47.1 |  3128 |\n| Suecia           |   8800 | 99 |   5.7 | 16900 |\n| Suiza_           |   7000 | 99 |   6.2 | 22384 |\n| Tailandia_       |  59400 | 93 |  37.0 |  1800 |\n| Taiwan           |  20944 | 91 |   5.1 |  7055 |\n| Tanzania         |  29800 | 46 | 110.0 |   263 |\n| Turquía_         |  62200 | 81 |  49.0 |  3721 |\n| Ucrania_         |  51800 | 97 |  20.7 |  2340 |\n| Uganda           |  19800 | 48 | 112.0 |   325 |\n| Uruguay_         |   3200 | 96 |  17.0 |  3131 |\n| Uzbekistán       |  22600 | 97 |  53.0 |  1350 |\n| Venezuela_       |  20600 | 88 |  28.0 |  2829 |\n| Vietnam_         |  73100 | 88 |  46.0 |   230 |\n| Zambia           |   9100 | 73 |  85.0 |   573 |\n\n",
            "text/latex": "A data.frame: 107 × 5\n\\begin{tabular}{lllll}\n Pais & poblacion & alfabetizacion & tasamortinf & PIB\\\\\n <chr> & <int> & <int> & <dbl> & <int>\\\\\n\\hline\n\t Acerbaján\\_       &    7400 &  98 &  35.0 &  3000\\\\\n\t Afganistán       &   20500 &  29 & 168.0 &   205\\\\\n\t Alemania         &   81200 &  99 &   6.5 & 17539\\\\\n\t Arabia\\_Saudí     &   18000 &  62 &  52.0 &  6651\\\\\n\t Argentina\\_       &   33900 &  95 &  25.6 &  3408\\\\\n\t Armenia\\_         &    3700 &  98 &  27.0 &  5000\\\\\n\t Australia\\_       &   17800 & 100 &   7.3 & 16848\\\\\n\t Austria\\_         &    8000 &  99 &   6.7 & 18396\\\\\n\t Bahrein\\_         &     600 &  77 &  25.0 &  7875\\\\\n\t Bangladesh       &  125000 &  35 & 106.0 &   202\\\\\n\t Barbados         &     256 &  99 &  20.3 &  6950\\\\\n\t Bélgica\\_         &   10100 &  99 &   7.2 & 17912\\\\\n\t Bielorusia       &   10300 &  99 &  19.0 &  6500\\\\\n\t Bolivia\\_         &    7900 &  78 &  75.0 &   730\\\\\n\t Bosnia           &    4600 &  86 &  12.7 &  3098\\\\\n\t Botswana         &    1359 &  72 &  39.3 &  2677\\\\\n\t Brasil           &  156600 &  81 &  66.0 &  2354\\\\\n\t Bulgaria         &    8900 &  93 &  12.0 &  3831\\\\\n\t Burkina\\_Faso     &   10000 &  18 & 118.0 &   357\\\\\n\t Burundi\\_         &    6000 &  50 & 105.0 &   208\\\\\n\t Camboya\\_         &   10000 &  35 & 112.0 &   260\\\\\n\t Camerún\\_         &   13100 &  54 &  77.0 &   993\\\\\n\t Canadá           &   29100 &  97 &   6.8 & 19904\\\\\n\t Chile\\_           &   14000 &  93 &  14.6 &  2591\\\\\n\t China\\_           & 1205200 &  78 &  52.0 &   377\\\\\n\t Colombia         &   35600 &  87 &  28.0 &  1538\\\\\n\t Corea\\_del\\_Norte\\_ &   23100 &  99 &  27.7 &  1000\\\\\n\t Corea\\_del\\_Sur\\_   &   45000 &  96 &  21.7 &  6627\\\\\n\t Costa\\_Rica       &    3300 &  93 &  11.0 &  2031\\\\\n\t Croacia\\_         &    4900 &  97 &   8.7 &  5487\\\\\n\t ⋮ & ⋮ & ⋮ & ⋮ & ⋮\\\\\n\t Países\\_Bajos     &  15400 & 99 &   6.3 & 17245\\\\\n\t Pakistán         & 128100 & 35 & 101.0 &   406\\\\\n\t Panamá           &   2600 & 88 &  16.5 &  2397\\\\\n\t Paraguay         &   5200 & 90 &  25.2 &  1500\\\\\n\t Perú             &  23650 & 85 &  54.0 &  1107\\\\\n\t Polonia\\_         &  38600 & 99 &  13.8 &  4429\\\\\n\t Portugal         &  10500 & 85 &   9.2 &  9000\\\\\n\t Rep.\\_C.\\_Africana &   3300 & 27 & 137.0 &   457\\\\\n\t Rep.\\_Dominicana\\_ &   7800 & 83 &  51.5 &  1034\\\\\n\t Ruanda           &   8400 & 50 & 117.0 &   292\\\\\n\t Rumanía\\_         &  23400 & 96 &  20.3 &  2702\\\\\n\t Rusia\\_           & 149200 & 99 &  27.0 &  6680\\\\\n\t Senegal\\_         &   8700 & 38 &  76.0 &   744\\\\\n\t Singapur         &   2900 & 88 &   5.7 & 14990\\\\\n\t Siria\\_           &  14900 & 64 &  43.0 &  2436\\\\\n\t Somalia\\_         &   6667 & 24 & 126.0 &  2126\\\\\n\t Sudáfrica\\_       &  43900 & 76 &  47.1 &  3128\\\\\n\t Suecia           &   8800 & 99 &   5.7 & 16900\\\\\n\t Suiza\\_           &   7000 & 99 &   6.2 & 22384\\\\\n\t Tailandia\\_       &  59400 & 93 &  37.0 &  1800\\\\\n\t Taiwan           &  20944 & 91 &   5.1 &  7055\\\\\n\t Tanzania         &  29800 & 46 & 110.0 &   263\\\\\n\t Turquía\\_         &  62200 & 81 &  49.0 &  3721\\\\\n\t Ucrania\\_         &  51800 & 97 &  20.7 &  2340\\\\\n\t Uganda           &  19800 & 48 & 112.0 &   325\\\\\n\t Uruguay\\_         &   3200 & 96 &  17.0 &  3131\\\\\n\t Uzbekistán       &  22600 & 97 &  53.0 &  1350\\\\\n\t Venezuela\\_       &  20600 & 88 &  28.0 &  2829\\\\\n\t Vietnam\\_         &  73100 & 88 &  46.0 &   230\\\\\n\t Zambia           &   9100 & 73 &  85.0 &   573\\\\\n\\end{tabular}\n",
            "text/plain": [
              "    Pais             poblacion alfabetizacion tasamortinf PIB  \n",
              "1   Acerbaján_          7400    98             35.0        3000\n",
              "2   Afganistán         20500    29            168.0         205\n",
              "3   Alemania           81200    99              6.5       17539\n",
              "4   Arabia_Saudí       18000    62             52.0        6651\n",
              "5   Argentina_         33900    95             25.6        3408\n",
              "6   Armenia_            3700    98             27.0        5000\n",
              "7   Australia_         17800   100              7.3       16848\n",
              "8   Austria_            8000    99              6.7       18396\n",
              "9   Bahrein_             600    77             25.0        7875\n",
              "10  Bangladesh        125000    35            106.0         202\n",
              "11  Barbados             256    99             20.3        6950\n",
              "12  Bélgica_           10100    99              7.2       17912\n",
              "13  Bielorusia         10300    99             19.0        6500\n",
              "14  Bolivia_            7900    78             75.0         730\n",
              "15  Bosnia              4600    86             12.7        3098\n",
              "16  Botswana            1359    72             39.3        2677\n",
              "17  Brasil            156600    81             66.0        2354\n",
              "18  Bulgaria            8900    93             12.0        3831\n",
              "19  Burkina_Faso       10000    18            118.0         357\n",
              "20  Burundi_            6000    50            105.0         208\n",
              "21  Camboya_           10000    35            112.0         260\n",
              "22  Camerún_           13100    54             77.0         993\n",
              "23  Canadá             29100    97              6.8       19904\n",
              "24  Chile_             14000    93             14.6        2591\n",
              "25  China_           1205200    78             52.0         377\n",
              "26  Colombia           35600    87             28.0        1538\n",
              "27  Corea_del_Norte_   23100    99             27.7        1000\n",
              "28  Corea_del_Sur_     45000    96             21.7        6627\n",
              "29  Costa_Rica          3300    93             11.0        2031\n",
              "30  Croacia_            4900    97              8.7        5487\n",
              "⋮   ⋮                ⋮         ⋮              ⋮           ⋮    \n",
              "78  Países_Bajos      15400    99               6.3       17245\n",
              "79  Pakistán         128100    35             101.0         406\n",
              "80  Panamá             2600    88              16.5        2397\n",
              "81  Paraguay           5200    90              25.2        1500\n",
              "82  Perú              23650    85              54.0        1107\n",
              "83  Polonia_          38600    99              13.8        4429\n",
              "84  Portugal          10500    85               9.2        9000\n",
              "85  Rep._C._Africana   3300    27             137.0         457\n",
              "86  Rep._Dominicana_   7800    83              51.5        1034\n",
              "87  Ruanda             8400    50             117.0         292\n",
              "88  Rumanía_          23400    96              20.3        2702\n",
              "89  Rusia_           149200    99              27.0        6680\n",
              "90  Senegal_           8700    38              76.0         744\n",
              "91  Singapur           2900    88               5.7       14990\n",
              "92  Siria_            14900    64              43.0        2436\n",
              "93  Somalia_           6667    24             126.0        2126\n",
              "94  Sudáfrica_        43900    76              47.1        3128\n",
              "95  Suecia             8800    99               5.7       16900\n",
              "96  Suiza_             7000    99               6.2       22384\n",
              "97  Tailandia_        59400    93              37.0        1800\n",
              "98  Taiwan            20944    91               5.1        7055\n",
              "99  Tanzania          29800    46             110.0         263\n",
              "100 Turquía_          62200    81              49.0        3721\n",
              "101 Ucrania_          51800    97              20.7        2340\n",
              "102 Uganda            19800    48             112.0         325\n",
              "103 Uruguay_           3200    96              17.0        3131\n",
              "104 Uzbekistán        22600    97              53.0        1350\n",
              "105 Venezuela_        20600    88              28.0        2829\n",
              "106 Vietnam_          73100    88              46.0         230\n",
              "107 Zambia             9100    73              85.0         573"
            ]
          },
          "metadata": {}
        }
      ]
    },
    {
      "cell_type": "code",
      "source": [
        "#17.- Use a code to obtain the number of variables of the data set.\n",
        "ncol(df)"
      ],
      "metadata": {
        "colab": {
          "base_uri": "https://localhost:8080/",
          "height": 34
        },
        "id": "rwuGP-RqLKNp",
        "outputId": "f59337c9-3421-4354-eee4-2fb6e74ce7ac"
      },
      "execution_count": null,
      "outputs": [
        {
          "output_type": "display_data",
          "data": {
            "text/html": [
              "5"
            ],
            "text/markdown": "5",
            "text/latex": "5",
            "text/plain": [
              "[1] 5"
            ]
          },
          "metadata": {}
        }
      ]
    },
    {
      "cell_type": "code",
      "source": [
        "#18.- Use a code to obtain the number of countries in the data set.\n",
        "nrow(df)"
      ],
      "metadata": {
        "colab": {
          "base_uri": "https://localhost:8080/",
          "height": 34
        },
        "id": "aWg2bgkwMCmZ",
        "outputId": "cca6e14d-95ef-4b77-f1bf-576c0cbf17bb"
      },
      "execution_count": null,
      "outputs": [
        {
          "output_type": "display_data",
          "data": {
            "text/html": [
              "107"
            ],
            "text/markdown": "107",
            "text/latex": "107",
            "text/plain": [
              "[1] 107"
            ]
          },
          "metadata": {}
        }
      ]
    },
    {
      "cell_type": "code",
      "source": [
        "#19.- Which is the country with the higher population?\n",
        "df[which.max(df$poblacion),\"Pais\"]"
      ],
      "metadata": {
        "colab": {
          "base_uri": "https://localhost:8080/",
          "height": 34
        },
        "id": "l_ynXxCCMIfd",
        "outputId": "c9387f35-d9d3-4e93-ff39-f53d74567c20"
      },
      "execution_count": null,
      "outputs": [
        {
          "output_type": "display_data",
          "data": {
            "text/html": [
              "'China_'"
            ],
            "text/markdown": "'China_'",
            "text/latex": "'China\\_'",
            "text/plain": [
              "[1] \"China_\""
            ]
          },
          "metadata": {}
        }
      ]
    },
    {
      "cell_type": "code",
      "source": [
        "#20 Which is the country with the lowest literacy rate? alfabetizacion\n",
        "df[which.min(df$alfabetizacion),\"Pais\"]"
      ],
      "metadata": {
        "colab": {
          "base_uri": "https://localhost:8080/",
          "height": 34
        },
        "id": "7ZM270nMNEJl",
        "outputId": "9c73d32e-f274-45a6-a83b-b9964222b5f1"
      },
      "execution_count": null,
      "outputs": [
        {
          "output_type": "display_data",
          "data": {
            "text/html": [
              "'Burkina_Faso'"
            ],
            "text/markdown": "'Burkina_Faso'",
            "text/latex": "'Burkina\\_Faso'",
            "text/plain": [
              "[1] \"Burkina_Faso\""
            ]
          },
          "metadata": {}
        }
      ]
    },
    {
      "cell_type": "code",
      "source": [
        "#21.- ¿Qué valor de verdad tiene la siguiente afirmación? “Los resultados de la función floor y trunc son siempre los mismos”.\n",
        "\n",
        "floor(-0.5) == trunc(-0.5) # R.- Falso"
      ],
      "metadata": {
        "colab": {
          "base_uri": "https://localhost:8080/",
          "height": 34
        },
        "id": "KCer8KZ4N4L3",
        "outputId": "b3a53172-ac42-432b-fc37-02392569b5a5"
      },
      "execution_count": null,
      "outputs": [
        {
          "output_type": "display_data",
          "data": {
            "text/html": [
              "FALSE"
            ],
            "text/markdown": "FALSE",
            "text/latex": "FALSE",
            "text/plain": [
              "[1] FALSE"
            ]
          },
          "metadata": {}
        }
      ]
    },
    {
      "cell_type": "markdown",
      "source": [
        "####En R hay unas bases de datos incluídas, una de ellas es la base de datos llamada mtcars. Para conocer las variables que están en mtcars usted puede escribir en la consola ?mtcars o también help(mtcars). De la base mtcars obtenga bases de datos que cumplan las siguientes condiciones."
      ],
      "metadata": {
        "id": "6UOV9x6WTFmD"
      }
    },
    {
      "cell_type": "code",
      "source": [
        "df"
      ],
      "metadata": {
        "colab": {
          "base_uri": "https://localhost:8080/",
          "height": 1000
        },
        "id": "sAYvAS4DUOXq",
        "outputId": "f7b1d36d-d48a-423b-e450-66d1fb3c44d0"
      },
      "execution_count": null,
      "outputs": [
        {
          "output_type": "display_data",
          "data": {
            "text/html": [
              "<table class=\"dataframe\">\n",
              "<caption>A data.frame: 32 × 11</caption>\n",
              "<thead>\n",
              "\t<tr><th></th><th scope=col>mpg</th><th scope=col>cyl</th><th scope=col>disp</th><th scope=col>hp</th><th scope=col>drat</th><th scope=col>wt</th><th scope=col>qsec</th><th scope=col>vs</th><th scope=col>am</th><th scope=col>gear</th><th scope=col>carb</th></tr>\n",
              "\t<tr><th></th><th scope=col>&lt;dbl&gt;</th><th scope=col>&lt;dbl&gt;</th><th scope=col>&lt;dbl&gt;</th><th scope=col>&lt;dbl&gt;</th><th scope=col>&lt;dbl&gt;</th><th scope=col>&lt;dbl&gt;</th><th scope=col>&lt;dbl&gt;</th><th scope=col>&lt;dbl&gt;</th><th scope=col>&lt;dbl&gt;</th><th scope=col>&lt;dbl&gt;</th><th scope=col>&lt;dbl&gt;</th></tr>\n",
              "</thead>\n",
              "<tbody>\n",
              "\t<tr><th scope=row>Mazda RX4</th><td>21.0</td><td>6</td><td>160.0</td><td>110</td><td>3.90</td><td>2.620</td><td>16.46</td><td>0</td><td>1</td><td>4</td><td>4</td></tr>\n",
              "\t<tr><th scope=row>Mazda RX4 Wag</th><td>21.0</td><td>6</td><td>160.0</td><td>110</td><td>3.90</td><td>2.875</td><td>17.02</td><td>0</td><td>1</td><td>4</td><td>4</td></tr>\n",
              "\t<tr><th scope=row>Datsun 710</th><td>22.8</td><td>4</td><td>108.0</td><td> 93</td><td>3.85</td><td>2.320</td><td>18.61</td><td>1</td><td>1</td><td>4</td><td>1</td></tr>\n",
              "\t<tr><th scope=row>Hornet 4 Drive</th><td>21.4</td><td>6</td><td>258.0</td><td>110</td><td>3.08</td><td>3.215</td><td>19.44</td><td>1</td><td>0</td><td>3</td><td>1</td></tr>\n",
              "\t<tr><th scope=row>Hornet Sportabout</th><td>18.7</td><td>8</td><td>360.0</td><td>175</td><td>3.15</td><td>3.440</td><td>17.02</td><td>0</td><td>0</td><td>3</td><td>2</td></tr>\n",
              "\t<tr><th scope=row>Valiant</th><td>18.1</td><td>6</td><td>225.0</td><td>105</td><td>2.76</td><td>3.460</td><td>20.22</td><td>1</td><td>0</td><td>3</td><td>1</td></tr>\n",
              "\t<tr><th scope=row>Duster 360</th><td>14.3</td><td>8</td><td>360.0</td><td>245</td><td>3.21</td><td>3.570</td><td>15.84</td><td>0</td><td>0</td><td>3</td><td>4</td></tr>\n",
              "\t<tr><th scope=row>Merc 240D</th><td>24.4</td><td>4</td><td>146.7</td><td> 62</td><td>3.69</td><td>3.190</td><td>20.00</td><td>1</td><td>0</td><td>4</td><td>2</td></tr>\n",
              "\t<tr><th scope=row>Merc 230</th><td>22.8</td><td>4</td><td>140.8</td><td> 95</td><td>3.92</td><td>3.150</td><td>22.90</td><td>1</td><td>0</td><td>4</td><td>2</td></tr>\n",
              "\t<tr><th scope=row>Merc 280</th><td>19.2</td><td>6</td><td>167.6</td><td>123</td><td>3.92</td><td>3.440</td><td>18.30</td><td>1</td><td>0</td><td>4</td><td>4</td></tr>\n",
              "\t<tr><th scope=row>Merc 280C</th><td>17.8</td><td>6</td><td>167.6</td><td>123</td><td>3.92</td><td>3.440</td><td>18.90</td><td>1</td><td>0</td><td>4</td><td>4</td></tr>\n",
              "\t<tr><th scope=row>Merc 450SE</th><td>16.4</td><td>8</td><td>275.8</td><td>180</td><td>3.07</td><td>4.070</td><td>17.40</td><td>0</td><td>0</td><td>3</td><td>3</td></tr>\n",
              "\t<tr><th scope=row>Merc 450SL</th><td>17.3</td><td>8</td><td>275.8</td><td>180</td><td>3.07</td><td>3.730</td><td>17.60</td><td>0</td><td>0</td><td>3</td><td>3</td></tr>\n",
              "\t<tr><th scope=row>Merc 450SLC</th><td>15.2</td><td>8</td><td>275.8</td><td>180</td><td>3.07</td><td>3.780</td><td>18.00</td><td>0</td><td>0</td><td>3</td><td>3</td></tr>\n",
              "\t<tr><th scope=row>Cadillac Fleetwood</th><td>10.4</td><td>8</td><td>472.0</td><td>205</td><td>2.93</td><td>5.250</td><td>17.98</td><td>0</td><td>0</td><td>3</td><td>4</td></tr>\n",
              "\t<tr><th scope=row>Lincoln Continental</th><td>10.4</td><td>8</td><td>460.0</td><td>215</td><td>3.00</td><td>5.424</td><td>17.82</td><td>0</td><td>0</td><td>3</td><td>4</td></tr>\n",
              "\t<tr><th scope=row>Chrysler Imperial</th><td>14.7</td><td>8</td><td>440.0</td><td>230</td><td>3.23</td><td>5.345</td><td>17.42</td><td>0</td><td>0</td><td>3</td><td>4</td></tr>\n",
              "\t<tr><th scope=row>Fiat 128</th><td>32.4</td><td>4</td><td> 78.7</td><td> 66</td><td>4.08</td><td>2.200</td><td>19.47</td><td>1</td><td>1</td><td>4</td><td>1</td></tr>\n",
              "\t<tr><th scope=row>Honda Civic</th><td>30.4</td><td>4</td><td> 75.7</td><td> 52</td><td>4.93</td><td>1.615</td><td>18.52</td><td>1</td><td>1</td><td>4</td><td>2</td></tr>\n",
              "\t<tr><th scope=row>Toyota Corolla</th><td>33.9</td><td>4</td><td> 71.1</td><td> 65</td><td>4.22</td><td>1.835</td><td>19.90</td><td>1</td><td>1</td><td>4</td><td>1</td></tr>\n",
              "\t<tr><th scope=row>Toyota Corona</th><td>21.5</td><td>4</td><td>120.1</td><td> 97</td><td>3.70</td><td>2.465</td><td>20.01</td><td>1</td><td>0</td><td>3</td><td>1</td></tr>\n",
              "\t<tr><th scope=row>Dodge Challenger</th><td>15.5</td><td>8</td><td>318.0</td><td>150</td><td>2.76</td><td>3.520</td><td>16.87</td><td>0</td><td>0</td><td>3</td><td>2</td></tr>\n",
              "\t<tr><th scope=row>AMC Javelin</th><td>15.2</td><td>8</td><td>304.0</td><td>150</td><td>3.15</td><td>3.435</td><td>17.30</td><td>0</td><td>0</td><td>3</td><td>2</td></tr>\n",
              "\t<tr><th scope=row>Camaro Z28</th><td>13.3</td><td>8</td><td>350.0</td><td>245</td><td>3.73</td><td>3.840</td><td>15.41</td><td>0</td><td>0</td><td>3</td><td>4</td></tr>\n",
              "\t<tr><th scope=row>Pontiac Firebird</th><td>19.2</td><td>8</td><td>400.0</td><td>175</td><td>3.08</td><td>3.845</td><td>17.05</td><td>0</td><td>0</td><td>3</td><td>2</td></tr>\n",
              "\t<tr><th scope=row>Fiat X1-9</th><td>27.3</td><td>4</td><td> 79.0</td><td> 66</td><td>4.08</td><td>1.935</td><td>18.90</td><td>1</td><td>1</td><td>4</td><td>1</td></tr>\n",
              "\t<tr><th scope=row>Porsche 914-2</th><td>26.0</td><td>4</td><td>120.3</td><td> 91</td><td>4.43</td><td>2.140</td><td>16.70</td><td>0</td><td>1</td><td>5</td><td>2</td></tr>\n",
              "\t<tr><th scope=row>Lotus Europa</th><td>30.4</td><td>4</td><td> 95.1</td><td>113</td><td>3.77</td><td>1.513</td><td>16.90</td><td>1</td><td>1</td><td>5</td><td>2</td></tr>\n",
              "\t<tr><th scope=row>Ford Pantera L</th><td>15.8</td><td>8</td><td>351.0</td><td>264</td><td>4.22</td><td>3.170</td><td>14.50</td><td>0</td><td>1</td><td>5</td><td>4</td></tr>\n",
              "\t<tr><th scope=row>Ferrari Dino</th><td>19.7</td><td>6</td><td>145.0</td><td>175</td><td>3.62</td><td>2.770</td><td>15.50</td><td>0</td><td>1</td><td>5</td><td>6</td></tr>\n",
              "\t<tr><th scope=row>Maserati Bora</th><td>15.0</td><td>8</td><td>301.0</td><td>335</td><td>3.54</td><td>3.570</td><td>14.60</td><td>0</td><td>1</td><td>5</td><td>8</td></tr>\n",
              "\t<tr><th scope=row>Volvo 142E</th><td>21.4</td><td>4</td><td>121.0</td><td>109</td><td>4.11</td><td>2.780</td><td>18.60</td><td>1</td><td>1</td><td>4</td><td>2</td></tr>\n",
              "</tbody>\n",
              "</table>\n"
            ],
            "text/markdown": "\nA data.frame: 32 × 11\n\n| <!--/--> | mpg &lt;dbl&gt; | cyl &lt;dbl&gt; | disp &lt;dbl&gt; | hp &lt;dbl&gt; | drat &lt;dbl&gt; | wt &lt;dbl&gt; | qsec &lt;dbl&gt; | vs &lt;dbl&gt; | am &lt;dbl&gt; | gear &lt;dbl&gt; | carb &lt;dbl&gt; |\n|---|---|---|---|---|---|---|---|---|---|---|---|\n| Mazda RX4 | 21.0 | 6 | 160.0 | 110 | 3.90 | 2.620 | 16.46 | 0 | 1 | 4 | 4 |\n| Mazda RX4 Wag | 21.0 | 6 | 160.0 | 110 | 3.90 | 2.875 | 17.02 | 0 | 1 | 4 | 4 |\n| Datsun 710 | 22.8 | 4 | 108.0 |  93 | 3.85 | 2.320 | 18.61 | 1 | 1 | 4 | 1 |\n| Hornet 4 Drive | 21.4 | 6 | 258.0 | 110 | 3.08 | 3.215 | 19.44 | 1 | 0 | 3 | 1 |\n| Hornet Sportabout | 18.7 | 8 | 360.0 | 175 | 3.15 | 3.440 | 17.02 | 0 | 0 | 3 | 2 |\n| Valiant | 18.1 | 6 | 225.0 | 105 | 2.76 | 3.460 | 20.22 | 1 | 0 | 3 | 1 |\n| Duster 360 | 14.3 | 8 | 360.0 | 245 | 3.21 | 3.570 | 15.84 | 0 | 0 | 3 | 4 |\n| Merc 240D | 24.4 | 4 | 146.7 |  62 | 3.69 | 3.190 | 20.00 | 1 | 0 | 4 | 2 |\n| Merc 230 | 22.8 | 4 | 140.8 |  95 | 3.92 | 3.150 | 22.90 | 1 | 0 | 4 | 2 |\n| Merc 280 | 19.2 | 6 | 167.6 | 123 | 3.92 | 3.440 | 18.30 | 1 | 0 | 4 | 4 |\n| Merc 280C | 17.8 | 6 | 167.6 | 123 | 3.92 | 3.440 | 18.90 | 1 | 0 | 4 | 4 |\n| Merc 450SE | 16.4 | 8 | 275.8 | 180 | 3.07 | 4.070 | 17.40 | 0 | 0 | 3 | 3 |\n| Merc 450SL | 17.3 | 8 | 275.8 | 180 | 3.07 | 3.730 | 17.60 | 0 | 0 | 3 | 3 |\n| Merc 450SLC | 15.2 | 8 | 275.8 | 180 | 3.07 | 3.780 | 18.00 | 0 | 0 | 3 | 3 |\n| Cadillac Fleetwood | 10.4 | 8 | 472.0 | 205 | 2.93 | 5.250 | 17.98 | 0 | 0 | 3 | 4 |\n| Lincoln Continental | 10.4 | 8 | 460.0 | 215 | 3.00 | 5.424 | 17.82 | 0 | 0 | 3 | 4 |\n| Chrysler Imperial | 14.7 | 8 | 440.0 | 230 | 3.23 | 5.345 | 17.42 | 0 | 0 | 3 | 4 |\n| Fiat 128 | 32.4 | 4 |  78.7 |  66 | 4.08 | 2.200 | 19.47 | 1 | 1 | 4 | 1 |\n| Honda Civic | 30.4 | 4 |  75.7 |  52 | 4.93 | 1.615 | 18.52 | 1 | 1 | 4 | 2 |\n| Toyota Corolla | 33.9 | 4 |  71.1 |  65 | 4.22 | 1.835 | 19.90 | 1 | 1 | 4 | 1 |\n| Toyota Corona | 21.5 | 4 | 120.1 |  97 | 3.70 | 2.465 | 20.01 | 1 | 0 | 3 | 1 |\n| Dodge Challenger | 15.5 | 8 | 318.0 | 150 | 2.76 | 3.520 | 16.87 | 0 | 0 | 3 | 2 |\n| AMC Javelin | 15.2 | 8 | 304.0 | 150 | 3.15 | 3.435 | 17.30 | 0 | 0 | 3 | 2 |\n| Camaro Z28 | 13.3 | 8 | 350.0 | 245 | 3.73 | 3.840 | 15.41 | 0 | 0 | 3 | 4 |\n| Pontiac Firebird | 19.2 | 8 | 400.0 | 175 | 3.08 | 3.845 | 17.05 | 0 | 0 | 3 | 2 |\n| Fiat X1-9 | 27.3 | 4 |  79.0 |  66 | 4.08 | 1.935 | 18.90 | 1 | 1 | 4 | 1 |\n| Porsche 914-2 | 26.0 | 4 | 120.3 |  91 | 4.43 | 2.140 | 16.70 | 0 | 1 | 5 | 2 |\n| Lotus Europa | 30.4 | 4 |  95.1 | 113 | 3.77 | 1.513 | 16.90 | 1 | 1 | 5 | 2 |\n| Ford Pantera L | 15.8 | 8 | 351.0 | 264 | 4.22 | 3.170 | 14.50 | 0 | 1 | 5 | 4 |\n| Ferrari Dino | 19.7 | 6 | 145.0 | 175 | 3.62 | 2.770 | 15.50 | 0 | 1 | 5 | 6 |\n| Maserati Bora | 15.0 | 8 | 301.0 | 335 | 3.54 | 3.570 | 14.60 | 0 | 1 | 5 | 8 |\n| Volvo 142E | 21.4 | 4 | 121.0 | 109 | 4.11 | 2.780 | 18.60 | 1 | 1 | 4 | 2 |\n\n",
            "text/latex": "A data.frame: 32 × 11\n\\begin{tabular}{r|lllllllllll}\n  & mpg & cyl & disp & hp & drat & wt & qsec & vs & am & gear & carb\\\\\n  & <dbl> & <dbl> & <dbl> & <dbl> & <dbl> & <dbl> & <dbl> & <dbl> & <dbl> & <dbl> & <dbl>\\\\\n\\hline\n\tMazda RX4 & 21.0 & 6 & 160.0 & 110 & 3.90 & 2.620 & 16.46 & 0 & 1 & 4 & 4\\\\\n\tMazda RX4 Wag & 21.0 & 6 & 160.0 & 110 & 3.90 & 2.875 & 17.02 & 0 & 1 & 4 & 4\\\\\n\tDatsun 710 & 22.8 & 4 & 108.0 &  93 & 3.85 & 2.320 & 18.61 & 1 & 1 & 4 & 1\\\\\n\tHornet 4 Drive & 21.4 & 6 & 258.0 & 110 & 3.08 & 3.215 & 19.44 & 1 & 0 & 3 & 1\\\\\n\tHornet Sportabout & 18.7 & 8 & 360.0 & 175 & 3.15 & 3.440 & 17.02 & 0 & 0 & 3 & 2\\\\\n\tValiant & 18.1 & 6 & 225.0 & 105 & 2.76 & 3.460 & 20.22 & 1 & 0 & 3 & 1\\\\\n\tDuster 360 & 14.3 & 8 & 360.0 & 245 & 3.21 & 3.570 & 15.84 & 0 & 0 & 3 & 4\\\\\n\tMerc 240D & 24.4 & 4 & 146.7 &  62 & 3.69 & 3.190 & 20.00 & 1 & 0 & 4 & 2\\\\\n\tMerc 230 & 22.8 & 4 & 140.8 &  95 & 3.92 & 3.150 & 22.90 & 1 & 0 & 4 & 2\\\\\n\tMerc 280 & 19.2 & 6 & 167.6 & 123 & 3.92 & 3.440 & 18.30 & 1 & 0 & 4 & 4\\\\\n\tMerc 280C & 17.8 & 6 & 167.6 & 123 & 3.92 & 3.440 & 18.90 & 1 & 0 & 4 & 4\\\\\n\tMerc 450SE & 16.4 & 8 & 275.8 & 180 & 3.07 & 4.070 & 17.40 & 0 & 0 & 3 & 3\\\\\n\tMerc 450SL & 17.3 & 8 & 275.8 & 180 & 3.07 & 3.730 & 17.60 & 0 & 0 & 3 & 3\\\\\n\tMerc 450SLC & 15.2 & 8 & 275.8 & 180 & 3.07 & 3.780 & 18.00 & 0 & 0 & 3 & 3\\\\\n\tCadillac Fleetwood & 10.4 & 8 & 472.0 & 205 & 2.93 & 5.250 & 17.98 & 0 & 0 & 3 & 4\\\\\n\tLincoln Continental & 10.4 & 8 & 460.0 & 215 & 3.00 & 5.424 & 17.82 & 0 & 0 & 3 & 4\\\\\n\tChrysler Imperial & 14.7 & 8 & 440.0 & 230 & 3.23 & 5.345 & 17.42 & 0 & 0 & 3 & 4\\\\\n\tFiat 128 & 32.4 & 4 &  78.7 &  66 & 4.08 & 2.200 & 19.47 & 1 & 1 & 4 & 1\\\\\n\tHonda Civic & 30.4 & 4 &  75.7 &  52 & 4.93 & 1.615 & 18.52 & 1 & 1 & 4 & 2\\\\\n\tToyota Corolla & 33.9 & 4 &  71.1 &  65 & 4.22 & 1.835 & 19.90 & 1 & 1 & 4 & 1\\\\\n\tToyota Corona & 21.5 & 4 & 120.1 &  97 & 3.70 & 2.465 & 20.01 & 1 & 0 & 3 & 1\\\\\n\tDodge Challenger & 15.5 & 8 & 318.0 & 150 & 2.76 & 3.520 & 16.87 & 0 & 0 & 3 & 2\\\\\n\tAMC Javelin & 15.2 & 8 & 304.0 & 150 & 3.15 & 3.435 & 17.30 & 0 & 0 & 3 & 2\\\\\n\tCamaro Z28 & 13.3 & 8 & 350.0 & 245 & 3.73 & 3.840 & 15.41 & 0 & 0 & 3 & 4\\\\\n\tPontiac Firebird & 19.2 & 8 & 400.0 & 175 & 3.08 & 3.845 & 17.05 & 0 & 0 & 3 & 2\\\\\n\tFiat X1-9 & 27.3 & 4 &  79.0 &  66 & 4.08 & 1.935 & 18.90 & 1 & 1 & 4 & 1\\\\\n\tPorsche 914-2 & 26.0 & 4 & 120.3 &  91 & 4.43 & 2.140 & 16.70 & 0 & 1 & 5 & 2\\\\\n\tLotus Europa & 30.4 & 4 &  95.1 & 113 & 3.77 & 1.513 & 16.90 & 1 & 1 & 5 & 2\\\\\n\tFord Pantera L & 15.8 & 8 & 351.0 & 264 & 4.22 & 3.170 & 14.50 & 0 & 1 & 5 & 4\\\\\n\tFerrari Dino & 19.7 & 6 & 145.0 & 175 & 3.62 & 2.770 & 15.50 & 0 & 1 & 5 & 6\\\\\n\tMaserati Bora & 15.0 & 8 & 301.0 & 335 & 3.54 & 3.570 & 14.60 & 0 & 1 & 5 & 8\\\\\n\tVolvo 142E & 21.4 & 4 & 121.0 & 109 & 4.11 & 2.780 & 18.60 & 1 & 1 & 4 & 2\\\\\n\\end{tabular}\n",
            "text/plain": [
              "                    mpg  cyl disp  hp  drat wt    qsec  vs am gear carb\n",
              "Mazda RX4           21.0 6   160.0 110 3.90 2.620 16.46 0  1  4    4   \n",
              "Mazda RX4 Wag       21.0 6   160.0 110 3.90 2.875 17.02 0  1  4    4   \n",
              "Datsun 710          22.8 4   108.0  93 3.85 2.320 18.61 1  1  4    1   \n",
              "Hornet 4 Drive      21.4 6   258.0 110 3.08 3.215 19.44 1  0  3    1   \n",
              "Hornet Sportabout   18.7 8   360.0 175 3.15 3.440 17.02 0  0  3    2   \n",
              "Valiant             18.1 6   225.0 105 2.76 3.460 20.22 1  0  3    1   \n",
              "Duster 360          14.3 8   360.0 245 3.21 3.570 15.84 0  0  3    4   \n",
              "Merc 240D           24.4 4   146.7  62 3.69 3.190 20.00 1  0  4    2   \n",
              "Merc 230            22.8 4   140.8  95 3.92 3.150 22.90 1  0  4    2   \n",
              "Merc 280            19.2 6   167.6 123 3.92 3.440 18.30 1  0  4    4   \n",
              "Merc 280C           17.8 6   167.6 123 3.92 3.440 18.90 1  0  4    4   \n",
              "Merc 450SE          16.4 8   275.8 180 3.07 4.070 17.40 0  0  3    3   \n",
              "Merc 450SL          17.3 8   275.8 180 3.07 3.730 17.60 0  0  3    3   \n",
              "Merc 450SLC         15.2 8   275.8 180 3.07 3.780 18.00 0  0  3    3   \n",
              "Cadillac Fleetwood  10.4 8   472.0 205 2.93 5.250 17.98 0  0  3    4   \n",
              "Lincoln Continental 10.4 8   460.0 215 3.00 5.424 17.82 0  0  3    4   \n",
              "Chrysler Imperial   14.7 8   440.0 230 3.23 5.345 17.42 0  0  3    4   \n",
              "Fiat 128            32.4 4    78.7  66 4.08 2.200 19.47 1  1  4    1   \n",
              "Honda Civic         30.4 4    75.7  52 4.93 1.615 18.52 1  1  4    2   \n",
              "Toyota Corolla      33.9 4    71.1  65 4.22 1.835 19.90 1  1  4    1   \n",
              "Toyota Corona       21.5 4   120.1  97 3.70 2.465 20.01 1  0  3    1   \n",
              "Dodge Challenger    15.5 8   318.0 150 2.76 3.520 16.87 0  0  3    2   \n",
              "AMC Javelin         15.2 8   304.0 150 3.15 3.435 17.30 0  0  3    2   \n",
              "Camaro Z28          13.3 8   350.0 245 3.73 3.840 15.41 0  0  3    4   \n",
              "Pontiac Firebird    19.2 8   400.0 175 3.08 3.845 17.05 0  0  3    2   \n",
              "Fiat X1-9           27.3 4    79.0  66 4.08 1.935 18.90 1  1  4    1   \n",
              "Porsche 914-2       26.0 4   120.3  91 4.43 2.140 16.70 0  1  5    2   \n",
              "Lotus Europa        30.4 4    95.1 113 3.77 1.513 16.90 1  1  5    2   \n",
              "Ford Pantera L      15.8 8   351.0 264 4.22 3.170 14.50 0  1  5    4   \n",
              "Ferrari Dino        19.7 6   145.0 175 3.62 2.770 15.50 0  1  5    6   \n",
              "Maserati Bora       15.0 8   301.0 335 3.54 3.570 14.60 0  1  5    8   \n",
              "Volvo 142E          21.4 4   121.0 109 4.11 2.780 18.60 1  1  4    2   "
            ]
          },
          "metadata": {}
        }
      ]
    },
    {
      "cell_type": "code",
      "source": [
        "#22.- Autos que tengan un rendimiento menor a 18 millas por galón de combustible.\n",
        "\n",
        "df <- mtcars\n",
        "\n",
        "result <- df[df['mpg'] < 18, ]\n",
        "\n",
        "result"
      ],
      "metadata": {
        "colab": {
          "base_uri": "https://localhost:8080/",
          "height": 505
        },
        "id": "nzOD_-LGS73g",
        "outputId": "cbacdd14-9731-4108-d524-4422cf8cf86a"
      },
      "execution_count": null,
      "outputs": [
        {
          "output_type": "display_data",
          "data": {
            "text/html": [
              "<table class=\"dataframe\">\n",
              "<caption>A data.frame: 13 × 11</caption>\n",
              "<thead>\n",
              "\t<tr><th></th><th scope=col>mpg</th><th scope=col>cyl</th><th scope=col>disp</th><th scope=col>hp</th><th scope=col>drat</th><th scope=col>wt</th><th scope=col>qsec</th><th scope=col>vs</th><th scope=col>am</th><th scope=col>gear</th><th scope=col>carb</th></tr>\n",
              "\t<tr><th></th><th scope=col>&lt;dbl&gt;</th><th scope=col>&lt;dbl&gt;</th><th scope=col>&lt;dbl&gt;</th><th scope=col>&lt;dbl&gt;</th><th scope=col>&lt;dbl&gt;</th><th scope=col>&lt;dbl&gt;</th><th scope=col>&lt;dbl&gt;</th><th scope=col>&lt;dbl&gt;</th><th scope=col>&lt;dbl&gt;</th><th scope=col>&lt;dbl&gt;</th><th scope=col>&lt;dbl&gt;</th></tr>\n",
              "</thead>\n",
              "<tbody>\n",
              "\t<tr><th scope=row>Duster 360</th><td>14.3</td><td>8</td><td>360.0</td><td>245</td><td>3.21</td><td>3.570</td><td>15.84</td><td>0</td><td>0</td><td>3</td><td>4</td></tr>\n",
              "\t<tr><th scope=row>Merc 280C</th><td>17.8</td><td>6</td><td>167.6</td><td>123</td><td>3.92</td><td>3.440</td><td>18.90</td><td>1</td><td>0</td><td>4</td><td>4</td></tr>\n",
              "\t<tr><th scope=row>Merc 450SE</th><td>16.4</td><td>8</td><td>275.8</td><td>180</td><td>3.07</td><td>4.070</td><td>17.40</td><td>0</td><td>0</td><td>3</td><td>3</td></tr>\n",
              "\t<tr><th scope=row>Merc 450SL</th><td>17.3</td><td>8</td><td>275.8</td><td>180</td><td>3.07</td><td>3.730</td><td>17.60</td><td>0</td><td>0</td><td>3</td><td>3</td></tr>\n",
              "\t<tr><th scope=row>Merc 450SLC</th><td>15.2</td><td>8</td><td>275.8</td><td>180</td><td>3.07</td><td>3.780</td><td>18.00</td><td>0</td><td>0</td><td>3</td><td>3</td></tr>\n",
              "\t<tr><th scope=row>Cadillac Fleetwood</th><td>10.4</td><td>8</td><td>472.0</td><td>205</td><td>2.93</td><td>5.250</td><td>17.98</td><td>0</td><td>0</td><td>3</td><td>4</td></tr>\n",
              "\t<tr><th scope=row>Lincoln Continental</th><td>10.4</td><td>8</td><td>460.0</td><td>215</td><td>3.00</td><td>5.424</td><td>17.82</td><td>0</td><td>0</td><td>3</td><td>4</td></tr>\n",
              "\t<tr><th scope=row>Chrysler Imperial</th><td>14.7</td><td>8</td><td>440.0</td><td>230</td><td>3.23</td><td>5.345</td><td>17.42</td><td>0</td><td>0</td><td>3</td><td>4</td></tr>\n",
              "\t<tr><th scope=row>Dodge Challenger</th><td>15.5</td><td>8</td><td>318.0</td><td>150</td><td>2.76</td><td>3.520</td><td>16.87</td><td>0</td><td>0</td><td>3</td><td>2</td></tr>\n",
              "\t<tr><th scope=row>AMC Javelin</th><td>15.2</td><td>8</td><td>304.0</td><td>150</td><td>3.15</td><td>3.435</td><td>17.30</td><td>0</td><td>0</td><td>3</td><td>2</td></tr>\n",
              "\t<tr><th scope=row>Camaro Z28</th><td>13.3</td><td>8</td><td>350.0</td><td>245</td><td>3.73</td><td>3.840</td><td>15.41</td><td>0</td><td>0</td><td>3</td><td>4</td></tr>\n",
              "\t<tr><th scope=row>Ford Pantera L</th><td>15.8</td><td>8</td><td>351.0</td><td>264</td><td>4.22</td><td>3.170</td><td>14.50</td><td>0</td><td>1</td><td>5</td><td>4</td></tr>\n",
              "\t<tr><th scope=row>Maserati Bora</th><td>15.0</td><td>8</td><td>301.0</td><td>335</td><td>3.54</td><td>3.570</td><td>14.60</td><td>0</td><td>1</td><td>5</td><td>8</td></tr>\n",
              "</tbody>\n",
              "</table>\n"
            ],
            "text/markdown": "\nA data.frame: 13 × 11\n\n| <!--/--> | mpg &lt;dbl&gt; | cyl &lt;dbl&gt; | disp &lt;dbl&gt; | hp &lt;dbl&gt; | drat &lt;dbl&gt; | wt &lt;dbl&gt; | qsec &lt;dbl&gt; | vs &lt;dbl&gt; | am &lt;dbl&gt; | gear &lt;dbl&gt; | carb &lt;dbl&gt; |\n|---|---|---|---|---|---|---|---|---|---|---|---|\n| Duster 360 | 14.3 | 8 | 360.0 | 245 | 3.21 | 3.570 | 15.84 | 0 | 0 | 3 | 4 |\n| Merc 280C | 17.8 | 6 | 167.6 | 123 | 3.92 | 3.440 | 18.90 | 1 | 0 | 4 | 4 |\n| Merc 450SE | 16.4 | 8 | 275.8 | 180 | 3.07 | 4.070 | 17.40 | 0 | 0 | 3 | 3 |\n| Merc 450SL | 17.3 | 8 | 275.8 | 180 | 3.07 | 3.730 | 17.60 | 0 | 0 | 3 | 3 |\n| Merc 450SLC | 15.2 | 8 | 275.8 | 180 | 3.07 | 3.780 | 18.00 | 0 | 0 | 3 | 3 |\n| Cadillac Fleetwood | 10.4 | 8 | 472.0 | 205 | 2.93 | 5.250 | 17.98 | 0 | 0 | 3 | 4 |\n| Lincoln Continental | 10.4 | 8 | 460.0 | 215 | 3.00 | 5.424 | 17.82 | 0 | 0 | 3 | 4 |\n| Chrysler Imperial | 14.7 | 8 | 440.0 | 230 | 3.23 | 5.345 | 17.42 | 0 | 0 | 3 | 4 |\n| Dodge Challenger | 15.5 | 8 | 318.0 | 150 | 2.76 | 3.520 | 16.87 | 0 | 0 | 3 | 2 |\n| AMC Javelin | 15.2 | 8 | 304.0 | 150 | 3.15 | 3.435 | 17.30 | 0 | 0 | 3 | 2 |\n| Camaro Z28 | 13.3 | 8 | 350.0 | 245 | 3.73 | 3.840 | 15.41 | 0 | 0 | 3 | 4 |\n| Ford Pantera L | 15.8 | 8 | 351.0 | 264 | 4.22 | 3.170 | 14.50 | 0 | 1 | 5 | 4 |\n| Maserati Bora | 15.0 | 8 | 301.0 | 335 | 3.54 | 3.570 | 14.60 | 0 | 1 | 5 | 8 |\n\n",
            "text/latex": "A data.frame: 13 × 11\n\\begin{tabular}{r|lllllllllll}\n  & mpg & cyl & disp & hp & drat & wt & qsec & vs & am & gear & carb\\\\\n  & <dbl> & <dbl> & <dbl> & <dbl> & <dbl> & <dbl> & <dbl> & <dbl> & <dbl> & <dbl> & <dbl>\\\\\n\\hline\n\tDuster 360 & 14.3 & 8 & 360.0 & 245 & 3.21 & 3.570 & 15.84 & 0 & 0 & 3 & 4\\\\\n\tMerc 280C & 17.8 & 6 & 167.6 & 123 & 3.92 & 3.440 & 18.90 & 1 & 0 & 4 & 4\\\\\n\tMerc 450SE & 16.4 & 8 & 275.8 & 180 & 3.07 & 4.070 & 17.40 & 0 & 0 & 3 & 3\\\\\n\tMerc 450SL & 17.3 & 8 & 275.8 & 180 & 3.07 & 3.730 & 17.60 & 0 & 0 & 3 & 3\\\\\n\tMerc 450SLC & 15.2 & 8 & 275.8 & 180 & 3.07 & 3.780 & 18.00 & 0 & 0 & 3 & 3\\\\\n\tCadillac Fleetwood & 10.4 & 8 & 472.0 & 205 & 2.93 & 5.250 & 17.98 & 0 & 0 & 3 & 4\\\\\n\tLincoln Continental & 10.4 & 8 & 460.0 & 215 & 3.00 & 5.424 & 17.82 & 0 & 0 & 3 & 4\\\\\n\tChrysler Imperial & 14.7 & 8 & 440.0 & 230 & 3.23 & 5.345 & 17.42 & 0 & 0 & 3 & 4\\\\\n\tDodge Challenger & 15.5 & 8 & 318.0 & 150 & 2.76 & 3.520 & 16.87 & 0 & 0 & 3 & 2\\\\\n\tAMC Javelin & 15.2 & 8 & 304.0 & 150 & 3.15 & 3.435 & 17.30 & 0 & 0 & 3 & 2\\\\\n\tCamaro Z28 & 13.3 & 8 & 350.0 & 245 & 3.73 & 3.840 & 15.41 & 0 & 0 & 3 & 4\\\\\n\tFord Pantera L & 15.8 & 8 & 351.0 & 264 & 4.22 & 3.170 & 14.50 & 0 & 1 & 5 & 4\\\\\n\tMaserati Bora & 15.0 & 8 & 301.0 & 335 & 3.54 & 3.570 & 14.60 & 0 & 1 & 5 & 8\\\\\n\\end{tabular}\n",
            "text/plain": [
              "                    mpg  cyl disp  hp  drat wt    qsec  vs am gear carb\n",
              "Duster 360          14.3 8   360.0 245 3.21 3.570 15.84 0  0  3    4   \n",
              "Merc 280C           17.8 6   167.6 123 3.92 3.440 18.90 1  0  4    4   \n",
              "Merc 450SE          16.4 8   275.8 180 3.07 4.070 17.40 0  0  3    3   \n",
              "Merc 450SL          17.3 8   275.8 180 3.07 3.730 17.60 0  0  3    3   \n",
              "Merc 450SLC         15.2 8   275.8 180 3.07 3.780 18.00 0  0  3    3   \n",
              "Cadillac Fleetwood  10.4 8   472.0 205 2.93 5.250 17.98 0  0  3    4   \n",
              "Lincoln Continental 10.4 8   460.0 215 3.00 5.424 17.82 0  0  3    4   \n",
              "Chrysler Imperial   14.7 8   440.0 230 3.23 5.345 17.42 0  0  3    4   \n",
              "Dodge Challenger    15.5 8   318.0 150 2.76 3.520 16.87 0  0  3    2   \n",
              "AMC Javelin         15.2 8   304.0 150 3.15 3.435 17.30 0  0  3    2   \n",
              "Camaro Z28          13.3 8   350.0 245 3.73 3.840 15.41 0  0  3    4   \n",
              "Ford Pantera L      15.8 8   351.0 264 4.22 3.170 14.50 0  1  5    4   \n",
              "Maserati Bora       15.0 8   301.0 335 3.54 3.570 14.60 0  1  5    8   "
            ]
          },
          "metadata": {}
        }
      ]
    },
    {
      "cell_type": "code",
      "source": [
        "#23.- Autos que tengan 4 cilindros.\n",
        "df <- mtcars\n",
        "\n",
        "result <- df[df['cyl'] == 4, ]\n",
        "\n",
        "result"
      ],
      "metadata": {
        "colab": {
          "base_uri": "https://localhost:8080/",
          "height": 443
        },
        "id": "9jqTv4e8UzV2",
        "outputId": "8fff60aa-21cf-4d4f-c811-c9ae7a2d9b5d"
      },
      "execution_count": null,
      "outputs": [
        {
          "output_type": "display_data",
          "data": {
            "text/html": [
              "<table class=\"dataframe\">\n",
              "<caption>A data.frame: 11 × 11</caption>\n",
              "<thead>\n",
              "\t<tr><th></th><th scope=col>mpg</th><th scope=col>cyl</th><th scope=col>disp</th><th scope=col>hp</th><th scope=col>drat</th><th scope=col>wt</th><th scope=col>qsec</th><th scope=col>vs</th><th scope=col>am</th><th scope=col>gear</th><th scope=col>carb</th></tr>\n",
              "\t<tr><th></th><th scope=col>&lt;dbl&gt;</th><th scope=col>&lt;dbl&gt;</th><th scope=col>&lt;dbl&gt;</th><th scope=col>&lt;dbl&gt;</th><th scope=col>&lt;dbl&gt;</th><th scope=col>&lt;dbl&gt;</th><th scope=col>&lt;dbl&gt;</th><th scope=col>&lt;dbl&gt;</th><th scope=col>&lt;dbl&gt;</th><th scope=col>&lt;dbl&gt;</th><th scope=col>&lt;dbl&gt;</th></tr>\n",
              "</thead>\n",
              "<tbody>\n",
              "\t<tr><th scope=row>Datsun 710</th><td>22.8</td><td>4</td><td>108.0</td><td> 93</td><td>3.85</td><td>2.320</td><td>18.61</td><td>1</td><td>1</td><td>4</td><td>1</td></tr>\n",
              "\t<tr><th scope=row>Merc 240D</th><td>24.4</td><td>4</td><td>146.7</td><td> 62</td><td>3.69</td><td>3.190</td><td>20.00</td><td>1</td><td>0</td><td>4</td><td>2</td></tr>\n",
              "\t<tr><th scope=row>Merc 230</th><td>22.8</td><td>4</td><td>140.8</td><td> 95</td><td>3.92</td><td>3.150</td><td>22.90</td><td>1</td><td>0</td><td>4</td><td>2</td></tr>\n",
              "\t<tr><th scope=row>Fiat 128</th><td>32.4</td><td>4</td><td> 78.7</td><td> 66</td><td>4.08</td><td>2.200</td><td>19.47</td><td>1</td><td>1</td><td>4</td><td>1</td></tr>\n",
              "\t<tr><th scope=row>Honda Civic</th><td>30.4</td><td>4</td><td> 75.7</td><td> 52</td><td>4.93</td><td>1.615</td><td>18.52</td><td>1</td><td>1</td><td>4</td><td>2</td></tr>\n",
              "\t<tr><th scope=row>Toyota Corolla</th><td>33.9</td><td>4</td><td> 71.1</td><td> 65</td><td>4.22</td><td>1.835</td><td>19.90</td><td>1</td><td>1</td><td>4</td><td>1</td></tr>\n",
              "\t<tr><th scope=row>Toyota Corona</th><td>21.5</td><td>4</td><td>120.1</td><td> 97</td><td>3.70</td><td>2.465</td><td>20.01</td><td>1</td><td>0</td><td>3</td><td>1</td></tr>\n",
              "\t<tr><th scope=row>Fiat X1-9</th><td>27.3</td><td>4</td><td> 79.0</td><td> 66</td><td>4.08</td><td>1.935</td><td>18.90</td><td>1</td><td>1</td><td>4</td><td>1</td></tr>\n",
              "\t<tr><th scope=row>Porsche 914-2</th><td>26.0</td><td>4</td><td>120.3</td><td> 91</td><td>4.43</td><td>2.140</td><td>16.70</td><td>0</td><td>1</td><td>5</td><td>2</td></tr>\n",
              "\t<tr><th scope=row>Lotus Europa</th><td>30.4</td><td>4</td><td> 95.1</td><td>113</td><td>3.77</td><td>1.513</td><td>16.90</td><td>1</td><td>1</td><td>5</td><td>2</td></tr>\n",
              "\t<tr><th scope=row>Volvo 142E</th><td>21.4</td><td>4</td><td>121.0</td><td>109</td><td>4.11</td><td>2.780</td><td>18.60</td><td>1</td><td>1</td><td>4</td><td>2</td></tr>\n",
              "</tbody>\n",
              "</table>\n"
            ],
            "text/markdown": "\nA data.frame: 11 × 11\n\n| <!--/--> | mpg &lt;dbl&gt; | cyl &lt;dbl&gt; | disp &lt;dbl&gt; | hp &lt;dbl&gt; | drat &lt;dbl&gt; | wt &lt;dbl&gt; | qsec &lt;dbl&gt; | vs &lt;dbl&gt; | am &lt;dbl&gt; | gear &lt;dbl&gt; | carb &lt;dbl&gt; |\n|---|---|---|---|---|---|---|---|---|---|---|---|\n| Datsun 710 | 22.8 | 4 | 108.0 |  93 | 3.85 | 2.320 | 18.61 | 1 | 1 | 4 | 1 |\n| Merc 240D | 24.4 | 4 | 146.7 |  62 | 3.69 | 3.190 | 20.00 | 1 | 0 | 4 | 2 |\n| Merc 230 | 22.8 | 4 | 140.8 |  95 | 3.92 | 3.150 | 22.90 | 1 | 0 | 4 | 2 |\n| Fiat 128 | 32.4 | 4 |  78.7 |  66 | 4.08 | 2.200 | 19.47 | 1 | 1 | 4 | 1 |\n| Honda Civic | 30.4 | 4 |  75.7 |  52 | 4.93 | 1.615 | 18.52 | 1 | 1 | 4 | 2 |\n| Toyota Corolla | 33.9 | 4 |  71.1 |  65 | 4.22 | 1.835 | 19.90 | 1 | 1 | 4 | 1 |\n| Toyota Corona | 21.5 | 4 | 120.1 |  97 | 3.70 | 2.465 | 20.01 | 1 | 0 | 3 | 1 |\n| Fiat X1-9 | 27.3 | 4 |  79.0 |  66 | 4.08 | 1.935 | 18.90 | 1 | 1 | 4 | 1 |\n| Porsche 914-2 | 26.0 | 4 | 120.3 |  91 | 4.43 | 2.140 | 16.70 | 0 | 1 | 5 | 2 |\n| Lotus Europa | 30.4 | 4 |  95.1 | 113 | 3.77 | 1.513 | 16.90 | 1 | 1 | 5 | 2 |\n| Volvo 142E | 21.4 | 4 | 121.0 | 109 | 4.11 | 2.780 | 18.60 | 1 | 1 | 4 | 2 |\n\n",
            "text/latex": "A data.frame: 11 × 11\n\\begin{tabular}{r|lllllllllll}\n  & mpg & cyl & disp & hp & drat & wt & qsec & vs & am & gear & carb\\\\\n  & <dbl> & <dbl> & <dbl> & <dbl> & <dbl> & <dbl> & <dbl> & <dbl> & <dbl> & <dbl> & <dbl>\\\\\n\\hline\n\tDatsun 710 & 22.8 & 4 & 108.0 &  93 & 3.85 & 2.320 & 18.61 & 1 & 1 & 4 & 1\\\\\n\tMerc 240D & 24.4 & 4 & 146.7 &  62 & 3.69 & 3.190 & 20.00 & 1 & 0 & 4 & 2\\\\\n\tMerc 230 & 22.8 & 4 & 140.8 &  95 & 3.92 & 3.150 & 22.90 & 1 & 0 & 4 & 2\\\\\n\tFiat 128 & 32.4 & 4 &  78.7 &  66 & 4.08 & 2.200 & 19.47 & 1 & 1 & 4 & 1\\\\\n\tHonda Civic & 30.4 & 4 &  75.7 &  52 & 4.93 & 1.615 & 18.52 & 1 & 1 & 4 & 2\\\\\n\tToyota Corolla & 33.9 & 4 &  71.1 &  65 & 4.22 & 1.835 & 19.90 & 1 & 1 & 4 & 1\\\\\n\tToyota Corona & 21.5 & 4 & 120.1 &  97 & 3.70 & 2.465 & 20.01 & 1 & 0 & 3 & 1\\\\\n\tFiat X1-9 & 27.3 & 4 &  79.0 &  66 & 4.08 & 1.935 & 18.90 & 1 & 1 & 4 & 1\\\\\n\tPorsche 914-2 & 26.0 & 4 & 120.3 &  91 & 4.43 & 2.140 & 16.70 & 0 & 1 & 5 & 2\\\\\n\tLotus Europa & 30.4 & 4 &  95.1 & 113 & 3.77 & 1.513 & 16.90 & 1 & 1 & 5 & 2\\\\\n\tVolvo 142E & 21.4 & 4 & 121.0 & 109 & 4.11 & 2.780 & 18.60 & 1 & 1 & 4 & 2\\\\\n\\end{tabular}\n",
            "text/plain": [
              "               mpg  cyl disp  hp  drat wt    qsec  vs am gear carb\n",
              "Datsun 710     22.8 4   108.0  93 3.85 2.320 18.61 1  1  4    1   \n",
              "Merc 240D      24.4 4   146.7  62 3.69 3.190 20.00 1  0  4    2   \n",
              "Merc 230       22.8 4   140.8  95 3.92 3.150 22.90 1  0  4    2   \n",
              "Fiat 128       32.4 4    78.7  66 4.08 2.200 19.47 1  1  4    1   \n",
              "Honda Civic    30.4 4    75.7  52 4.93 1.615 18.52 1  1  4    2   \n",
              "Toyota Corolla 33.9 4    71.1  65 4.22 1.835 19.90 1  1  4    1   \n",
              "Toyota Corona  21.5 4   120.1  97 3.70 2.465 20.01 1  0  3    1   \n",
              "Fiat X1-9      27.3 4    79.0  66 4.08 1.935 18.90 1  1  4    1   \n",
              "Porsche 914-2  26.0 4   120.3  91 4.43 2.140 16.70 0  1  5    2   \n",
              "Lotus Europa   30.4 4    95.1 113 3.77 1.513 16.90 1  1  5    2   \n",
              "Volvo 142E     21.4 4   121.0 109 4.11 2.780 18.60 1  1  4    2   "
            ]
          },
          "metadata": {}
        }
      ]
    },
    {
      "cell_type": "code",
      "source": [
        "#24.- Autos que pesen más de 2500 libras y tengan transmisión manual.\n",
        "\n",
        "df <- mtcars\n",
        "\n",
        "result <- df[df['wt'] > 2.5 & df['am'] == 1, ]\n",
        "\n",
        "result"
      ],
      "metadata": {
        "colab": {
          "base_uri": "https://localhost:8080/",
          "height": 286
        },
        "id": "OOVSFBS5U37t",
        "outputId": "cf8b9848-2282-43e9-a544-d13a7b09d420"
      },
      "execution_count": null,
      "outputs": [
        {
          "output_type": "display_data",
          "data": {
            "text/html": [
              "<table class=\"dataframe\">\n",
              "<caption>A data.frame: 6 × 11</caption>\n",
              "<thead>\n",
              "\t<tr><th></th><th scope=col>mpg</th><th scope=col>cyl</th><th scope=col>disp</th><th scope=col>hp</th><th scope=col>drat</th><th scope=col>wt</th><th scope=col>qsec</th><th scope=col>vs</th><th scope=col>am</th><th scope=col>gear</th><th scope=col>carb</th></tr>\n",
              "\t<tr><th></th><th scope=col>&lt;dbl&gt;</th><th scope=col>&lt;dbl&gt;</th><th scope=col>&lt;dbl&gt;</th><th scope=col>&lt;dbl&gt;</th><th scope=col>&lt;dbl&gt;</th><th scope=col>&lt;dbl&gt;</th><th scope=col>&lt;dbl&gt;</th><th scope=col>&lt;dbl&gt;</th><th scope=col>&lt;dbl&gt;</th><th scope=col>&lt;dbl&gt;</th><th scope=col>&lt;dbl&gt;</th></tr>\n",
              "</thead>\n",
              "<tbody>\n",
              "\t<tr><th scope=row>Mazda RX4</th><td>21.0</td><td>6</td><td>160</td><td>110</td><td>3.90</td><td>2.620</td><td>16.46</td><td>0</td><td>1</td><td>4</td><td>4</td></tr>\n",
              "\t<tr><th scope=row>Mazda RX4 Wag</th><td>21.0</td><td>6</td><td>160</td><td>110</td><td>3.90</td><td>2.875</td><td>17.02</td><td>0</td><td>1</td><td>4</td><td>4</td></tr>\n",
              "\t<tr><th scope=row>Ford Pantera L</th><td>15.8</td><td>8</td><td>351</td><td>264</td><td>4.22</td><td>3.170</td><td>14.50</td><td>0</td><td>1</td><td>5</td><td>4</td></tr>\n",
              "\t<tr><th scope=row>Ferrari Dino</th><td>19.7</td><td>6</td><td>145</td><td>175</td><td>3.62</td><td>2.770</td><td>15.50</td><td>0</td><td>1</td><td>5</td><td>6</td></tr>\n",
              "\t<tr><th scope=row>Maserati Bora</th><td>15.0</td><td>8</td><td>301</td><td>335</td><td>3.54</td><td>3.570</td><td>14.60</td><td>0</td><td>1</td><td>5</td><td>8</td></tr>\n",
              "\t<tr><th scope=row>Volvo 142E</th><td>21.4</td><td>4</td><td>121</td><td>109</td><td>4.11</td><td>2.780</td><td>18.60</td><td>1</td><td>1</td><td>4</td><td>2</td></tr>\n",
              "</tbody>\n",
              "</table>\n"
            ],
            "text/markdown": "\nA data.frame: 6 × 11\n\n| <!--/--> | mpg &lt;dbl&gt; | cyl &lt;dbl&gt; | disp &lt;dbl&gt; | hp &lt;dbl&gt; | drat &lt;dbl&gt; | wt &lt;dbl&gt; | qsec &lt;dbl&gt; | vs &lt;dbl&gt; | am &lt;dbl&gt; | gear &lt;dbl&gt; | carb &lt;dbl&gt; |\n|---|---|---|---|---|---|---|---|---|---|---|---|\n| Mazda RX4 | 21.0 | 6 | 160 | 110 | 3.90 | 2.620 | 16.46 | 0 | 1 | 4 | 4 |\n| Mazda RX4 Wag | 21.0 | 6 | 160 | 110 | 3.90 | 2.875 | 17.02 | 0 | 1 | 4 | 4 |\n| Ford Pantera L | 15.8 | 8 | 351 | 264 | 4.22 | 3.170 | 14.50 | 0 | 1 | 5 | 4 |\n| Ferrari Dino | 19.7 | 6 | 145 | 175 | 3.62 | 2.770 | 15.50 | 0 | 1 | 5 | 6 |\n| Maserati Bora | 15.0 | 8 | 301 | 335 | 3.54 | 3.570 | 14.60 | 0 | 1 | 5 | 8 |\n| Volvo 142E | 21.4 | 4 | 121 | 109 | 4.11 | 2.780 | 18.60 | 1 | 1 | 4 | 2 |\n\n",
            "text/latex": "A data.frame: 6 × 11\n\\begin{tabular}{r|lllllllllll}\n  & mpg & cyl & disp & hp & drat & wt & qsec & vs & am & gear & carb\\\\\n  & <dbl> & <dbl> & <dbl> & <dbl> & <dbl> & <dbl> & <dbl> & <dbl> & <dbl> & <dbl> & <dbl>\\\\\n\\hline\n\tMazda RX4 & 21.0 & 6 & 160 & 110 & 3.90 & 2.620 & 16.46 & 0 & 1 & 4 & 4\\\\\n\tMazda RX4 Wag & 21.0 & 6 & 160 & 110 & 3.90 & 2.875 & 17.02 & 0 & 1 & 4 & 4\\\\\n\tFord Pantera L & 15.8 & 8 & 351 & 264 & 4.22 & 3.170 & 14.50 & 0 & 1 & 5 & 4\\\\\n\tFerrari Dino & 19.7 & 6 & 145 & 175 & 3.62 & 2.770 & 15.50 & 0 & 1 & 5 & 6\\\\\n\tMaserati Bora & 15.0 & 8 & 301 & 335 & 3.54 & 3.570 & 14.60 & 0 & 1 & 5 & 8\\\\\n\tVolvo 142E & 21.4 & 4 & 121 & 109 & 4.11 & 2.780 & 18.60 & 1 & 1 & 4 & 2\\\\\n\\end{tabular}\n",
            "text/plain": [
              "               mpg  cyl disp hp  drat wt    qsec  vs am gear carb\n",
              "Mazda RX4      21.0 6   160  110 3.90 2.620 16.46 0  1  4    4   \n",
              "Mazda RX4 Wag  21.0 6   160  110 3.90 2.875 17.02 0  1  4    4   \n",
              "Ford Pantera L 15.8 8   351  264 4.22 3.170 14.50 0  1  5    4   \n",
              "Ferrari Dino   19.7 6   145  175 3.62 2.770 15.50 0  1  5    6   \n",
              "Maserati Bora  15.0 8   301  335 3.54 3.570 14.60 0  1  5    8   \n",
              "Volvo 142E     21.4 4   121  109 4.11 2.780 18.60 1  1  4    2   "
            ]
          },
          "metadata": {}
        }
      ]
    },
    {
      "cell_type": "markdown",
      "source": [
        "# Capítulo 7"
      ],
      "metadata": {
        "id": "QKZnfm2qWHH1"
      }
    },
    {
      "cell_type": "code",
      "source": [
        "#1.- Construya una función que reciba dos números reales a y b, la función debe decir cuál es el mayor de ellos.\n",
        "\n",
        "f_mayor <- function(x, y){\n",
        "  if(x >= y){\n",
        "    return (x)\n",
        "  }\n",
        "  else {\n",
        "    return (y)\n",
        "  }\n",
        "\n",
        "}\n",
        "\n",
        "print(f_mayor(3,2))"
      ],
      "metadata": {
        "colab": {
          "base_uri": "https://localhost:8080/"
        },
        "id": "jNuzjvJHWL0u",
        "outputId": "d79d4e31-0972-4957-80d7-9d993345ca0c"
      },
      "execution_count": null,
      "outputs": [
        {
          "output_type": "stream",
          "name": "stdout",
          "text": [
            "[1] 3\n"
          ]
        }
      ]
    },
    {
      "cell_type": "code",
      "source": [
        "#2 Escriba una función llamada media que calcule la media muestral de un vector numérico x ingresado a la función.\n",
        "\n",
        "f_media <- function(x)\n",
        "{\n",
        "  if(is.numeric(x)){return(sum(x)/length(x))}\n",
        "  else {\"El vector no es numérico\"}\n",
        "\n",
        "}\n",
        "print(f_media(c(1,2,3,4)))\n",
        "\n",
        "print(f_media(c(1,\"a\",3,4)))"
      ],
      "metadata": {
        "colab": {
          "base_uri": "https://localhost:8080/"
        },
        "id": "OODSvikhXEEg",
        "outputId": "c977c09a-4443-4fd9-e71a-b5852bc89973"
      },
      "execution_count": null,
      "outputs": [
        {
          "output_type": "stream",
          "name": "stdout",
          "text": [
            "[1] 2.5\n",
            "[1] \"El vector no es numérico\"\n"
          ]
        }
      ]
    },
    {
      "cell_type": "markdown",
      "source": [
        "####3.- Construya una función que encuentre las raíces de una ecuación de segundo grado. El usuario debe suministrar los coeficientes a, b y c de la ecuación $ax^2+bx+c=0$ y la función debe entregar las raíces."
      ],
      "metadata": {
        "id": "A4p-xz4iYPDt"
      }
    },
    {
      "cell_type": "code",
      "source": [
        "f_raices <- function(a,b,c){\n",
        "  return(c( ((-b+(b^2-4*a*c)^(0.5))/2*a), ((-b-(b^2-4*a*c)^(0.5))/2*a) ))\n",
        "}\n",
        "\n",
        "f_raices(1,5,6)"
      ],
      "metadata": {
        "colab": {
          "base_uri": "https://localhost:8080/",
          "height": 34
        },
        "id": "Y8r4YQfbYDup",
        "outputId": "e985fbc9-ea21-4e34-dd84-08a9e1d2cfa5"
      },
      "execution_count": null,
      "outputs": [
        {
          "output_type": "display_data",
          "data": {
            "text/html": [
              "<style>\n",
              ".list-inline {list-style: none; margin:0; padding: 0}\n",
              ".list-inline>li {display: inline-block}\n",
              ".list-inline>li:not(:last-child)::after {content: \"\\00b7\"; padding: 0 .5ex}\n",
              "</style>\n",
              "<ol class=list-inline><li>-2</li><li>-3</li></ol>\n"
            ],
            "text/markdown": "1. -2\n2. -3\n\n\n",
            "text/latex": "\\begin{enumerate*}\n\\item -2\n\\item -3\n\\end{enumerate*}\n",
            "text/plain": [
              "[1] -2 -3"
            ]
          },
          "metadata": {}
        }
      ]
    },
    {
      "cell_type": "code",
      "source": [
        "#4.- Escribir una función que calcule la velocidad de un proyectil dado que el usuario ingresa la distancia recorrida en Km y el tiempo necesario en minutos. Expresar el resultado se debe entregar en metros/segundo, recuerde que v=d/t\n",
        "\n",
        "f_velocidad <- function(d,t)\n",
        "{\n",
        "if (t==0){return(\"Valor de t no válido\")}\n",
        "else{return(d/t)}\n",
        "}\n",
        "\n",
        "print(f_velocidad(5,2))"
      ],
      "metadata": {
        "colab": {
          "base_uri": "https://localhost:8080/"
        },
        "id": "Ty3-KwDoYw9w",
        "outputId": "c50a69b9-5a16-4a67-d814-08ed8d5b301d"
      },
      "execution_count": null,
      "outputs": [
        {
          "output_type": "stream",
          "name": "stdout",
          "text": [
            "[1] 2.5\n"
          ]
        }
      ]
    },
    {
      "cell_type": "code",
      "source": [
        "#5.- Escribir una función que reciba dos valores a y b y que los intercambie. Es decir, si ingresa a=4 y b=9 que la función entregue a=9 y b=4.\n",
        "\n",
        "f_intercambio <- function(a,b)\n",
        "{\n",
        "c <- b\n",
        "b <<- a\n",
        "a <<- c\n",
        "}\n",
        "\n",
        "a <- 4\n",
        "b <- 9\n",
        "\n",
        "f_intercambio(a,b)\n",
        "\n",
        "print(a)\n",
        "print(b)"
      ],
      "metadata": {
        "colab": {
          "base_uri": "https://localhost:8080/"
        },
        "id": "lslGfoWNZdd-",
        "outputId": "03d76e63-0c13-4257-b1c6-c712f147357a"
      },
      "execution_count": null,
      "outputs": [
        {
          "output_type": "stream",
          "name": "stdout",
          "text": [
            "[1] 9\n",
            "[1] 4\n"
          ]
        }
      ]
    },
    {
      "cell_type": "code",
      "source": [
        "#6.- Construya una función a la cual le ingrese el salario por hora y el número de horas trabajadas durante una semana por un trabajador. La función debe calcular el salario neto.\n",
        "\n",
        "f_salario_neto <-function(salario, horas)\n",
        "{\n",
        "  return(salario*horas)\n",
        "}\n",
        "\n",
        "print(f_salario_neto(5,20))"
      ],
      "metadata": {
        "colab": {
          "base_uri": "https://localhost:8080/"
        },
        "id": "ocyEANrxcdJZ",
        "outputId": "bf24ec28-3c05-4d0c-a860-868f3e35fc62"
      },
      "execution_count": null,
      "outputs": [
        {
          "output_type": "stream",
          "name": "stdout",
          "text": [
            "[1] 100\n"
          ]
        }
      ]
    },
    {
      "cell_type": "code",
      "source": [
        "#7.- Construya una función llamada precio que calcule el precio total de sacar A fotocopias y B impresiones,\n",
        "#sabiendo que los precios son 50 y 100 pesos para A y B respectivamente si el cliente es un estudiante,\n",
        "#y de 75 y 150 para A y B si el cliente es un profesor. La función debe tener dos argumentos cuantitativos (A y B) y el argumento lógico estudiante que por defecto tenga el valor de TRUE.\n",
        "#Use la estructura mostrada abajo.\n",
        "\n",
        "precio <- function(A, B, estudiante=TRUE) {\n",
        "\n",
        "  if (estudiante){precio.total = 50*A+100*B}\n",
        "  else {precio.total <- 75*A+150*B}\n",
        "\n",
        "  return(precio.total)\n",
        "}\n",
        "\n",
        "print(precio(1,1,FALSE))\n",
        "print(precio(1,1))"
      ],
      "metadata": {
        "id": "Ai2f4PFCcVT8",
        "colab": {
          "base_uri": "https://localhost:8080/"
        },
        "outputId": "b8394739-c632-4ece-b79c-e5f5e7cff1ab"
      },
      "execution_count": null,
      "outputs": [
        {
          "output_type": "stream",
          "name": "stdout",
          "text": [
            "[1] 225\n",
            "[1] 150\n"
          ]
        }
      ]
    },
    {
      "cell_type": "code",
      "source": [
        "#8.- Construya una función llamada salario que le ingrese el salario por hora y el número de horas trabajadas durante una semana por un trabajador.\n",
        "#La función debe calcular el salario neto semanal, teniendo en cuenta que si el número de horas trabajadas durante la semana es mayor de 48,\n",
        "#esas horas de demás se consideran horas extras y tienen un 35% de recargo. Imprima el salario neto. Use la estructura mostrada abajo.\n",
        "\n",
        "salario <- function(num.horas, valor.hora) {\n",
        "\n",
        "  if (num.horas > 48) {\n",
        "    horas.extra <- num.horas-48\n",
        "    salario.neto <- valor.hora*(48 + horas.extra* 0.65)\n",
        "    }\n",
        "  else\n",
        "  {\n",
        "    salario.neto <- valor.hora*num.horas\n",
        "  }\n",
        "\n",
        "  return(salario.neto)\n",
        "}\n",
        "\n",
        "print(salario(49,1))\n",
        "print(salario(48,1))"
      ],
      "metadata": {
        "colab": {
          "base_uri": "https://localhost:8080/"
        },
        "id": "i3qCWpMDbr3o",
        "outputId": "8644ae31-f943-42a4-dfa5-fa06598ca4bc"
      },
      "execution_count": null,
      "outputs": [
        {
          "output_type": "stream",
          "name": "stdout",
          "text": [
            "[1] 48.65\n",
            "[1] 48\n"
          ]
        }
      ]
    },
    {
      "cell_type": "code",
      "source": [
        "#9.- Construya una función llamada nota que calcule la nota obtenida por un alumno en una evaluación de tres puntos cuya ponderación o importancia son\n",
        "# 20%, 30% y 50% para los puntos I, II y III respectivamente.\n",
        "#Adicionalmente la función debe generar un mensaje sobre si el estudiante aprobó la evaluación o no.\n",
        "#El usuario debe ingresar las notas individuales de los tres puntos y la función debe entregar la nota final de la evaluación. Use la estructura mostrada abajo.\n",
        "nota <- function(p1, p2, p3) {\n",
        "  nota.final<- p1*0.20 + p2*0.30 + p3*0.50\n",
        "\n",
        "  if(nota.final >= 6){print(\"Aprobó\")}\n",
        "  else(print(\"No aprobó\"))\n",
        "\n",
        "  return(nota.final)\n",
        "}\n",
        "\n",
        "print(nota(6,6,6))\n",
        "\n",
        "print(nota(6,6,5))"
      ],
      "metadata": {
        "colab": {
          "base_uri": "https://localhost:8080/"
        },
        "id": "mxCDF0JHd3Vu",
        "outputId": "7b924ba0-3180-48bb-98c1-315a076096c9"
      },
      "execution_count": null,
      "outputs": [
        {
          "output_type": "stream",
          "name": "stdout",
          "text": [
            "[1] \"Aprobó\"\n",
            "[1] 6\n",
            "[1] \"No aprobó\"\n",
            "[1] 5.5\n"
          ]
        }
      ]
    },
    {
      "cell_type": "code",
      "source": [
        "#10.- Escriba una función llamada minimo que permita obtener el valor mínimo de un vector numérico.\n",
        "#No puede usar ninguna de las funciones básicas de R como which.min(), which.max(), order(), min( ), max( ), sort( ) u order( ). Use la estructura mostrada abajo.\n",
        "\n",
        "minimo <- function(x) {\n",
        "\n",
        "  minimo <- x[1]\n",
        "\n",
        "  for (i in x)\n",
        "  {\n",
        "    if(i <= minimo)\n",
        "    {\n",
        "      minimo <- i\n",
        "    }\n",
        "  }\n",
        "\n",
        "  return(minimo)\n",
        "}\n",
        "\n",
        "print(minimo(c(1,2,3,-5)))\n",
        "\n",
        "print(minimo(c(-10,2,3,-5)))"
      ],
      "metadata": {
        "colab": {
          "base_uri": "https://localhost:8080/"
        },
        "id": "jRE5PqBafYty",
        "outputId": "f0ee6289-0b76-4fea-ad96-e644973be231"
      },
      "execution_count": null,
      "outputs": [
        {
          "output_type": "stream",
          "name": "stdout",
          "text": [
            "[1] -5\n",
            "[1] -10\n"
          ]
        }
      ]
    },
    {
      "cell_type": "code",
      "source": [
        "#11.- Construya una función que calcule las coordenadas del punto medio  M entre dos puntos A y B. Vea la siguiente figura para una ilustración.\n",
        "#¿Cuáles cree usted que deben ser los parámetros de entrada de la función?\n",
        "\n",
        "#R.- Los parámetros de entrada deben de ser dos vectores de longitud dos.\n",
        "\n",
        "pto_medio <- function(p1,p2){\n",
        "  x <- (p1[1]+p2[1])/2\n",
        "  y <- (p1[2]+p2[2])/2\n",
        "  return(c(x,y))\n",
        "\n",
        "}\n",
        "\n",
        "print(pto_medio(c(1,1), c(2,2)))\n",
        "\n",
        "print(pto_medio(c(-1,-1), c(1,1)))"
      ],
      "metadata": {
        "colab": {
          "base_uri": "https://localhost:8080/"
        },
        "id": "naXRFYEThLOP",
        "outputId": "6ba26349-96f9-47a7-e2f7-0ee11d4db631"
      },
      "execution_count": null,
      "outputs": [
        {
          "output_type": "stream",
          "name": "stdout",
          "text": [
            "[1] 1.5 1.5\n",
            "[1] 0 0\n"
          ]
        }
      ]
    }
  ]
}