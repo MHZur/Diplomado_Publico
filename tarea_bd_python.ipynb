{
  "nbformat": 4,
  "nbformat_minor": 0,
  "metadata": {
    "colab": {
      "provenance": [],
      "authorship_tag": "ABX9TyOV4rBSDLttoGZmTo/i6zDJ",
      "include_colab_link": true
    },
    "kernelspec": {
      "name": "python3",
      "display_name": "Python 3"
    },
    "language_info": {
      "name": "python"
    }
  },
  "cells": [
    {
      "cell_type": "markdown",
      "metadata": {
        "id": "view-in-github",
        "colab_type": "text"
      },
      "source": [
        "<a href=\"https://colab.research.google.com/github/MHZur/Diplomado_Publico/blob/main/tarea_bd_python.ipynb\" target=\"_parent\"><img src=\"https://colab.research.google.com/assets/colab-badge.svg\" alt=\"Open In Colab\"/></a>"
      ]
    },
    {
      "cell_type": "markdown",
      "source": [
        "* Descripción del dataset: \n",
        "Vtas de vehículos en Estados Unidos, son 43 marcas y 445 modelos que abarcan el periodo de 2013 a 2022. (Última actualización hace 4 meses)\n",
        "\n",
        "Data source: www.goodcarbadcar.net, www.marklines.com/en/vehicle_sales/index\n",
        "\n",
        "* Objetivo: Realizar regresión con datos del 2013 al 2018 y comparar contra los datos de 2019 en adelante. "
      ],
      "metadata": {
        "id": "lybpUqsa1UdI"
      }
    },
    {
      "cell_type": "markdown",
      "source": [
        "### Bibliotecas"
      ],
      "metadata": {
        "id": "DvdI6e1dyyXC"
      }
    },
    {
      "cell_type": "code",
      "execution_count": null,
      "metadata": {
        "id": "UCV8U5Z0yH3L"
      },
      "outputs": [],
      "source": [
        "import pandas as pd\n",
        "import numpy as np\n",
        "import matplotlib.pyplot as plt\n",
        "from google.colab import drive\n",
        "from sklearn.preprocessing import StandardScaler\n",
        "from sklearn.model_selection import train_test_split\n",
        "from sklearn.linear_model import LinearRegression\n",
        "import plotly.express as px"
      ]
    },
    {
      "cell_type": "markdown",
      "source": [
        "### Conexión a drive y lectura de archivo"
      ],
      "metadata": {
        "id": "xGJos8gczDwJ"
      }
    },
    {
      "cell_type": "code",
      "source": [
        "drive.mount(\"/content/drive\")\n",
        "%cd /content/drive/My \\Drive/Diplomado\n",
        "df = pd.read_csv(\"us_car_model_sales_2013_2022.csv\")\n"
      ],
      "metadata": {
        "colab": {
          "base_uri": "https://localhost:8080/"
        },
        "id": "isWWjGoezCrq",
        "outputId": "c45cca9e-c4a4-455c-e281-266b1018c702"
      },
      "execution_count": null,
      "outputs": [
        {
          "output_type": "stream",
          "name": "stdout",
          "text": [
            "Mounted at /content/drive\n",
            "/content/drive/My Drive/Diplomado\n"
          ]
        }
      ]
    },
    {
      "cell_type": "code",
      "source": [
        "df.head(10)"
      ],
      "metadata": {
        "colab": {
          "base_uri": "https://localhost:8080/",
          "height": 363
        },
        "id": "VUdVFzTozU5M",
        "outputId": "13faaad3-da68-43c7-af77-93de233607ee"
      },
      "execution_count": null,
      "outputs": [
        {
          "output_type": "execute_result",
          "data": {
            "text/plain": [
              "  Maker/Brand    Maker_Brand   2013   2014   2015   2016   2017     2018  \\\n",
              "0       Acura      Acura ILX  20430  17854  18531  14597  11757  11273.0   \n",
              "1       Acura  Acura Integra      0      0      0      0      0      0.0   \n",
              "2       Acura       Acura TL  24318  10616     88      0      0      0.0   \n",
              "3       Acura      Acura TLX      0  19127  47080  37156  34846  30468.0   \n",
              "4       Acura      Acura TSX  17484   6287     35      4      0      0.0   \n",
              "5       Acura       Acura RL      0      0      0      0      0      0.0   \n",
              "6       Acura      Acura RLX      0   3413   2195   1478   1237   1931.0   \n",
              "7       Acura   Acura RLX/RL   5053      0      0      0      0      0.0   \n",
              "8       Acura      Acura NSX      0      0      0    269    581    170.0   \n",
              "9       Acura      Acura RDX  44750  44865  51026  52361  51295  63580.0   \n",
              "\n",
              "      2019     2020     2021   2022  \n",
              "0  14685.0  13414.0  13900.0   6296  \n",
              "1      0.0      0.0      0.0  13027  \n",
              "2      0.0      0.0      0.0      0  \n",
              "3  26548.0  21785.0  26100.0  11508  \n",
              "4      0.0      0.0      0.0      0  \n",
              "5      0.0      0.0      0.0      0  \n",
              "6   1019.0   1055.0    214.0      3  \n",
              "7      0.0      0.0      0.0      0  \n",
              "8    238.0    128.0    124.0    298  \n",
              "9  62876.0  52785.0  57013.0  24749  "
            ],
            "text/html": [
              "\n",
              "  <div id=\"df-1274c39b-e1b0-4f70-9000-7f6482018e3f\">\n",
              "    <div class=\"colab-df-container\">\n",
              "      <div>\n",
              "<style scoped>\n",
              "    .dataframe tbody tr th:only-of-type {\n",
              "        vertical-align: middle;\n",
              "    }\n",
              "\n",
              "    .dataframe tbody tr th {\n",
              "        vertical-align: top;\n",
              "    }\n",
              "\n",
              "    .dataframe thead th {\n",
              "        text-align: right;\n",
              "    }\n",
              "</style>\n",
              "<table border=\"1\" class=\"dataframe\">\n",
              "  <thead>\n",
              "    <tr style=\"text-align: right;\">\n",
              "      <th></th>\n",
              "      <th>Maker/Brand</th>\n",
              "      <th>Maker_Brand</th>\n",
              "      <th>2013</th>\n",
              "      <th>2014</th>\n",
              "      <th>2015</th>\n",
              "      <th>2016</th>\n",
              "      <th>2017</th>\n",
              "      <th>2018</th>\n",
              "      <th>2019</th>\n",
              "      <th>2020</th>\n",
              "      <th>2021</th>\n",
              "      <th>2022</th>\n",
              "    </tr>\n",
              "  </thead>\n",
              "  <tbody>\n",
              "    <tr>\n",
              "      <th>0</th>\n",
              "      <td>Acura</td>\n",
              "      <td>Acura ILX</td>\n",
              "      <td>20430</td>\n",
              "      <td>17854</td>\n",
              "      <td>18531</td>\n",
              "      <td>14597</td>\n",
              "      <td>11757</td>\n",
              "      <td>11273.0</td>\n",
              "      <td>14685.0</td>\n",
              "      <td>13414.0</td>\n",
              "      <td>13900.0</td>\n",
              "      <td>6296</td>\n",
              "    </tr>\n",
              "    <tr>\n",
              "      <th>1</th>\n",
              "      <td>Acura</td>\n",
              "      <td>Acura Integra</td>\n",
              "      <td>0</td>\n",
              "      <td>0</td>\n",
              "      <td>0</td>\n",
              "      <td>0</td>\n",
              "      <td>0</td>\n",
              "      <td>0.0</td>\n",
              "      <td>0.0</td>\n",
              "      <td>0.0</td>\n",
              "      <td>0.0</td>\n",
              "      <td>13027</td>\n",
              "    </tr>\n",
              "    <tr>\n",
              "      <th>2</th>\n",
              "      <td>Acura</td>\n",
              "      <td>Acura TL</td>\n",
              "      <td>24318</td>\n",
              "      <td>10616</td>\n",
              "      <td>88</td>\n",
              "      <td>0</td>\n",
              "      <td>0</td>\n",
              "      <td>0.0</td>\n",
              "      <td>0.0</td>\n",
              "      <td>0.0</td>\n",
              "      <td>0.0</td>\n",
              "      <td>0</td>\n",
              "    </tr>\n",
              "    <tr>\n",
              "      <th>3</th>\n",
              "      <td>Acura</td>\n",
              "      <td>Acura TLX</td>\n",
              "      <td>0</td>\n",
              "      <td>19127</td>\n",
              "      <td>47080</td>\n",
              "      <td>37156</td>\n",
              "      <td>34846</td>\n",
              "      <td>30468.0</td>\n",
              "      <td>26548.0</td>\n",
              "      <td>21785.0</td>\n",
              "      <td>26100.0</td>\n",
              "      <td>11508</td>\n",
              "    </tr>\n",
              "    <tr>\n",
              "      <th>4</th>\n",
              "      <td>Acura</td>\n",
              "      <td>Acura TSX</td>\n",
              "      <td>17484</td>\n",
              "      <td>6287</td>\n",
              "      <td>35</td>\n",
              "      <td>4</td>\n",
              "      <td>0</td>\n",
              "      <td>0.0</td>\n",
              "      <td>0.0</td>\n",
              "      <td>0.0</td>\n",
              "      <td>0.0</td>\n",
              "      <td>0</td>\n",
              "    </tr>\n",
              "    <tr>\n",
              "      <th>5</th>\n",
              "      <td>Acura</td>\n",
              "      <td>Acura RL</td>\n",
              "      <td>0</td>\n",
              "      <td>0</td>\n",
              "      <td>0</td>\n",
              "      <td>0</td>\n",
              "      <td>0</td>\n",
              "      <td>0.0</td>\n",
              "      <td>0.0</td>\n",
              "      <td>0.0</td>\n",
              "      <td>0.0</td>\n",
              "      <td>0</td>\n",
              "    </tr>\n",
              "    <tr>\n",
              "      <th>6</th>\n",
              "      <td>Acura</td>\n",
              "      <td>Acura RLX</td>\n",
              "      <td>0</td>\n",
              "      <td>3413</td>\n",
              "      <td>2195</td>\n",
              "      <td>1478</td>\n",
              "      <td>1237</td>\n",
              "      <td>1931.0</td>\n",
              "      <td>1019.0</td>\n",
              "      <td>1055.0</td>\n",
              "      <td>214.0</td>\n",
              "      <td>3</td>\n",
              "    </tr>\n",
              "    <tr>\n",
              "      <th>7</th>\n",
              "      <td>Acura</td>\n",
              "      <td>Acura RLX/RL</td>\n",
              "      <td>5053</td>\n",
              "      <td>0</td>\n",
              "      <td>0</td>\n",
              "      <td>0</td>\n",
              "      <td>0</td>\n",
              "      <td>0.0</td>\n",
              "      <td>0.0</td>\n",
              "      <td>0.0</td>\n",
              "      <td>0.0</td>\n",
              "      <td>0</td>\n",
              "    </tr>\n",
              "    <tr>\n",
              "      <th>8</th>\n",
              "      <td>Acura</td>\n",
              "      <td>Acura NSX</td>\n",
              "      <td>0</td>\n",
              "      <td>0</td>\n",
              "      <td>0</td>\n",
              "      <td>269</td>\n",
              "      <td>581</td>\n",
              "      <td>170.0</td>\n",
              "      <td>238.0</td>\n",
              "      <td>128.0</td>\n",
              "      <td>124.0</td>\n",
              "      <td>298</td>\n",
              "    </tr>\n",
              "    <tr>\n",
              "      <th>9</th>\n",
              "      <td>Acura</td>\n",
              "      <td>Acura RDX</td>\n",
              "      <td>44750</td>\n",
              "      <td>44865</td>\n",
              "      <td>51026</td>\n",
              "      <td>52361</td>\n",
              "      <td>51295</td>\n",
              "      <td>63580.0</td>\n",
              "      <td>62876.0</td>\n",
              "      <td>52785.0</td>\n",
              "      <td>57013.0</td>\n",
              "      <td>24749</td>\n",
              "    </tr>\n",
              "  </tbody>\n",
              "</table>\n",
              "</div>\n",
              "      <button class=\"colab-df-convert\" onclick=\"convertToInteractive('df-1274c39b-e1b0-4f70-9000-7f6482018e3f')\"\n",
              "              title=\"Convert this dataframe to an interactive table.\"\n",
              "              style=\"display:none;\">\n",
              "        \n",
              "  <svg xmlns=\"http://www.w3.org/2000/svg\" height=\"24px\"viewBox=\"0 0 24 24\"\n",
              "       width=\"24px\">\n",
              "    <path d=\"M0 0h24v24H0V0z\" fill=\"none\"/>\n",
              "    <path d=\"M18.56 5.44l.94 2.06.94-2.06 2.06-.94-2.06-.94-.94-2.06-.94 2.06-2.06.94zm-11 1L8.5 8.5l.94-2.06 2.06-.94-2.06-.94L8.5 2.5l-.94 2.06-2.06.94zm10 10l.94 2.06.94-2.06 2.06-.94-2.06-.94-.94-2.06-.94 2.06-2.06.94z\"/><path d=\"M17.41 7.96l-1.37-1.37c-.4-.4-.92-.59-1.43-.59-.52 0-1.04.2-1.43.59L10.3 9.45l-7.72 7.72c-.78.78-.78 2.05 0 2.83L4 21.41c.39.39.9.59 1.41.59.51 0 1.02-.2 1.41-.59l7.78-7.78 2.81-2.81c.8-.78.8-2.07 0-2.86zM5.41 20L4 18.59l7.72-7.72 1.47 1.35L5.41 20z\"/>\n",
              "  </svg>\n",
              "      </button>\n",
              "      \n",
              "  <style>\n",
              "    .colab-df-container {\n",
              "      display:flex;\n",
              "      flex-wrap:wrap;\n",
              "      gap: 12px;\n",
              "    }\n",
              "\n",
              "    .colab-df-convert {\n",
              "      background-color: #E8F0FE;\n",
              "      border: none;\n",
              "      border-radius: 50%;\n",
              "      cursor: pointer;\n",
              "      display: none;\n",
              "      fill: #1967D2;\n",
              "      height: 32px;\n",
              "      padding: 0 0 0 0;\n",
              "      width: 32px;\n",
              "    }\n",
              "\n",
              "    .colab-df-convert:hover {\n",
              "      background-color: #E2EBFA;\n",
              "      box-shadow: 0px 1px 2px rgba(60, 64, 67, 0.3), 0px 1px 3px 1px rgba(60, 64, 67, 0.15);\n",
              "      fill: #174EA6;\n",
              "    }\n",
              "\n",
              "    [theme=dark] .colab-df-convert {\n",
              "      background-color: #3B4455;\n",
              "      fill: #D2E3FC;\n",
              "    }\n",
              "\n",
              "    [theme=dark] .colab-df-convert:hover {\n",
              "      background-color: #434B5C;\n",
              "      box-shadow: 0px 1px 3px 1px rgba(0, 0, 0, 0.15);\n",
              "      filter: drop-shadow(0px 1px 2px rgba(0, 0, 0, 0.3));\n",
              "      fill: #FFFFFF;\n",
              "    }\n",
              "  </style>\n",
              "\n",
              "      <script>\n",
              "        const buttonEl =\n",
              "          document.querySelector('#df-1274c39b-e1b0-4f70-9000-7f6482018e3f button.colab-df-convert');\n",
              "        buttonEl.style.display =\n",
              "          google.colab.kernel.accessAllowed ? 'block' : 'none';\n",
              "\n",
              "        async function convertToInteractive(key) {\n",
              "          const element = document.querySelector('#df-1274c39b-e1b0-4f70-9000-7f6482018e3f');\n",
              "          const dataTable =\n",
              "            await google.colab.kernel.invokeFunction('convertToInteractive',\n",
              "                                                     [key], {});\n",
              "          if (!dataTable) return;\n",
              "\n",
              "          const docLinkHtml = 'Like what you see? Visit the ' +\n",
              "            '<a target=\"_blank\" href=https://colab.research.google.com/notebooks/data_table.ipynb>data table notebook</a>'\n",
              "            + ' to learn more about interactive tables.';\n",
              "          element.innerHTML = '';\n",
              "          dataTable['output_type'] = 'display_data';\n",
              "          await google.colab.output.renderOutput(dataTable, element);\n",
              "          const docLink = document.createElement('div');\n",
              "          docLink.innerHTML = docLinkHtml;\n",
              "          element.appendChild(docLink);\n",
              "        }\n",
              "      </script>\n",
              "    </div>\n",
              "  </div>\n",
              "  "
            ]
          },
          "metadata": {},
          "execution_count": 3
        }
      ]
    },
    {
      "cell_type": "code",
      "source": [
        "df.shape[0]"
      ],
      "metadata": {
        "colab": {
          "base_uri": "https://localhost:8080/"
        },
        "id": "Tvma-WwoZKUF",
        "outputId": "10c77c38-8a10-4b99-f75f-2cd05867f0a2"
      },
      "execution_count": null,
      "outputs": [
        {
          "output_type": "execute_result",
          "data": {
            "text/plain": [
              "445"
            ]
          },
          "metadata": {},
          "execution_count": 4
        }
      ]
    },
    {
      "cell_type": "code",
      "source": [
        "df[\"Maker/Brand\"].unique()"
      ],
      "metadata": {
        "colab": {
          "base_uri": "https://localhost:8080/"
        },
        "id": "avMgfAo20lLc",
        "outputId": "e240bcf9-de63-4463-c492-cf55e7463cc8"
      },
      "execution_count": null,
      "outputs": [
        {
          "output_type": "execute_result",
          "data": {
            "text/plain": [
              "array(['Acura', 'Alfa Romeo', 'Aston Martin', 'Audi', 'Bentley', 'BMW',\n",
              "       'Buick', 'Cadillac', 'Chevrolet', 'Chrysler', 'Dodge', 'Ferrari',\n",
              "       'Fiat', 'Ford', 'GMC', 'Honda', 'Hyundai', 'Infiniti', 'Jaguar',\n",
              "       'Jeep', 'Kia', 'Lamborghini', 'Lexus', 'Lincoln', 'Lucid Motors',\n",
              "       'Maserati', 'Mazda', 'Mercedes0Benz', 'MINI', 'Mitsubishi',\n",
              "       'Nissan', 'Polestar', 'Porsche', 'Ram', 'Rivian', 'Scion', 'smart',\n",
              "       'Subaru', 'Suzuki', 'Tesla', 'Toyota', 'Volvo', 'VW'], dtype=object)"
            ]
          },
          "metadata": {},
          "execution_count": 5
        }
      ]
    },
    {
      "cell_type": "code",
      "source": [
        "df[\"universe\"] = 1"
      ],
      "metadata": {
        "id": "mq_zFbtLPzA9"
      },
      "execution_count": null,
      "outputs": []
    },
    {
      "cell_type": "code",
      "source": [
        "# Remplazamos los ceros por NAN's para hacer el filtrado de esos registros.\n",
        "\n",
        "df.replace({0:np.nan}, inplace = True)\n",
        "\n",
        "print(df)"
      ],
      "metadata": {
        "colab": {
          "base_uri": "https://localhost:8080/"
        },
        "id": "MORFQJA91H4Q",
        "outputId": "3e5f4d9d-dc20-4741-862c-6768a8c0a86f"
      },
      "execution_count": null,
      "outputs": [
        {
          "output_type": "stream",
          "name": "stdout",
          "text": [
            "    Maker/Brand    Maker_Brand     2013     2014     2015     2016     2017  \\\n",
            "0         Acura      Acura ILX  20430.0  17854.0  18531.0  14597.0  11757.0   \n",
            "1         Acura  Acura Integra      NaN      NaN      NaN      NaN      NaN   \n",
            "2         Acura       Acura TL  24318.0  10616.0     88.0      NaN      NaN   \n",
            "3         Acura      Acura TLX      NaN  19127.0  47080.0  37156.0  34846.0   \n",
            "4         Acura      Acura TSX  17484.0   6287.0     35.0      4.0      NaN   \n",
            "..          ...            ...      ...      ...      ...      ...      ...   \n",
            "440          VW        VW ID.4      NaN      NaN      NaN      NaN      NaN   \n",
            "441          VW        VW Taos      NaN      NaN      NaN      NaN      NaN   \n",
            "442          VW      VW Tiguan  30002.0  25121.0  35843.0  43638.0  46983.0   \n",
            "443          VW       VW Atlas      NaN      NaN      NaN      NaN  27119.0   \n",
            "444          VW     VW Touareg   8233.0   6961.0   7037.0   4223.0   3545.0   \n",
            "\n",
            "         2018      2019      2020      2021     2022  universe  \n",
            "0     11273.0   14685.0   13414.0   13900.0   6296.0         1  \n",
            "1         NaN       NaN       NaN       NaN  13027.0         1  \n",
            "2         NaN       NaN       NaN       NaN      NaN         1  \n",
            "3     30468.0   26548.0   21785.0   26100.0  11508.0         1  \n",
            "4         NaN       NaN       NaN       NaN      NaN         1  \n",
            "..        ...       ...       ...       ...      ...       ...  \n",
            "440       NaN       NaN       NaN   16742.0  20511.0         1  \n",
            "441       NaN       NaN       NaN   31682.0  59103.0         1  \n",
            "442  103022.0  109963.0  100705.0  109747.0  88577.0         1  \n",
            "443   59677.0   81508.0   87361.0  115687.0  82025.0         1  \n",
            "444    2022.0     160.0      54.0       6.0      NaN         1  \n",
            "\n",
            "[445 rows x 13 columns]\n"
          ]
        }
      ]
    },
    {
      "cell_type": "code",
      "source": [
        "df.dropna(axis = 0, how = 'any', inplace = True) \n",
        "\n",
        "print(f\"Cantidad de registros que cuentan con info para todos los años: {df.shape[0]}\")"
      ],
      "metadata": {
        "colab": {
          "base_uri": "https://localhost:8080/"
        },
        "id": "NgHce-mHQGOu",
        "outputId": "851bb565-e3cd-4e2f-97fe-6c83e70ce1ff"
      },
      "execution_count": null,
      "outputs": [
        {
          "output_type": "stream",
          "name": "stdout",
          "text": [
            "Cantidad de registros que cuentan con info para todos los años: 172\n"
          ]
        }
      ]
    },
    {
      "cell_type": "code",
      "source": [
        "df_agg = df.groupby(\"Maker/Brand\")[\"2013\", \"2014\", \"2015\", \"2016\", \"2017\", \"2018\", \"2019\", \"2020\", \"2021\", \"2022\"].sum().reset_index()"
      ],
      "metadata": {
        "colab": {
          "base_uri": "https://localhost:8080/"
        },
        "id": "qJQjhlYXQk08",
        "outputId": "dba567b7-b60d-431a-8a1c-10a86db77f94"
      },
      "execution_count": null,
      "outputs": [
        {
          "output_type": "stream",
          "name": "stderr",
          "text": [
            "<ipython-input-11-59d191da282b>:1: FutureWarning: Indexing with multiple keys (implicitly converted to a tuple of keys) will be deprecated, use a list instead.\n",
            "  df_agg = df.groupby(\"Maker/Brand\")[\"2013\", \"2014\", \"2015\", \"2016\", \"2017\", \"2018\", \"2019\", \"2020\", \"2021\", \"2022\"].sum().sort_values(by = [\"2022\"], ascending = False).reset_index()\n"
          ]
        }
      ]
    },
    {
      "cell_type": "code",
      "source": [
        "df_agg[\"2020-2019\"] = df_agg[\"2020\"]-df_agg[\"2019\"]"
      ],
      "metadata": {
        "id": "I_ueGkU6VOui"
      },
      "execution_count": null,
      "outputs": []
    },
    {
      "cell_type": "code",
      "source": [
        "df_top5 = df_agg.sort_values(by = [\"2020-2019\"], ascending = True).reset_index(drop=True).head(5) # Reseteamos el index para la utilizarlo al graficar\n",
        "df_top5"
      ],
      "metadata": {
        "colab": {
          "base_uri": "https://localhost:8080/",
          "height": 206
        },
        "id": "AfATK25DketO",
        "outputId": "ecebe958-f902-4c43-e086-667bada1d7d9"
      },
      "execution_count": null,
      "outputs": [
        {
          "output_type": "execute_result",
          "data": {
            "text/plain": [
              "  Maker/Brand       2013       2014       2015       2016       2017  \\\n",
              "0      Nissan  1051146.0  1194059.0  1294275.0  1389472.0  1420327.0   \n",
              "1   Chevrolet  1893154.0  1976252.0  2082880.0  2034440.0  2035555.0   \n",
              "2      Toyota  1782433.0  1905049.0  2014691.0  2006000.0  2007759.0   \n",
              "3       Honda  1284952.0  1298323.0  1302514.0  1334839.0  1340174.0   \n",
              "4        Ford  1661496.0  1652661.0  1727018.0  1774207.0  1840320.0   \n",
              "\n",
              "        2018       2019       2020       2021       2022  2020-2019  \n",
              "0  1317083.0  1167385.0   758903.0   836090.0   627388.0  -408482.0  \n",
              "1  2093285.0  2051135.0  1776221.0  1452293.0  1609589.0  -274914.0  \n",
              "2  2012351.0  1981276.0  1760186.0  1954851.0  1738427.0  -221090.0  \n",
              "3  1304888.0  1268526.0  1049507.0  1107707.0   724271.0  -219019.0  \n",
              "4  1787613.0  1709062.0  1511546.0  1374151.0  1251328.0  -197516.0  "
            ],
            "text/html": [
              "\n",
              "  <div id=\"df-700868a1-975a-4245-b6c8-dfc4b81fe618\">\n",
              "    <div class=\"colab-df-container\">\n",
              "      <div>\n",
              "<style scoped>\n",
              "    .dataframe tbody tr th:only-of-type {\n",
              "        vertical-align: middle;\n",
              "    }\n",
              "\n",
              "    .dataframe tbody tr th {\n",
              "        vertical-align: top;\n",
              "    }\n",
              "\n",
              "    .dataframe thead th {\n",
              "        text-align: right;\n",
              "    }\n",
              "</style>\n",
              "<table border=\"1\" class=\"dataframe\">\n",
              "  <thead>\n",
              "    <tr style=\"text-align: right;\">\n",
              "      <th></th>\n",
              "      <th>Maker/Brand</th>\n",
              "      <th>2013</th>\n",
              "      <th>2014</th>\n",
              "      <th>2015</th>\n",
              "      <th>2016</th>\n",
              "      <th>2017</th>\n",
              "      <th>2018</th>\n",
              "      <th>2019</th>\n",
              "      <th>2020</th>\n",
              "      <th>2021</th>\n",
              "      <th>2022</th>\n",
              "      <th>2020-2019</th>\n",
              "    </tr>\n",
              "  </thead>\n",
              "  <tbody>\n",
              "    <tr>\n",
              "      <th>0</th>\n",
              "      <td>Nissan</td>\n",
              "      <td>1051146.0</td>\n",
              "      <td>1194059.0</td>\n",
              "      <td>1294275.0</td>\n",
              "      <td>1389472.0</td>\n",
              "      <td>1420327.0</td>\n",
              "      <td>1317083.0</td>\n",
              "      <td>1167385.0</td>\n",
              "      <td>758903.0</td>\n",
              "      <td>836090.0</td>\n",
              "      <td>627388.0</td>\n",
              "      <td>-408482.0</td>\n",
              "    </tr>\n",
              "    <tr>\n",
              "      <th>1</th>\n",
              "      <td>Chevrolet</td>\n",
              "      <td>1893154.0</td>\n",
              "      <td>1976252.0</td>\n",
              "      <td>2082880.0</td>\n",
              "      <td>2034440.0</td>\n",
              "      <td>2035555.0</td>\n",
              "      <td>2093285.0</td>\n",
              "      <td>2051135.0</td>\n",
              "      <td>1776221.0</td>\n",
              "      <td>1452293.0</td>\n",
              "      <td>1609589.0</td>\n",
              "      <td>-274914.0</td>\n",
              "    </tr>\n",
              "    <tr>\n",
              "      <th>2</th>\n",
              "      <td>Toyota</td>\n",
              "      <td>1782433.0</td>\n",
              "      <td>1905049.0</td>\n",
              "      <td>2014691.0</td>\n",
              "      <td>2006000.0</td>\n",
              "      <td>2007759.0</td>\n",
              "      <td>2012351.0</td>\n",
              "      <td>1981276.0</td>\n",
              "      <td>1760186.0</td>\n",
              "      <td>1954851.0</td>\n",
              "      <td>1738427.0</td>\n",
              "      <td>-221090.0</td>\n",
              "    </tr>\n",
              "    <tr>\n",
              "      <th>3</th>\n",
              "      <td>Honda</td>\n",
              "      <td>1284952.0</td>\n",
              "      <td>1298323.0</td>\n",
              "      <td>1302514.0</td>\n",
              "      <td>1334839.0</td>\n",
              "      <td>1340174.0</td>\n",
              "      <td>1304888.0</td>\n",
              "      <td>1268526.0</td>\n",
              "      <td>1049507.0</td>\n",
              "      <td>1107707.0</td>\n",
              "      <td>724271.0</td>\n",
              "      <td>-219019.0</td>\n",
              "    </tr>\n",
              "    <tr>\n",
              "      <th>4</th>\n",
              "      <td>Ford</td>\n",
              "      <td>1661496.0</td>\n",
              "      <td>1652661.0</td>\n",
              "      <td>1727018.0</td>\n",
              "      <td>1774207.0</td>\n",
              "      <td>1840320.0</td>\n",
              "      <td>1787613.0</td>\n",
              "      <td>1709062.0</td>\n",
              "      <td>1511546.0</td>\n",
              "      <td>1374151.0</td>\n",
              "      <td>1251328.0</td>\n",
              "      <td>-197516.0</td>\n",
              "    </tr>\n",
              "  </tbody>\n",
              "</table>\n",
              "</div>\n",
              "      <button class=\"colab-df-convert\" onclick=\"convertToInteractive('df-700868a1-975a-4245-b6c8-dfc4b81fe618')\"\n",
              "              title=\"Convert this dataframe to an interactive table.\"\n",
              "              style=\"display:none;\">\n",
              "        \n",
              "  <svg xmlns=\"http://www.w3.org/2000/svg\" height=\"24px\"viewBox=\"0 0 24 24\"\n",
              "       width=\"24px\">\n",
              "    <path d=\"M0 0h24v24H0V0z\" fill=\"none\"/>\n",
              "    <path d=\"M18.56 5.44l.94 2.06.94-2.06 2.06-.94-2.06-.94-.94-2.06-.94 2.06-2.06.94zm-11 1L8.5 8.5l.94-2.06 2.06-.94-2.06-.94L8.5 2.5l-.94 2.06-2.06.94zm10 10l.94 2.06.94-2.06 2.06-.94-2.06-.94-.94-2.06-.94 2.06-2.06.94z\"/><path d=\"M17.41 7.96l-1.37-1.37c-.4-.4-.92-.59-1.43-.59-.52 0-1.04.2-1.43.59L10.3 9.45l-7.72 7.72c-.78.78-.78 2.05 0 2.83L4 21.41c.39.39.9.59 1.41.59.51 0 1.02-.2 1.41-.59l7.78-7.78 2.81-2.81c.8-.78.8-2.07 0-2.86zM5.41 20L4 18.59l7.72-7.72 1.47 1.35L5.41 20z\"/>\n",
              "  </svg>\n",
              "      </button>\n",
              "      \n",
              "  <style>\n",
              "    .colab-df-container {\n",
              "      display:flex;\n",
              "      flex-wrap:wrap;\n",
              "      gap: 12px;\n",
              "    }\n",
              "\n",
              "    .colab-df-convert {\n",
              "      background-color: #E8F0FE;\n",
              "      border: none;\n",
              "      border-radius: 50%;\n",
              "      cursor: pointer;\n",
              "      display: none;\n",
              "      fill: #1967D2;\n",
              "      height: 32px;\n",
              "      padding: 0 0 0 0;\n",
              "      width: 32px;\n",
              "    }\n",
              "\n",
              "    .colab-df-convert:hover {\n",
              "      background-color: #E2EBFA;\n",
              "      box-shadow: 0px 1px 2px rgba(60, 64, 67, 0.3), 0px 1px 3px 1px rgba(60, 64, 67, 0.15);\n",
              "      fill: #174EA6;\n",
              "    }\n",
              "\n",
              "    [theme=dark] .colab-df-convert {\n",
              "      background-color: #3B4455;\n",
              "      fill: #D2E3FC;\n",
              "    }\n",
              "\n",
              "    [theme=dark] .colab-df-convert:hover {\n",
              "      background-color: #434B5C;\n",
              "      box-shadow: 0px 1px 3px 1px rgba(0, 0, 0, 0.15);\n",
              "      filter: drop-shadow(0px 1px 2px rgba(0, 0, 0, 0.3));\n",
              "      fill: #FFFFFF;\n",
              "    }\n",
              "  </style>\n",
              "\n",
              "      <script>\n",
              "        const buttonEl =\n",
              "          document.querySelector('#df-700868a1-975a-4245-b6c8-dfc4b81fe618 button.colab-df-convert');\n",
              "        buttonEl.style.display =\n",
              "          google.colab.kernel.accessAllowed ? 'block' : 'none';\n",
              "\n",
              "        async function convertToInteractive(key) {\n",
              "          const element = document.querySelector('#df-700868a1-975a-4245-b6c8-dfc4b81fe618');\n",
              "          const dataTable =\n",
              "            await google.colab.kernel.invokeFunction('convertToInteractive',\n",
              "                                                     [key], {});\n",
              "          if (!dataTable) return;\n",
              "\n",
              "          const docLinkHtml = 'Like what you see? Visit the ' +\n",
              "            '<a target=\"_blank\" href=https://colab.research.google.com/notebooks/data_table.ipynb>data table notebook</a>'\n",
              "            + ' to learn more about interactive tables.';\n",
              "          element.innerHTML = '';\n",
              "          dataTable['output_type'] = 'display_data';\n",
              "          await google.colab.output.renderOutput(dataTable, element);\n",
              "          const docLink = document.createElement('div');\n",
              "          docLink.innerHTML = docLinkHtml;\n",
              "          element.appendChild(docLink);\n",
              "        }\n",
              "      </script>\n",
              "    </div>\n",
              "  </div>\n",
              "  "
            ]
          },
          "metadata": {},
          "execution_count": 16
        }
      ]
    },
    {
      "cell_type": "code",
      "source": [
        "for i in range(0,5):\n",
        "  plt.plot(['2013','2014','2015','2016','2017','2018', '2019', '2020', '2021', '2022'], df_top5.iloc[i][1:11], label = df_top5[\"Maker/Brand\"][i])\n",
        "\n",
        "plt.legend(loc='upper center', bbox_to_anchor=(0.5, -0.05)) \n",
        "plt.grid()\n",
        "plt.show()"
      ],
      "metadata": {
        "colab": {
          "base_uri": "https://localhost:8080/",
          "height": 556
        },
        "id": "ZHe9mVRVdEef",
        "outputId": "a145564b-a848-4bb5-b887-d21bebf0501f"
      },
      "execution_count": null,
      "outputs": [
        {
          "output_type": "display_data",
          "data": {
            "text/plain": [
              "<Figure size 640x480 with 1 Axes>"
            ],
            "image/png": "[encoded data removed]"
          },
          "metadata": {}
        }
      ]
    },
    {
      "cell_type": "code",
      "source": [
        "df_top5[df_top5[\"Maker/Brand\"] == \"Nissan\"]"
      ],
      "metadata": {
        "colab": {
          "base_uri": "https://localhost:8080/",
          "height": 81
        },
        "id": "ViXHmU1BYd4v",
        "outputId": "e355061a-1e57-4af5-d64a-b4103a7284c3"
      },
      "execution_count": null,
      "outputs": [
        {
          "output_type": "execute_result",
          "data": {
            "text/plain": [
              "  Maker/Brand       2013       2014       2015       2016       2017  \\\n",
              "0      Nissan  1051146.0  1194059.0  1294275.0  1389472.0  1420327.0   \n",
              "\n",
              "        2018       2019      2020      2021      2022  2020-2019  \n",
              "0  1317083.0  1167385.0  758903.0  836090.0  627388.0  -408482.0  "
            ],
            "text/html": [
              "\n",
              "  <div id=\"df-6e6ea2ad-f552-4d2d-a095-d9acf6956b15\">\n",
              "    <div class=\"colab-df-container\">\n",
              "      <div>\n",
              "<style scoped>\n",
              "    .dataframe tbody tr th:only-of-type {\n",
              "        vertical-align: middle;\n",
              "    }\n",
              "\n",
              "    .dataframe tbody tr th {\n",
              "        vertical-align: top;\n",
              "    }\n",
              "\n",
              "    .dataframe thead th {\n",
              "        text-align: right;\n",
              "    }\n",
              "</style>\n",
              "<table border=\"1\" class=\"dataframe\">\n",
              "  <thead>\n",
              "    <tr style=\"text-align: right;\">\n",
              "      <th></th>\n",
              "      <th>Maker/Brand</th>\n",
              "      <th>2013</th>\n",
              "      <th>2014</th>\n",
              "      <th>2015</th>\n",
              "      <th>2016</th>\n",
              "      <th>2017</th>\n",
              "      <th>2018</th>\n",
              "      <th>2019</th>\n",
              "      <th>2020</th>\n",
              "      <th>2021</th>\n",
              "      <th>2022</th>\n",
              "      <th>2020-2019</th>\n",
              "    </tr>\n",
              "  </thead>\n",
              "  <tbody>\n",
              "    <tr>\n",
              "      <th>0</th>\n",
              "      <td>Nissan</td>\n",
              "      <td>1051146.0</td>\n",
              "      <td>1194059.0</td>\n",
              "      <td>1294275.0</td>\n",
              "      <td>1389472.0</td>\n",
              "      <td>1420327.0</td>\n",
              "      <td>1317083.0</td>\n",
              "      <td>1167385.0</td>\n",
              "      <td>758903.0</td>\n",
              "      <td>836090.0</td>\n",
              "      <td>627388.0</td>\n",
              "      <td>-408482.0</td>\n",
              "    </tr>\n",
              "  </tbody>\n",
              "</table>\n",
              "</div>\n",
              "      <button class=\"colab-df-convert\" onclick=\"convertToInteractive('df-6e6ea2ad-f552-4d2d-a095-d9acf6956b15')\"\n",
              "              title=\"Convert this dataframe to an interactive table.\"\n",
              "              style=\"display:none;\">\n",
              "        \n",
              "  <svg xmlns=\"http://www.w3.org/2000/svg\" height=\"24px\"viewBox=\"0 0 24 24\"\n",
              "       width=\"24px\">\n",
              "    <path d=\"M0 0h24v24H0V0z\" fill=\"none\"/>\n",
              "    <path d=\"M18.56 5.44l.94 2.06.94-2.06 2.06-.94-2.06-.94-.94-2.06-.94 2.06-2.06.94zm-11 1L8.5 8.5l.94-2.06 2.06-.94-2.06-.94L8.5 2.5l-.94 2.06-2.06.94zm10 10l.94 2.06.94-2.06 2.06-.94-2.06-.94-.94-2.06-.94 2.06-2.06.94z\"/><path d=\"M17.41 7.96l-1.37-1.37c-.4-.4-.92-.59-1.43-.59-.52 0-1.04.2-1.43.59L10.3 9.45l-7.72 7.72c-.78.78-.78 2.05 0 2.83L4 21.41c.39.39.9.59 1.41.59.51 0 1.02-.2 1.41-.59l7.78-7.78 2.81-2.81c.8-.78.8-2.07 0-2.86zM5.41 20L4 18.59l7.72-7.72 1.47 1.35L5.41 20z\"/>\n",
              "  </svg>\n",
              "      </button>\n",
              "      \n",
              "  <style>\n",
              "    .colab-df-container {\n",
              "      display:flex;\n",
              "      flex-wrap:wrap;\n",
              "      gap: 12px;\n",
              "    }\n",
              "\n",
              "    .colab-df-convert {\n",
              "      background-color: #E8F0FE;\n",
              "      border: none;\n",
              "      border-radius: 50%;\n",
              "      cursor: pointer;\n",
              "      display: none;\n",
              "      fill: #1967D2;\n",
              "      height: 32px;\n",
              "      padding: 0 0 0 0;\n",
              "      width: 32px;\n",
              "    }\n",
              "\n",
              "    .colab-df-convert:hover {\n",
              "      background-color: #E2EBFA;\n",
              "      box-shadow: 0px 1px 2px rgba(60, 64, 67, 0.3), 0px 1px 3px 1px rgba(60, 64, 67, 0.15);\n",
              "      fill: #174EA6;\n",
              "    }\n",
              "\n",
              "    [theme=dark] .colab-df-convert {\n",
              "      background-color: #3B4455;\n",
              "      fill: #D2E3FC;\n",
              "    }\n",
              "\n",
              "    [theme=dark] .colab-df-convert:hover {\n",
              "      background-color: #434B5C;\n",
              "      box-shadow: 0px 1px 3px 1px rgba(0, 0, 0, 0.15);\n",
              "      filter: drop-shadow(0px 1px 2px rgba(0, 0, 0, 0.3));\n",
              "      fill: #FFFFFF;\n",
              "    }\n",
              "  </style>\n",
              "\n",
              "      <script>\n",
              "        const buttonEl =\n",
              "          document.querySelector('#df-6e6ea2ad-f552-4d2d-a095-d9acf6956b15 button.colab-df-convert');\n",
              "        buttonEl.style.display =\n",
              "          google.colab.kernel.accessAllowed ? 'block' : 'none';\n",
              "\n",
              "        async function convertToInteractive(key) {\n",
              "          const element = document.querySelector('#df-6e6ea2ad-f552-4d2d-a095-d9acf6956b15');\n",
              "          const dataTable =\n",
              "            await google.colab.kernel.invokeFunction('convertToInteractive',\n",
              "                                                     [key], {});\n",
              "          if (!dataTable) return;\n",
              "\n",
              "          const docLinkHtml = 'Like what you see? Visit the ' +\n",
              "            '<a target=\"_blank\" href=https://colab.research.google.com/notebooks/data_table.ipynb>data table notebook</a>'\n",
              "            + ' to learn more about interactive tables.';\n",
              "          element.innerHTML = '';\n",
              "          dataTable['output_type'] = 'display_data';\n",
              "          await google.colab.output.renderOutput(dataTable, element);\n",
              "          const docLink = document.createElement('div');\n",
              "          docLink.innerHTML = docLinkHtml;\n",
              "          element.appendChild(docLink);\n",
              "        }\n",
              "      </script>\n",
              "    </div>\n",
              "  </div>\n",
              "  "
            ]
          },
          "metadata": {},
          "execution_count": 20
        }
      ]
    },
    {
      "cell_type": "markdown",
      "source": [
        "### Regresión polinomial"
      ],
      "metadata": {
        "id": "i0hkHFpVboJE"
      }
    },
    {
      "cell_type": "code",
      "source": [
        "y = df_top5.values[0][1:11]\n",
        "y"
      ],
      "metadata": {
        "colab": {
          "base_uri": "https://localhost:8080/"
        },
        "id": "oknWfDD8ivlN",
        "outputId": "af874d40-5d3e-4fbc-85b6-1ab71b6ca457"
      },
      "execution_count": null,
      "outputs": [
        {
          "output_type": "execute_result",
          "data": {
            "text/plain": [
              "array([1051146.0, 1194059.0, 1294275.0, 1389472.0, 1420327.0, 1317083.0,\n",
              "       1167385.0, 758903.0, 836090.0, 627388.0], dtype=object)"
            ]
          },
          "metadata": {},
          "execution_count": 19
        }
      ]
    },
    {
      "cell_type": "code",
      "source": [
        "x = df_top5.columns.to_list()[1:11]\n",
        "x = list(map(int, x))\n",
        "x"
      ],
      "metadata": {
        "colab": {
          "base_uri": "https://localhost:8080/"
        },
        "id": "aranyrT-bGnb",
        "outputId": "5bfb72e1-fe69-49df-b565-9a17d422b77c"
      },
      "execution_count": null,
      "outputs": [
        {
          "output_type": "execute_result",
          "data": {
            "text/plain": [
              "[2013, 2014, 2015, 2016, 2017, 2018, 2019, 2020, 2021, 2022]"
            ]
          },
          "metadata": {},
          "execution_count": 24
        }
      ]
    },
    {
      "cell_type": "code",
      "source": [
        "df_2 = pd.DataFrame({\"x\" : x, \"y\" : y})\n",
        "df_2"
      ],
      "metadata": {
        "colab": {
          "base_uri": "https://localhost:8080/",
          "height": 363
        },
        "id": "J2G2qQdujNv7",
        "outputId": "7280ae86-a119-4958-e467-497d1b296308"
      },
      "execution_count": null,
      "outputs": [
        {
          "output_type": "execute_result",
          "data": {
            "text/plain": [
              "      x          y\n",
              "0  2013  1051146.0\n",
              "1  2014  1194059.0\n",
              "2  2015  1294275.0\n",
              "3  2016  1389472.0\n",
              "4  2017  1420327.0\n",
              "5  2018  1317083.0\n",
              "6  2019  1167385.0\n",
              "7  2020   758903.0\n",
              "8  2021   836090.0\n",
              "9  2022   627388.0"
            ],
            "text/html": [
              "\n",
              "  <div id=\"df-3b26cb56-cf09-462a-9857-542f2b07d197\">\n",
              "    <div class=\"colab-df-container\">\n",
              "      <div>\n",
              "<style scoped>\n",
              "    .dataframe tbody tr th:only-of-type {\n",
              "        vertical-align: middle;\n",
              "    }\n",
              "\n",
              "    .dataframe tbody tr th {\n",
              "        vertical-align: top;\n",
              "    }\n",
              "\n",
              "    .dataframe thead th {\n",
              "        text-align: right;\n",
              "    }\n",
              "</style>\n",
              "<table border=\"1\" class=\"dataframe\">\n",
              "  <thead>\n",
              "    <tr style=\"text-align: right;\">\n",
              "      <th></th>\n",
              "      <th>x</th>\n",
              "      <th>y</th>\n",
              "    </tr>\n",
              "  </thead>\n",
              "  <tbody>\n",
              "    <tr>\n",
              "      <th>0</th>\n",
              "      <td>2013</td>\n",
              "      <td>1051146.0</td>\n",
              "    </tr>\n",
              "    <tr>\n",
              "      <th>1</th>\n",
              "      <td>2014</td>\n",
              "      <td>1194059.0</td>\n",
              "    </tr>\n",
              "    <tr>\n",
              "      <th>2</th>\n",
              "      <td>2015</td>\n",
              "      <td>1294275.0</td>\n",
              "    </tr>\n",
              "    <tr>\n",
              "      <th>3</th>\n",
              "      <td>2016</td>\n",
              "      <td>1389472.0</td>\n",
              "    </tr>\n",
              "    <tr>\n",
              "      <th>4</th>\n",
              "      <td>2017</td>\n",
              "      <td>1420327.0</td>\n",
              "    </tr>\n",
              "    <tr>\n",
              "      <th>5</th>\n",
              "      <td>2018</td>\n",
              "      <td>1317083.0</td>\n",
              "    </tr>\n",
              "    <tr>\n",
              "      <th>6</th>\n",
              "      <td>2019</td>\n",
              "      <td>1167385.0</td>\n",
              "    </tr>\n",
              "    <tr>\n",
              "      <th>7</th>\n",
              "      <td>2020</td>\n",
              "      <td>758903.0</td>\n",
              "    </tr>\n",
              "    <tr>\n",
              "      <th>8</th>\n",
              "      <td>2021</td>\n",
              "      <td>836090.0</td>\n",
              "    </tr>\n",
              "    <tr>\n",
              "      <th>9</th>\n",
              "      <td>2022</td>\n",
              "      <td>627388.0</td>\n",
              "    </tr>\n",
              "  </tbody>\n",
              "</table>\n",
              "</div>\n",
              "      <button class=\"colab-df-convert\" onclick=\"convertToInteractive('df-3b26cb56-cf09-462a-9857-542f2b07d197')\"\n",
              "              title=\"Convert this dataframe to an interactive table.\"\n",
              "              style=\"display:none;\">\n",
              "        \n",
              "  <svg xmlns=\"http://www.w3.org/2000/svg\" height=\"24px\"viewBox=\"0 0 24 24\"\n",
              "       width=\"24px\">\n",
              "    <path d=\"M0 0h24v24H0V0z\" fill=\"none\"/>\n",
              "    <path d=\"M18.56 5.44l.94 2.06.94-2.06 2.06-.94-2.06-.94-.94-2.06-.94 2.06-2.06.94zm-11 1L8.5 8.5l.94-2.06 2.06-.94-2.06-.94L8.5 2.5l-.94 2.06-2.06.94zm10 10l.94 2.06.94-2.06 2.06-.94-2.06-.94-.94-2.06-.94 2.06-2.06.94z\"/><path d=\"M17.41 7.96l-1.37-1.37c-.4-.4-.92-.59-1.43-.59-.52 0-1.04.2-1.43.59L10.3 9.45l-7.72 7.72c-.78.78-.78 2.05 0 2.83L4 21.41c.39.39.9.59 1.41.59.51 0 1.02-.2 1.41-.59l7.78-7.78 2.81-2.81c.8-.78.8-2.07 0-2.86zM5.41 20L4 18.59l7.72-7.72 1.47 1.35L5.41 20z\"/>\n",
              "  </svg>\n",
              "      </button>\n",
              "      \n",
              "  <style>\n",
              "    .colab-df-container {\n",
              "      display:flex;\n",
              "      flex-wrap:wrap;\n",
              "      gap: 12px;\n",
              "    }\n",
              "\n",
              "    .colab-df-convert {\n",
              "      background-color: #E8F0FE;\n",
              "      border: none;\n",
              "      border-radius: 50%;\n",
              "      cursor: pointer;\n",
              "      display: none;\n",
              "      fill: #1967D2;\n",
              "      height: 32px;\n",
              "      padding: 0 0 0 0;\n",
              "      width: 32px;\n",
              "    }\n",
              "\n",
              "    .colab-df-convert:hover {\n",
              "      background-color: #E2EBFA;\n",
              "      box-shadow: 0px 1px 2px rgba(60, 64, 67, 0.3), 0px 1px 3px 1px rgba(60, 64, 67, 0.15);\n",
              "      fill: #174EA6;\n",
              "    }\n",
              "\n",
              "    [theme=dark] .colab-df-convert {\n",
              "      background-color: #3B4455;\n",
              "      fill: #D2E3FC;\n",
              "    }\n",
              "\n",
              "    [theme=dark] .colab-df-convert:hover {\n",
              "      background-color: #434B5C;\n",
              "      box-shadow: 0px 1px 3px 1px rgba(0, 0, 0, 0.15);\n",
              "      filter: drop-shadow(0px 1px 2px rgba(0, 0, 0, 0.3));\n",
              "      fill: #FFFFFF;\n",
              "    }\n",
              "  </style>\n",
              "\n",
              "      <script>\n",
              "        const buttonEl =\n",
              "          document.querySelector('#df-3b26cb56-cf09-462a-9857-542f2b07d197 button.colab-df-convert');\n",
              "        buttonEl.style.display =\n",
              "          google.colab.kernel.accessAllowed ? 'block' : 'none';\n",
              "\n",
              "        async function convertToInteractive(key) {\n",
              "          const element = document.querySelector('#df-3b26cb56-cf09-462a-9857-542f2b07d197');\n",
              "          const dataTable =\n",
              "            await google.colab.kernel.invokeFunction('convertToInteractive',\n",
              "                                                     [key], {});\n",
              "          if (!dataTable) return;\n",
              "\n",
              "          const docLinkHtml = 'Like what you see? Visit the ' +\n",
              "            '<a target=\"_blank\" href=https://colab.research.google.com/notebooks/data_table.ipynb>data table notebook</a>'\n",
              "            + ' to learn more about interactive tables.';\n",
              "          element.innerHTML = '';\n",
              "          dataTable['output_type'] = 'display_data';\n",
              "          await google.colab.output.renderOutput(dataTable, element);\n",
              "          const docLink = document.createElement('div');\n",
              "          docLink.innerHTML = docLinkHtml;\n",
              "          element.appendChild(docLink);\n",
              "        }\n",
              "      </script>\n",
              "    </div>\n",
              "  </div>\n",
              "  "
            ]
          },
          "metadata": {},
          "execution_count": 25
        }
      ]
    },
    {
      "cell_type": "code",
      "source": [
        "x = df_2.iloc[:, :-1].values\n",
        "print(x)\n",
        "y = df_2.iloc[:, 1].values\n",
        "print(y)"
      ],
      "metadata": {
        "id": "8hqqbtUIvV6P",
        "colab": {
          "base_uri": "https://localhost:8080/"
        },
        "outputId": "eb8f281c-eead-486e-f7c9-c7d2b7572e61"
      },
      "execution_count": null,
      "outputs": [
        {
          "output_type": "stream",
          "name": "stdout",
          "text": [
            "[[2013]\n",
            " [2014]\n",
            " [2015]\n",
            " [2016]\n",
            " [2017]\n",
            " [2018]\n",
            " [2019]\n",
            " [2020]\n",
            " [2021]\n",
            " [2022]]\n",
            "[1051146.0 1194059.0 1294275.0 1389472.0 1420327.0 1317083.0 1167385.0\n",
            " 758903.0 836090.0 627388.0]\n"
          ]
        }
      ]
    },
    {
      "cell_type": "code",
      "source": [
        "x_train, x_test, y_train, y_test = train_test_split(x, y, test_size = 3/10, random_state = 0, shuffle = False)"
      ],
      "metadata": {
        "id": "8ejfNaFYZXmB"
      },
      "execution_count": null,
      "outputs": []
    },
    {
      "cell_type": "code",
      "source": [
        "y_train"
      ],
      "metadata": {
        "colab": {
          "base_uri": "https://localhost:8080/"
        },
        "id": "Vg-GH7U7vBpy",
        "outputId": "9d98c711-b956-4946-9e70-f62f8c940855"
      },
      "execution_count": null,
      "outputs": [
        {
          "output_type": "execute_result",
          "data": {
            "text/plain": [
              "array([1051146.0, 1194059.0, 1294275.0, 1389472.0, 1420327.0, 1317083.0,\n",
              "       1167385.0], dtype=object)"
            ]
          },
          "metadata": {},
          "execution_count": 50
        }
      ]
    },
    {
      "cell_type": "code",
      "source": [
        "sc_x = StandardScaler()\n",
        "\n",
        "x_train = sc_x.fit_transform(x_train)\n",
        "x_test = sc_x.fit_transform(x_test)"
      ],
      "metadata": {
        "id": "uHblikLciV_x"
      },
      "execution_count": null,
      "outputs": []
    },
    {
      "cell_type": "code",
      "source": [
        "from sklearn.preprocessing import PolynomialFeatures\n",
        "from sklearn.linear_model import LinearRegression\n",
        "\n",
        "poly = PolynomialFeatures(degree=2, include_bias=False)\n",
        "\n",
        "poly_features = poly.fit_transform(x_train.reshape(-1, 1))\n",
        "\n",
        "poly_reg_model = LinearRegression()\n",
        "\n",
        "poly_reg_model.fit(poly_features, y_train)\n",
        "\n",
        "y_predicted = poly_reg_model.predict(poly_features)"
      ],
      "metadata": {
        "id": "F5964hMfhJZS"
      },
      "execution_count": null,
      "outputs": []
    },
    {
      "cell_type": "code",
      "source": [
        "x_grid = np.arange(min(x), max(x), 1)\n",
        "x_grid = x_grid.reshape(len(x_grid), 1)\n",
        "plt.scatter(x, y, color = \"red\")\n",
        "plt.plot(x_train, y_predicted, color = \"blue\")\n",
        "plt.show()"
      ],
      "metadata": {
        "colab": {
          "base_uri": "https://localhost:8080/",
          "height": 445
        },
        "id": "am2BpkjLril0",
        "outputId": "ceb10ecd-aeba-4869-9eb6-48e4d731b029"
      },
      "execution_count": null,
      "outputs": [
        {
          "output_type": "display_data",
          "data": {
            "text/plain": [
              "<Figure size 640x480 with 1 Axes>"
            ],
            "image/png": "[encoded data removed]"
          },
          "metadata": {}
        }
      ]
    },
    {
      "cell_type": "code",
      "source": [
        "coef = poly_reg_model.coef_\n",
        "coef"
      ],
      "metadata": {
        "colab": {
          "base_uri": "https://localhost:8080/"
        },
        "id": "yefvWVWN7eRY",
        "outputId": "0d500938-ec87-4b74-f567-46550e2a3dfa"
      },
      "execution_count": null,
      "outputs": [
        {
          "output_type": "execute_result",
          "data": {
            "text/plain": [
              "array([ 1.25259615e+08, -3.10599881e+04])"
            ]
          },
          "metadata": {},
          "execution_count": 83
        }
      ]
    },
    {
      "cell_type": "code",
      "source": [
        "poli = lambda x : coef[0] + coef[1] * x + coef[2] * x**2 "
      ],
      "metadata": {
        "id": "J09OI7RjpJqo"
      },
      "execution_count": null,
      "outputs": []
    }
  ]
}