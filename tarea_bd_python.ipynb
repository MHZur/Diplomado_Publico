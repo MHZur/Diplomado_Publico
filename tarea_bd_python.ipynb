{
  "nbformat": 4,
  "nbformat_minor": 0,
  "metadata": {
    "colab": {
      "provenance": [],
      "authorship_tag": "ABX9TyN1nM8a1suQ+61cSqEIRc7x",
      "include_colab_link": true
    },
    "kernelspec": {
      "name": "python3",
      "display_name": "Python 3"
    },
    "language_info": {
      "name": "python"
    }
  },
  "cells": [
    {
      "cell_type": "markdown",
      "metadata": {
        "id": "view-in-github",
        "colab_type": "text"
      },
      "source": [
        "<a href=\"https://colab.research.google.com/github/MHZur/Diplomado_Publico/blob/main/tarea_bd_python.ipynb\" target=\"_parent\"><img src=\"https://colab.research.google.com/assets/colab-badge.svg\" alt=\"Open In Colab\"/></a>"
      ]
    },
    {
      "cell_type": "markdown",
      "source": [
        "* Descripción del dataset: \n",
        "Vtas de vehículos en Estados Unidos, son 43 marcas y 445 modelos que abarcan el periodo de 2013 a 2022. (Última actualización hace 4 meses)\n",
        "\n",
        "Data source: www.goodcarbadcar.net, www.marklines.com/en/vehicle_sales/index\n",
        "\n",
        "* Objetivo: Realizar regresión con datos del 2013 al 2018 y comparar contra los datos de 2019 en adelante. "
      ],
      "metadata": {
        "id": "lybpUqsa1UdI"
      }
    },
    {
      "cell_type": "markdown",
      "source": [
        "### Bibliotecas"
      ],
      "metadata": {
        "id": "DvdI6e1dyyXC"
      }
    },
    {
      "cell_type": "code",
      "execution_count": null,
      "metadata": {
        "id": "UCV8U5Z0yH3L"
      },
      "outputs": [],
      "source": [
        "import pandas as pd\n",
        "import numpy as np\n",
        "import matplotlib.pyplot as plt\n",
        "from google.colab import drive\n",
        "from sklearn.preprocessing import StandardScaler\n",
        "from sklearn.model_selection import train_test_split\n",
        "from sklearn.linear_model import LinearRegression"
      ]
    },
    {
      "cell_type": "markdown",
      "source": [
        "### Conexión a drive y lectura de archivo"
      ],
      "metadata": {
        "id": "xGJos8gczDwJ"
      }
    },
    {
      "cell_type": "code",
      "source": [
        "drive.mount(\"/content/drive\")\n",
        "%cd /content/drive/My \\Drive/Diplomado\n",
        "df = pd.read_csv(\"us_car_model_sales_2013_2022.csv\")\n"
      ],
      "metadata": {
        "colab": {
          "base_uri": "https://localhost:8080/"
        },
        "id": "isWWjGoezCrq",
        "outputId": "50c8d92e-543d-435a-a52a-18dd7a18159d"
      },
      "execution_count": null,
      "outputs": [
        {
          "output_type": "stream",
          "name": "stdout",
          "text": [
            "Drive already mounted at /content/drive; to attempt to forcibly remount, call drive.mount(\"/content/drive\", force_remount=True).\n",
            "/content/drive/My Drive/Diplomado\n"
          ]
        }
      ]
    },
    {
      "cell_type": "code",
      "source": [
        "df.head(10)"
      ],
      "metadata": {
        "colab": {
          "base_uri": "https://localhost:8080/",
          "height": 363
        },
        "id": "VUdVFzTozU5M",
        "outputId": "6f0bc7bd-1805-40a4-c200-b2e0fd1c8462"
      },
      "execution_count": null,
      "outputs": [
        {
          "output_type": "execute_result",
          "data": {
            "text/plain": [
              "  Maker/Brand    Maker_Brand   2013   2014   2015   2016   2017     2018  \\\n",
              "0       Acura      Acura ILX  20430  17854  18531  14597  11757  11273.0   \n",
              "1       Acura  Acura Integra      0      0      0      0      0      0.0   \n",
              "2       Acura       Acura TL  24318  10616     88      0      0      0.0   \n",
              "3       Acura      Acura TLX      0  19127  47080  37156  34846  30468.0   \n",
              "4       Acura      Acura TSX  17484   6287     35      4      0      0.0   \n",
              "5       Acura       Acura RL      0      0      0      0      0      0.0   \n",
              "6       Acura      Acura RLX      0   3413   2195   1478   1237   1931.0   \n",
              "7       Acura   Acura RLX/RL   5053      0      0      0      0      0.0   \n",
              "8       Acura      Acura NSX      0      0      0    269    581    170.0   \n",
              "9       Acura      Acura RDX  44750  44865  51026  52361  51295  63580.0   \n",
              "\n",
              "      2019     2020     2021   2022  \n",
              "0  14685.0  13414.0  13900.0   6296  \n",
              "1      0.0      0.0      0.0  13027  \n",
              "2      0.0      0.0      0.0      0  \n",
              "3  26548.0  21785.0  26100.0  11508  \n",
              "4      0.0      0.0      0.0      0  \n",
              "5      0.0      0.0      0.0      0  \n",
              "6   1019.0   1055.0    214.0      3  \n",
              "7      0.0      0.0      0.0      0  \n",
              "8    238.0    128.0    124.0    298  \n",
              "9  62876.0  52785.0  57013.0  24749  "
            ],
            "text/html": [
              "\n",
              "  <div id=\"df-771847da-8da7-43c3-85c4-bca30e15e872\">\n",
              "    <div class=\"colab-df-container\">\n",
              "      <div>\n",
              "<style scoped>\n",
              "    .dataframe tbody tr th:only-of-type {\n",
              "        vertical-align: middle;\n",
              "    }\n",
              "\n",
              "    .dataframe tbody tr th {\n",
              "        vertical-align: top;\n",
              "    }\n",
              "\n",
              "    .dataframe thead th {\n",
              "        text-align: right;\n",
              "    }\n",
              "</style>\n",
              "<table border=\"1\" class=\"dataframe\">\n",
              "  <thead>\n",
              "    <tr style=\"text-align: right;\">\n",
              "      <th></th>\n",
              "      <th>Maker/Brand</th>\n",
              "      <th>Maker_Brand</th>\n",
              "      <th>2013</th>\n",
              "      <th>2014</th>\n",
              "      <th>2015</th>\n",
              "      <th>2016</th>\n",
              "      <th>2017</th>\n",
              "      <th>2018</th>\n",
              "      <th>2019</th>\n",
              "      <th>2020</th>\n",
              "      <th>2021</th>\n",
              "      <th>2022</th>\n",
              "    </tr>\n",
              "  </thead>\n",
              "  <tbody>\n",
              "    <tr>\n",
              "      <th>0</th>\n",
              "      <td>Acura</td>\n",
              "      <td>Acura ILX</td>\n",
              "      <td>20430</td>\n",
              "      <td>17854</td>\n",
              "      <td>18531</td>\n",
              "      <td>14597</td>\n",
              "      <td>11757</td>\n",
              "      <td>11273.0</td>\n",
              "      <td>14685.0</td>\n",
              "      <td>13414.0</td>\n",
              "      <td>13900.0</td>\n",
              "      <td>6296</td>\n",
              "    </tr>\n",
              "    <tr>\n",
              "      <th>1</th>\n",
              "      <td>Acura</td>\n",
              "      <td>Acura Integra</td>\n",
              "      <td>0</td>\n",
              "      <td>0</td>\n",
              "      <td>0</td>\n",
              "      <td>0</td>\n",
              "      <td>0</td>\n",
              "      <td>0.0</td>\n",
              "      <td>0.0</td>\n",
              "      <td>0.0</td>\n",
              "      <td>0.0</td>\n",
              "      <td>13027</td>\n",
              "    </tr>\n",
              "    <tr>\n",
              "      <th>2</th>\n",
              "      <td>Acura</td>\n",
              "      <td>Acura TL</td>\n",
              "      <td>24318</td>\n",
              "      <td>10616</td>\n",
              "      <td>88</td>\n",
              "      <td>0</td>\n",
              "      <td>0</td>\n",
              "      <td>0.0</td>\n",
              "      <td>0.0</td>\n",
              "      <td>0.0</td>\n",
              "      <td>0.0</td>\n",
              "      <td>0</td>\n",
              "    </tr>\n",
              "    <tr>\n",
              "      <th>3</th>\n",
              "      <td>Acura</td>\n",
              "      <td>Acura TLX</td>\n",
              "      <td>0</td>\n",
              "      <td>19127</td>\n",
              "      <td>47080</td>\n",
              "      <td>37156</td>\n",
              "      <td>34846</td>\n",
              "      <td>30468.0</td>\n",
              "      <td>26548.0</td>\n",
              "      <td>21785.0</td>\n",
              "      <td>26100.0</td>\n",
              "      <td>11508</td>\n",
              "    </tr>\n",
              "    <tr>\n",
              "      <th>4</th>\n",
              "      <td>Acura</td>\n",
              "      <td>Acura TSX</td>\n",
              "      <td>17484</td>\n",
              "      <td>6287</td>\n",
              "      <td>35</td>\n",
              "      <td>4</td>\n",
              "      <td>0</td>\n",
              "      <td>0.0</td>\n",
              "      <td>0.0</td>\n",
              "      <td>0.0</td>\n",
              "      <td>0.0</td>\n",
              "      <td>0</td>\n",
              "    </tr>\n",
              "    <tr>\n",
              "      <th>5</th>\n",
              "      <td>Acura</td>\n",
              "      <td>Acura RL</td>\n",
              "      <td>0</td>\n",
              "      <td>0</td>\n",
              "      <td>0</td>\n",
              "      <td>0</td>\n",
              "      <td>0</td>\n",
              "      <td>0.0</td>\n",
              "      <td>0.0</td>\n",
              "      <td>0.0</td>\n",
              "      <td>0.0</td>\n",
              "      <td>0</td>\n",
              "    </tr>\n",
              "    <tr>\n",
              "      <th>6</th>\n",
              "      <td>Acura</td>\n",
              "      <td>Acura RLX</td>\n",
              "      <td>0</td>\n",
              "      <td>3413</td>\n",
              "      <td>2195</td>\n",
              "      <td>1478</td>\n",
              "      <td>1237</td>\n",
              "      <td>1931.0</td>\n",
              "      <td>1019.0</td>\n",
              "      <td>1055.0</td>\n",
              "      <td>214.0</td>\n",
              "      <td>3</td>\n",
              "    </tr>\n",
              "    <tr>\n",
              "      <th>7</th>\n",
              "      <td>Acura</td>\n",
              "      <td>Acura RLX/RL</td>\n",
              "      <td>5053</td>\n",
              "      <td>0</td>\n",
              "      <td>0</td>\n",
              "      <td>0</td>\n",
              "      <td>0</td>\n",
              "      <td>0.0</td>\n",
              "      <td>0.0</td>\n",
              "      <td>0.0</td>\n",
              "      <td>0.0</td>\n",
              "      <td>0</td>\n",
              "    </tr>\n",
              "    <tr>\n",
              "      <th>8</th>\n",
              "      <td>Acura</td>\n",
              "      <td>Acura NSX</td>\n",
              "      <td>0</td>\n",
              "      <td>0</td>\n",
              "      <td>0</td>\n",
              "      <td>269</td>\n",
              "      <td>581</td>\n",
              "      <td>170.0</td>\n",
              "      <td>238.0</td>\n",
              "      <td>128.0</td>\n",
              "      <td>124.0</td>\n",
              "      <td>298</td>\n",
              "    </tr>\n",
              "    <tr>\n",
              "      <th>9</th>\n",
              "      <td>Acura</td>\n",
              "      <td>Acura RDX</td>\n",
              "      <td>44750</td>\n",
              "      <td>44865</td>\n",
              "      <td>51026</td>\n",
              "      <td>52361</td>\n",
              "      <td>51295</td>\n",
              "      <td>63580.0</td>\n",
              "      <td>62876.0</td>\n",
              "      <td>52785.0</td>\n",
              "      <td>57013.0</td>\n",
              "      <td>24749</td>\n",
              "    </tr>\n",
              "  </tbody>\n",
              "</table>\n",
              "</div>\n",
              "      <button class=\"colab-df-convert\" onclick=\"convertToInteractive('df-771847da-8da7-43c3-85c4-bca30e15e872')\"\n",
              "              title=\"Convert this dataframe to an interactive table.\"\n",
              "              style=\"display:none;\">\n",
              "        \n",
              "  <svg xmlns=\"http://www.w3.org/2000/svg\" height=\"24px\"viewBox=\"0 0 24 24\"\n",
              "       width=\"24px\">\n",
              "    <path d=\"M0 0h24v24H0V0z\" fill=\"none\"/>\n",
              "    <path d=\"M18.56 5.44l.94 2.06.94-2.06 2.06-.94-2.06-.94-.94-2.06-.94 2.06-2.06.94zm-11 1L8.5 8.5l.94-2.06 2.06-.94-2.06-.94L8.5 2.5l-.94 2.06-2.06.94zm10 10l.94 2.06.94-2.06 2.06-.94-2.06-.94-.94-2.06-.94 2.06-2.06.94z\"/><path d=\"M17.41 7.96l-1.37-1.37c-.4-.4-.92-.59-1.43-.59-.52 0-1.04.2-1.43.59L10.3 9.45l-7.72 7.72c-.78.78-.78 2.05 0 2.83L4 21.41c.39.39.9.59 1.41.59.51 0 1.02-.2 1.41-.59l7.78-7.78 2.81-2.81c.8-.78.8-2.07 0-2.86zM5.41 20L4 18.59l7.72-7.72 1.47 1.35L5.41 20z\"/>\n",
              "  </svg>\n",
              "      </button>\n",
              "      \n",
              "  <style>\n",
              "    .colab-df-container {\n",
              "      display:flex;\n",
              "      flex-wrap:wrap;\n",
              "      gap: 12px;\n",
              "    }\n",
              "\n",
              "    .colab-df-convert {\n",
              "      background-color: #E8F0FE;\n",
              "      border: none;\n",
              "      border-radius: 50%;\n",
              "      cursor: pointer;\n",
              "      display: none;\n",
              "      fill: #1967D2;\n",
              "      height: 32px;\n",
              "      padding: 0 0 0 0;\n",
              "      width: 32px;\n",
              "    }\n",
              "\n",
              "    .colab-df-convert:hover {\n",
              "      background-color: #E2EBFA;\n",
              "      box-shadow: 0px 1px 2px rgba(60, 64, 67, 0.3), 0px 1px 3px 1px rgba(60, 64, 67, 0.15);\n",
              "      fill: #174EA6;\n",
              "    }\n",
              "\n",
              "    [theme=dark] .colab-df-convert {\n",
              "      background-color: #3B4455;\n",
              "      fill: #D2E3FC;\n",
              "    }\n",
              "\n",
              "    [theme=dark] .colab-df-convert:hover {\n",
              "      background-color: #434B5C;\n",
              "      box-shadow: 0px 1px 3px 1px rgba(0, 0, 0, 0.15);\n",
              "      filter: drop-shadow(0px 1px 2px rgba(0, 0, 0, 0.3));\n",
              "      fill: #FFFFFF;\n",
              "    }\n",
              "  </style>\n",
              "\n",
              "      <script>\n",
              "        const buttonEl =\n",
              "          document.querySelector('#df-771847da-8da7-43c3-85c4-bca30e15e872 button.colab-df-convert');\n",
              "        buttonEl.style.display =\n",
              "          google.colab.kernel.accessAllowed ? 'block' : 'none';\n",
              "\n",
              "        async function convertToInteractive(key) {\n",
              "          const element = document.querySelector('#df-771847da-8da7-43c3-85c4-bca30e15e872');\n",
              "          const dataTable =\n",
              "            await google.colab.kernel.invokeFunction('convertToInteractive',\n",
              "                                                     [key], {});\n",
              "          if (!dataTable) return;\n",
              "\n",
              "          const docLinkHtml = 'Like what you see? Visit the ' +\n",
              "            '<a target=\"_blank\" href=https://colab.research.google.com/notebooks/data_table.ipynb>data table notebook</a>'\n",
              "            + ' to learn more about interactive tables.';\n",
              "          element.innerHTML = '';\n",
              "          dataTable['output_type'] = 'display_data';\n",
              "          await google.colab.output.renderOutput(dataTable, element);\n",
              "          const docLink = document.createElement('div');\n",
              "          docLink.innerHTML = docLinkHtml;\n",
              "          element.appendChild(docLink);\n",
              "        }\n",
              "      </script>\n",
              "    </div>\n",
              "  </div>\n",
              "  "
            ]
          },
          "metadata": {},
          "execution_count": 21
        }
      ]
    },
    {
      "cell_type": "code",
      "source": [
        "df.shape[0]"
      ],
      "metadata": {
        "colab": {
          "base_uri": "https://localhost:8080/"
        },
        "id": "Tvma-WwoZKUF",
        "outputId": "7d1b57ff-1327-4951-d53c-c99d1ccadd22"
      },
      "execution_count": null,
      "outputs": [
        {
          "output_type": "execute_result",
          "data": {
            "text/plain": [
              "445"
            ]
          },
          "metadata": {},
          "execution_count": 22
        }
      ]
    },
    {
      "cell_type": "code",
      "source": [
        "df[\"Maker/Brand\"].unique()"
      ],
      "metadata": {
        "colab": {
          "base_uri": "https://localhost:8080/"
        },
        "id": "avMgfAo20lLc",
        "outputId": "8535b745-a297-45a1-9771-defe5dd9a89c"
      },
      "execution_count": null,
      "outputs": [
        {
          "output_type": "execute_result",
          "data": {
            "text/plain": [
              "array(['Acura', 'Alfa Romeo', 'Aston Martin', 'Audi', 'Bentley', 'BMW',\n",
              "       'Buick', 'Cadillac', 'Chevrolet', 'Chrysler', 'Dodge', 'Ferrari',\n",
              "       'Fiat', 'Ford', 'GMC', 'Honda', 'Hyundai', 'Infiniti', 'Jaguar',\n",
              "       'Jeep', 'Kia', 'Lamborghini', 'Lexus', 'Lincoln', 'Lucid Motors',\n",
              "       'Maserati', 'Mazda', 'Mercedes0Benz', 'MINI', 'Mitsubishi',\n",
              "       'Nissan', 'Polestar', 'Porsche', 'Ram', 'Rivian', 'Scion', 'smart',\n",
              "       'Subaru', 'Suzuki', 'Tesla', 'Toyota', 'Volvo', 'VW'], dtype=object)"
            ]
          },
          "metadata": {},
          "execution_count": 23
        }
      ]
    },
    {
      "cell_type": "code",
      "source": [
        "# Remplazamos los ceros por NAN's para hacer el filtrado de esos registros.\n",
        "\n",
        "df.replace({0:np.nan}, inplace = True)\n",
        "\n",
        "print(df)\n",
        "\n",
        "df.dropna(axis = 0, how = 'any', inplace = True)\n",
        "\n",
        "print(df)"
      ],
      "metadata": {
        "colab": {
          "base_uri": "https://localhost:8080/"
        },
        "id": "MORFQJA91H4Q",
        "outputId": "ceadf30d-b400-4f09-e376-58109e758f3b"
      },
      "execution_count": null,
      "outputs": [
        {
          "output_type": "stream",
          "name": "stdout",
          "text": [
            "    Maker/Brand    Maker_Brand     2013     2014     2015     2016     2017  \\\n",
            "0         Acura      Acura ILX  20430.0  17854.0  18531.0  14597.0  11757.0   \n",
            "1         Acura  Acura Integra      NaN      NaN      NaN      NaN      NaN   \n",
            "2         Acura       Acura TL  24318.0  10616.0     88.0      NaN      NaN   \n",
            "3         Acura      Acura TLX      NaN  19127.0  47080.0  37156.0  34846.0   \n",
            "4         Acura      Acura TSX  17484.0   6287.0     35.0      4.0      NaN   \n",
            "..          ...            ...      ...      ...      ...      ...      ...   \n",
            "440          VW        VW ID.4      NaN      NaN      NaN      NaN      NaN   \n",
            "441          VW        VW Taos      NaN      NaN      NaN      NaN      NaN   \n",
            "442          VW      VW Tiguan  30002.0  25121.0  35843.0  43638.0  46983.0   \n",
            "443          VW       VW Atlas      NaN      NaN      NaN      NaN  27119.0   \n",
            "444          VW     VW Touareg   8233.0   6961.0   7037.0   4223.0   3545.0   \n",
            "\n",
            "         2018      2019      2020      2021     2022  \n",
            "0     11273.0   14685.0   13414.0   13900.0   6296.0  \n",
            "1         NaN       NaN       NaN       NaN  13027.0  \n",
            "2         NaN       NaN       NaN       NaN      NaN  \n",
            "3     30468.0   26548.0   21785.0   26100.0  11508.0  \n",
            "4         NaN       NaN       NaN       NaN      NaN  \n",
            "..        ...       ...       ...       ...      ...  \n",
            "440       NaN       NaN       NaN   16742.0  20511.0  \n",
            "441       NaN       NaN       NaN   31682.0  59103.0  \n",
            "442  103022.0  109963.0  100705.0  109747.0  88577.0  \n",
            "443   59677.0   81508.0   87361.0  115687.0  82025.0  \n",
            "444    2022.0     160.0      54.0       6.0      NaN  \n",
            "\n",
            "[445 rows x 12 columns]\n",
            "    Maker/Brand          Maker_Brand      2013      2014      2015      2016  \\\n",
            "0         Acura            Acura ILX   20430.0   17854.0   18531.0   14597.0   \n",
            "9         Acura            Acura RDX   44750.0   44865.0   51026.0   52361.0   \n",
            "10        Acura            Acura MDX   53040.0   65603.0   58208.0   55495.0   \n",
            "16         Audi              Audi A3     857.0   22250.0   35984.0   31538.0   \n",
            "17         Audi              Audi A4   36744.0   33993.0   29013.0   34687.0   \n",
            "..          ...                  ...       ...       ...       ...       ...   \n",
            "431          VW              VW Golf   16023.0   16298.0   23489.0   17701.0   \n",
            "435          VW             VW Jetta  163793.0  160873.0  131109.0  121107.0   \n",
            "437          VW  VW Passat (Santana)  109652.0   96649.0   78207.0   73002.0   \n",
            "438          VW         VW Passat CC   15672.0    9995.0    6276.0    3237.0   \n",
            "442          VW            VW Tiguan   30002.0   25121.0   35843.0   43638.0   \n",
            "\n",
            "         2017      2018      2019      2020      2021     2022  \n",
            "0     11757.0   11273.0   14685.0   13414.0   13900.0   6296.0  \n",
            "9     51295.0   63580.0   62876.0   52785.0   57013.0  24749.0  \n",
            "10    54886.0   51512.0   52019.0   47816.0   60057.0  46425.0  \n",
            "16    23610.0   18305.0   10418.0    9937.0    2390.0   9788.0  \n",
            "17    34434.0   34566.0   26435.0   18341.0   16263.0  15239.0  \n",
            "..        ...       ...       ...       ...       ...      ...  \n",
            "431   17086.0    7996.0   10507.0   25858.0    9253.0   8425.0  \n",
            "435  115807.0   90805.0  100453.0   82663.0   61967.0  38260.0  \n",
            "437   60722.0   41401.0   14123.0   22964.0   24396.0   2419.0  \n",
            "438    1355.0     455.0      58.0      96.0       2.0      1.0  \n",
            "442   46983.0  103022.0  109963.0  100705.0  109747.0  88577.0  \n",
            "\n",
            "[172 rows x 12 columns]\n"
          ]
        }
      ]
    },
    {
      "cell_type": "code",
      "source": [
        "df = df[df[\"Maker/Brand\"] == \"VW\"]\n",
        "\n",
        "df"
      ],
      "metadata": {
        "colab": {
          "base_uri": "https://localhost:8080/",
          "height": 81
        },
        "id": "ViXHmU1BYd4v",
        "outputId": "31c36b4f-58aa-4f98-9fdf-24d4320794d8"
      },
      "execution_count": null,
      "outputs": [
        {
          "output_type": "execute_result",
          "data": {
            "text/plain": [
              "    Maker/Brand Maker_Brand      2013      2014      2015      2016      2017  \\\n",
              "435          VW    VW Jetta  163793.0  160873.0  131109.0  121107.0  115807.0   \n",
              "\n",
              "        2018      2019     2020     2021     2022  \n",
              "435  90805.0  100453.0  82663.0  61967.0  38260.0  "
            ],
            "text/html": [
              "\n",
              "  <div id=\"df-8c6e35f2-7c5d-4254-b5de-983d4719fda0\">\n",
              "    <div class=\"colab-df-container\">\n",
              "      <div>\n",
              "<style scoped>\n",
              "    .dataframe tbody tr th:only-of-type {\n",
              "        vertical-align: middle;\n",
              "    }\n",
              "\n",
              "    .dataframe tbody tr th {\n",
              "        vertical-align: top;\n",
              "    }\n",
              "\n",
              "    .dataframe thead th {\n",
              "        text-align: right;\n",
              "    }\n",
              "</style>\n",
              "<table border=\"1\" class=\"dataframe\">\n",
              "  <thead>\n",
              "    <tr style=\"text-align: right;\">\n",
              "      <th></th>\n",
              "      <th>Maker/Brand</th>\n",
              "      <th>Maker_Brand</th>\n",
              "      <th>2013</th>\n",
              "      <th>2014</th>\n",
              "      <th>2015</th>\n",
              "      <th>2016</th>\n",
              "      <th>2017</th>\n",
              "      <th>2018</th>\n",
              "      <th>2019</th>\n",
              "      <th>2020</th>\n",
              "      <th>2021</th>\n",
              "      <th>2022</th>\n",
              "    </tr>\n",
              "  </thead>\n",
              "  <tbody>\n",
              "    <tr>\n",
              "      <th>435</th>\n",
              "      <td>VW</td>\n",
              "      <td>VW Jetta</td>\n",
              "      <td>163793.0</td>\n",
              "      <td>160873.0</td>\n",
              "      <td>131109.0</td>\n",
              "      <td>121107.0</td>\n",
              "      <td>115807.0</td>\n",
              "      <td>90805.0</td>\n",
              "      <td>100453.0</td>\n",
              "      <td>82663.0</td>\n",
              "      <td>61967.0</td>\n",
              "      <td>38260.0</td>\n",
              "    </tr>\n",
              "  </tbody>\n",
              "</table>\n",
              "</div>\n",
              "      <button class=\"colab-df-convert\" onclick=\"convertToInteractive('df-8c6e35f2-7c5d-4254-b5de-983d4719fda0')\"\n",
              "              title=\"Convert this dataframe to an interactive table.\"\n",
              "              style=\"display:none;\">\n",
              "        \n",
              "  <svg xmlns=\"http://www.w3.org/2000/svg\" height=\"24px\"viewBox=\"0 0 24 24\"\n",
              "       width=\"24px\">\n",
              "    <path d=\"M0 0h24v24H0V0z\" fill=\"none\"/>\n",
              "    <path d=\"M18.56 5.44l.94 2.06.94-2.06 2.06-.94-2.06-.94-.94-2.06-.94 2.06-2.06.94zm-11 1L8.5 8.5l.94-2.06 2.06-.94-2.06-.94L8.5 2.5l-.94 2.06-2.06.94zm10 10l.94 2.06.94-2.06 2.06-.94-2.06-.94-.94-2.06-.94 2.06-2.06.94z\"/><path d=\"M17.41 7.96l-1.37-1.37c-.4-.4-.92-.59-1.43-.59-.52 0-1.04.2-1.43.59L10.3 9.45l-7.72 7.72c-.78.78-.78 2.05 0 2.83L4 21.41c.39.39.9.59 1.41.59.51 0 1.02-.2 1.41-.59l7.78-7.78 2.81-2.81c.8-.78.8-2.07 0-2.86zM5.41 20L4 18.59l7.72-7.72 1.47 1.35L5.41 20z\"/>\n",
              "  </svg>\n",
              "      </button>\n",
              "      \n",
              "  <style>\n",
              "    .colab-df-container {\n",
              "      display:flex;\n",
              "      flex-wrap:wrap;\n",
              "      gap: 12px;\n",
              "    }\n",
              "\n",
              "    .colab-df-convert {\n",
              "      background-color: #E8F0FE;\n",
              "      border: none;\n",
              "      border-radius: 50%;\n",
              "      cursor: pointer;\n",
              "      display: none;\n",
              "      fill: #1967D2;\n",
              "      height: 32px;\n",
              "      padding: 0 0 0 0;\n",
              "      width: 32px;\n",
              "    }\n",
              "\n",
              "    .colab-df-convert:hover {\n",
              "      background-color: #E2EBFA;\n",
              "      box-shadow: 0px 1px 2px rgba(60, 64, 67, 0.3), 0px 1px 3px 1px rgba(60, 64, 67, 0.15);\n",
              "      fill: #174EA6;\n",
              "    }\n",
              "\n",
              "    [theme=dark] .colab-df-convert {\n",
              "      background-color: #3B4455;\n",
              "      fill: #D2E3FC;\n",
              "    }\n",
              "\n",
              "    [theme=dark] .colab-df-convert:hover {\n",
              "      background-color: #434B5C;\n",
              "      box-shadow: 0px 1px 3px 1px rgba(0, 0, 0, 0.15);\n",
              "      filter: drop-shadow(0px 1px 2px rgba(0, 0, 0, 0.3));\n",
              "      fill: #FFFFFF;\n",
              "    }\n",
              "  </style>\n",
              "\n",
              "      <script>\n",
              "        const buttonEl =\n",
              "          document.querySelector('#df-8c6e35f2-7c5d-4254-b5de-983d4719fda0 button.colab-df-convert');\n",
              "        buttonEl.style.display =\n",
              "          google.colab.kernel.accessAllowed ? 'block' : 'none';\n",
              "\n",
              "        async function convertToInteractive(key) {\n",
              "          const element = document.querySelector('#df-8c6e35f2-7c5d-4254-b5de-983d4719fda0');\n",
              "          const dataTable =\n",
              "            await google.colab.kernel.invokeFunction('convertToInteractive',\n",
              "                                                     [key], {});\n",
              "          if (!dataTable) return;\n",
              "\n",
              "          const docLinkHtml = 'Like what you see? Visit the ' +\n",
              "            '<a target=\"_blank\" href=https://colab.research.google.com/notebooks/data_table.ipynb>data table notebook</a>'\n",
              "            + ' to learn more about interactive tables.';\n",
              "          element.innerHTML = '';\n",
              "          dataTable['output_type'] = 'display_data';\n",
              "          await google.colab.output.renderOutput(dataTable, element);\n",
              "          const docLink = document.createElement('div');\n",
              "          docLink.innerHTML = docLinkHtml;\n",
              "          element.appendChild(docLink);\n",
              "        }\n",
              "      </script>\n",
              "    </div>\n",
              "  </div>\n",
              "  "
            ]
          },
          "metadata": {},
          "execution_count": 230
        }
      ]
    },
    {
      "cell_type": "markdown",
      "source": [
        "### Regresión polinomial"
      ],
      "metadata": {
        "id": "i0hkHFpVboJE"
      }
    },
    {
      "cell_type": "code",
      "source": [
        "y = df.values[0][2:]\n",
        "y"
      ],
      "metadata": {
        "colab": {
          "base_uri": "https://localhost:8080/"
        },
        "id": "oknWfDD8ivlN",
        "outputId": "9abbb575-db57-41b4-9ba2-43ff559aa714"
      },
      "execution_count": null,
      "outputs": [
        {
          "output_type": "execute_result",
          "data": {
            "text/plain": [
              "array([163793.0, 160873.0, 131109.0, 121107.0, 115807.0, 90805.0,\n",
              "       100453.0, 82663.0, 61967.0, 38260.0], dtype=object)"
            ]
          },
          "metadata": {},
          "execution_count": 231
        }
      ]
    },
    {
      "cell_type": "code",
      "source": [
        "x = df.columns.to_list()[2:]\n",
        "x = list(map(int, x))\n",
        "x"
      ],
      "metadata": {
        "colab": {
          "base_uri": "https://localhost:8080/"
        },
        "id": "aranyrT-bGnb",
        "outputId": "0553de59-7147-4b14-c8c3-088de672b8d2"
      },
      "execution_count": null,
      "outputs": [
        {
          "output_type": "execute_result",
          "data": {
            "text/plain": [
              "[2013, 2014, 2015, 2016, 2017, 2018, 2019, 2020, 2021, 2022]"
            ]
          },
          "metadata": {},
          "execution_count": 232
        }
      ]
    },
    {
      "cell_type": "code",
      "source": [
        "df_2 = pd.DataFrame({\"x\" : x, \"y\" : y})\n",
        "df_2"
      ],
      "metadata": {
        "colab": {
          "base_uri": "https://localhost:8080/",
          "height": 363
        },
        "id": "J2G2qQdujNv7",
        "outputId": "0b0f7f8d-dd92-4afe-fe42-02220be67c60"
      },
      "execution_count": null,
      "outputs": [
        {
          "output_type": "execute_result",
          "data": {
            "text/plain": [
              "      x         y\n",
              "0  2013  163793.0\n",
              "1  2014  160873.0\n",
              "2  2015  131109.0\n",
              "3  2016  121107.0\n",
              "4  2017  115807.0\n",
              "5  2018   90805.0\n",
              "6  2019  100453.0\n",
              "7  2020   82663.0\n",
              "8  2021   61967.0\n",
              "9  2022   38260.0"
            ],
            "text/html": [
              "\n",
              "  <div id=\"df-f439bfc5-f0b3-45f3-a113-72055588a10a\">\n",
              "    <div class=\"colab-df-container\">\n",
              "      <div>\n",
              "<style scoped>\n",
              "    .dataframe tbody tr th:only-of-type {\n",
              "        vertical-align: middle;\n",
              "    }\n",
              "\n",
              "    .dataframe tbody tr th {\n",
              "        vertical-align: top;\n",
              "    }\n",
              "\n",
              "    .dataframe thead th {\n",
              "        text-align: right;\n",
              "    }\n",
              "</style>\n",
              "<table border=\"1\" class=\"dataframe\">\n",
              "  <thead>\n",
              "    <tr style=\"text-align: right;\">\n",
              "      <th></th>\n",
              "      <th>x</th>\n",
              "      <th>y</th>\n",
              "    </tr>\n",
              "  </thead>\n",
              "  <tbody>\n",
              "    <tr>\n",
              "      <th>0</th>\n",
              "      <td>2013</td>\n",
              "      <td>163793.0</td>\n",
              "    </tr>\n",
              "    <tr>\n",
              "      <th>1</th>\n",
              "      <td>2014</td>\n",
              "      <td>160873.0</td>\n",
              "    </tr>\n",
              "    <tr>\n",
              "      <th>2</th>\n",
              "      <td>2015</td>\n",
              "      <td>131109.0</td>\n",
              "    </tr>\n",
              "    <tr>\n",
              "      <th>3</th>\n",
              "      <td>2016</td>\n",
              "      <td>121107.0</td>\n",
              "    </tr>\n",
              "    <tr>\n",
              "      <th>4</th>\n",
              "      <td>2017</td>\n",
              "      <td>115807.0</td>\n",
              "    </tr>\n",
              "    <tr>\n",
              "      <th>5</th>\n",
              "      <td>2018</td>\n",
              "      <td>90805.0</td>\n",
              "    </tr>\n",
              "    <tr>\n",
              "      <th>6</th>\n",
              "      <td>2019</td>\n",
              "      <td>100453.0</td>\n",
              "    </tr>\n",
              "    <tr>\n",
              "      <th>7</th>\n",
              "      <td>2020</td>\n",
              "      <td>82663.0</td>\n",
              "    </tr>\n",
              "    <tr>\n",
              "      <th>8</th>\n",
              "      <td>2021</td>\n",
              "      <td>61967.0</td>\n",
              "    </tr>\n",
              "    <tr>\n",
              "      <th>9</th>\n",
              "      <td>2022</td>\n",
              "      <td>38260.0</td>\n",
              "    </tr>\n",
              "  </tbody>\n",
              "</table>\n",
              "</div>\n",
              "      <button class=\"colab-df-convert\" onclick=\"convertToInteractive('df-f439bfc5-f0b3-45f3-a113-72055588a10a')\"\n",
              "              title=\"Convert this dataframe to an interactive table.\"\n",
              "              style=\"display:none;\">\n",
              "        \n",
              "  <svg xmlns=\"http://www.w3.org/2000/svg\" height=\"24px\"viewBox=\"0 0 24 24\"\n",
              "       width=\"24px\">\n",
              "    <path d=\"M0 0h24v24H0V0z\" fill=\"none\"/>\n",
              "    <path d=\"M18.56 5.44l.94 2.06.94-2.06 2.06-.94-2.06-.94-.94-2.06-.94 2.06-2.06.94zm-11 1L8.5 8.5l.94-2.06 2.06-.94-2.06-.94L8.5 2.5l-.94 2.06-2.06.94zm10 10l.94 2.06.94-2.06 2.06-.94-2.06-.94-.94-2.06-.94 2.06-2.06.94z\"/><path d=\"M17.41 7.96l-1.37-1.37c-.4-.4-.92-.59-1.43-.59-.52 0-1.04.2-1.43.59L10.3 9.45l-7.72 7.72c-.78.78-.78 2.05 0 2.83L4 21.41c.39.39.9.59 1.41.59.51 0 1.02-.2 1.41-.59l7.78-7.78 2.81-2.81c.8-.78.8-2.07 0-2.86zM5.41 20L4 18.59l7.72-7.72 1.47 1.35L5.41 20z\"/>\n",
              "  </svg>\n",
              "      </button>\n",
              "      \n",
              "  <style>\n",
              "    .colab-df-container {\n",
              "      display:flex;\n",
              "      flex-wrap:wrap;\n",
              "      gap: 12px;\n",
              "    }\n",
              "\n",
              "    .colab-df-convert {\n",
              "      background-color: #E8F0FE;\n",
              "      border: none;\n",
              "      border-radius: 50%;\n",
              "      cursor: pointer;\n",
              "      display: none;\n",
              "      fill: #1967D2;\n",
              "      height: 32px;\n",
              "      padding: 0 0 0 0;\n",
              "      width: 32px;\n",
              "    }\n",
              "\n",
              "    .colab-df-convert:hover {\n",
              "      background-color: #E2EBFA;\n",
              "      box-shadow: 0px 1px 2px rgba(60, 64, 67, 0.3), 0px 1px 3px 1px rgba(60, 64, 67, 0.15);\n",
              "      fill: #174EA6;\n",
              "    }\n",
              "\n",
              "    [theme=dark] .colab-df-convert {\n",
              "      background-color: #3B4455;\n",
              "      fill: #D2E3FC;\n",
              "    }\n",
              "\n",
              "    [theme=dark] .colab-df-convert:hover {\n",
              "      background-color: #434B5C;\n",
              "      box-shadow: 0px 1px 3px 1px rgba(0, 0, 0, 0.15);\n",
              "      filter: drop-shadow(0px 1px 2px rgba(0, 0, 0, 0.3));\n",
              "      fill: #FFFFFF;\n",
              "    }\n",
              "  </style>\n",
              "\n",
              "      <script>\n",
              "        const buttonEl =\n",
              "          document.querySelector('#df-f439bfc5-f0b3-45f3-a113-72055588a10a button.colab-df-convert');\n",
              "        buttonEl.style.display =\n",
              "          google.colab.kernel.accessAllowed ? 'block' : 'none';\n",
              "\n",
              "        async function convertToInteractive(key) {\n",
              "          const element = document.querySelector('#df-f439bfc5-f0b3-45f3-a113-72055588a10a');\n",
              "          const dataTable =\n",
              "            await google.colab.kernel.invokeFunction('convertToInteractive',\n",
              "                                                     [key], {});\n",
              "          if (!dataTable) return;\n",
              "\n",
              "          const docLinkHtml = 'Like what you see? Visit the ' +\n",
              "            '<a target=\"_blank\" href=https://colab.research.google.com/notebooks/data_table.ipynb>data table notebook</a>'\n",
              "            + ' to learn more about interactive tables.';\n",
              "          element.innerHTML = '';\n",
              "          dataTable['output_type'] = 'display_data';\n",
              "          await google.colab.output.renderOutput(dataTable, element);\n",
              "          const docLink = document.createElement('div');\n",
              "          docLink.innerHTML = docLinkHtml;\n",
              "          element.appendChild(docLink);\n",
              "        }\n",
              "      </script>\n",
              "    </div>\n",
              "  </div>\n",
              "  "
            ]
          },
          "metadata": {},
          "execution_count": 233
        }
      ]
    },
    {
      "cell_type": "code",
      "source": [
        "x = df_2.iloc[:, :-1].values\n",
        "y = df_2.iloc[:, 1].values"
      ],
      "metadata": {
        "id": "8hqqbtUIvV6P"
      },
      "execution_count": null,
      "outputs": []
    },
    {
      "cell_type": "code",
      "source": [
        "x_train, x_test, y_train, y_test = train_test_split(x, y, test_size = 3/10, random_state = 0, shuffle = False)"
      ],
      "metadata": {
        "id": "8ejfNaFYZXmB"
      },
      "execution_count": null,
      "outputs": []
    },
    {
      "cell_type": "code",
      "source": [
        "x_train"
      ],
      "metadata": {
        "colab": {
          "base_uri": "https://localhost:8080/"
        },
        "id": "Vg-GH7U7vBpy",
        "outputId": "d0387feb-bec2-456d-9ee7-56650693cb7f"
      },
      "execution_count": null,
      "outputs": [
        {
          "output_type": "execute_result",
          "data": {
            "text/plain": [
              "array([[2013],\n",
              "       [2014],\n",
              "       [2015],\n",
              "       [2016],\n",
              "       [2017],\n",
              "       [2018],\n",
              "       [2019]])"
            ]
          },
          "metadata": {},
          "execution_count": 236
        }
      ]
    },
    {
      "cell_type": "code",
      "source": [
        "sc_x = StandardScaler()\n",
        "\n",
        "x_train = sc_x.fit_transform(x_train)\n",
        "x_test = sc_x.fit_transform(x_test)"
      ],
      "metadata": {
        "id": "uHblikLciV_x"
      },
      "execution_count": null,
      "outputs": []
    },
    {
      "cell_type": "code",
      "source": [
        "from sklearn.preprocessing import PolynomialFeatures\n",
        "from sklearn.linear_model import LinearRegression\n",
        "\n",
        "poly = PolynomialFeatures(degree=3, include_bias=False)\n",
        "\n",
        "poly_features = poly.fit_transform(x_train.reshape(-1, 1))\n",
        "\n",
        "poly_reg_model = LinearRegression()\n",
        "\n",
        "poly_reg_model.fit(poly_features, y_train)\n",
        "\n",
        "y_predicted = poly_reg_model.predict(poly_features)"
      ],
      "metadata": {
        "id": "F5964hMfhJZS"
      },
      "execution_count": null,
      "outputs": []
    },
    {
      "cell_type": "code",
      "source": [
        "x_grid = np.arange(min(x), max(x), 1)\n",
        "x_grid = x_grid.reshape(len(x_grid), 1)\n",
        "plt.scatter(x, y, color = \"red\")\n",
        "plt.plot(x_train, y_predicted, color = \"blue\")\n",
        "plt.show"
      ],
      "metadata": {
        "colab": {
          "base_uri": "https://localhost:8080/",
          "height": 447
        },
        "id": "am2BpkjLril0",
        "outputId": "a727d52a-c05b-44df-d0c9-eeedfc51b27f"
      },
      "execution_count": null,
      "outputs": [
        {
          "output_type": "execute_result",
          "data": {
            "text/plain": [
              "<function matplotlib.pyplot.show(close=None, block=None)>"
            ]
          },
          "metadata": {},
          "execution_count": 261
        },
        {
          "output_type": "display_data",
          "data": {
            "text/plain": [
              "<Figure size 640x480 with 1 Axes>"
            ],
            "image/png": "[encoded data removed]"
          },
          "metadata": {}
        }
      ]
    },
    {
      "cell_type": "code",
      "source": [
        "poly_reg_model.coef_"
      ],
      "metadata": {
        "colab": {
          "base_uri": "https://localhost:8080/"
        },
        "id": "yefvWVWN7eRY",
        "outputId": "4bf3c849-56ea-4b31-fd8c-113f24363dfb"
      },
      "execution_count": null,
      "outputs": [
        {
          "output_type": "execute_result",
          "data": {
            "text/plain": [
              "array([ 7.45666942e+09, -3.69989650e+06,  6.11944444e+02])"
            ]
          },
          "metadata": {},
          "execution_count": 265
        }
      ]
    }
  ]
}